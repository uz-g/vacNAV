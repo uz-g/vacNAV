{
 "cells": [
  {
   "cell_type": "code",
   "execution_count": 2,
   "metadata": {},
   "outputs": [
    {
     "name": "stdout",
     "output_type": "stream",
     "text": [
      "Requirement already satisfied: open-interpreter in ./.conda/lib/python3.11/site-packages (0.2.3)\n",
      "Requirement already satisfied: aifs<0.0.10,>=0.0.9 in ./.conda/lib/python3.11/site-packages (from open-interpreter) (0.0.9)\n",
      "Requirement already satisfied: astor<0.9.0,>=0.8.1 in ./.conda/lib/python3.11/site-packages (from open-interpreter) (0.8.1)\n",
      "Requirement already satisfied: fastapi<0.111.0,>=0.110.0 in ./.conda/lib/python3.11/site-packages (from open-interpreter) (0.110.0)\n",
      "Requirement already satisfied: git-python<2.0.0,>=1.0.3 in ./.conda/lib/python3.11/site-packages (from open-interpreter) (1.0.3)\n",
      "Requirement already satisfied: html2image<3.0.0.0,>=2.0.4.3 in ./.conda/lib/python3.11/site-packages (from open-interpreter) (2.0.4.3)\n",
      "Requirement already satisfied: inquirer<4.0.0,>=3.1.3 in ./.conda/lib/python3.11/site-packages (from open-interpreter) (3.2.4)\n",
      "Requirement already satisfied: ipykernel<7.0.0,>=6.26.0 in ./.conda/lib/python3.11/site-packages (from open-interpreter) (6.29.3)\n",
      "Requirement already satisfied: jupyter-client<9.0.0,>=8.6.0 in ./.conda/lib/python3.11/site-packages (from open-interpreter) (8.6.1)\n",
      "Requirement already satisfied: litellm<2.0.0,>=1.18.4 in ./.conda/lib/python3.11/site-packages (from open-interpreter) (1.32.9)\n",
      "Requirement already satisfied: matplotlib<4.0.0,>=3.8.2 in ./.conda/lib/python3.11/site-packages (from open-interpreter) (3.8.3)\n",
      "Requirement already satisfied: nltk<4.0.0,>=3.8.1 in ./.conda/lib/python3.11/site-packages (from open-interpreter) (3.8.1)\n",
      "Requirement already satisfied: platformdirs<5.0.0,>=4.2.0 in ./.conda/lib/python3.11/site-packages (from open-interpreter) (4.2.0)\n",
      "Requirement already satisfied: posthog<4.0.0,>=3.1.0 in ./.conda/lib/python3.11/site-packages (from open-interpreter) (3.5.0)\n",
      "Requirement already satisfied: prompt-toolkit<4.0.0,>=3.0.43 in ./.conda/lib/python3.11/site-packages (from open-interpreter) (3.0.43)\n",
      "Requirement already satisfied: psutil<6.0.0,>=5.9.6 in ./.conda/lib/python3.11/site-packages (from open-interpreter) (5.9.8)\n",
      "Requirement already satisfied: pyyaml<7.0.0,>=6.0.1 in ./.conda/lib/python3.11/site-packages (from open-interpreter) (6.0.1)\n",
      "Requirement already satisfied: rich<14.0.0,>=13.4.2 in ./.conda/lib/python3.11/site-packages (from open-interpreter) (13.7.1)\n",
      "Requirement already satisfied: send2trash<2.0.0,>=1.8.2 in ./.conda/lib/python3.11/site-packages (from open-interpreter) (1.8.2)\n",
      "Requirement already satisfied: six<2.0.0,>=1.16.0 in ./.conda/lib/python3.11/site-packages (from open-interpreter) (1.16.0)\n",
      "Requirement already satisfied: tiktoken<0.6.0,>=0.5.2 in ./.conda/lib/python3.11/site-packages (from open-interpreter) (0.5.2)\n",
      "Requirement already satisfied: tokentrim<0.2.0,>=0.1.13 in ./.conda/lib/python3.11/site-packages (from open-interpreter) (0.1.13)\n",
      "Requirement already satisfied: toml<0.11.0,>=0.10.2 in ./.conda/lib/python3.11/site-packages (from open-interpreter) (0.10.2)\n",
      "Requirement already satisfied: uvicorn<0.28.0,>=0.27.0 in ./.conda/lib/python3.11/site-packages (from open-interpreter) (0.27.1)\n",
      "Requirement already satisfied: wget<4.0,>=3.2 in ./.conda/lib/python3.11/site-packages (from open-interpreter) (3.2)\n",
      "Requirement already satisfied: chromadb<0.5.0,>=0.4.22 in ./.conda/lib/python3.11/site-packages (from aifs<0.0.10,>=0.0.9->open-interpreter) (0.4.24)\n",
      "Requirement already satisfied: unstructured<0.13.0,>=0.12.0 in ./.conda/lib/python3.11/site-packages (from aifs<0.0.10,>=0.0.9->open-interpreter) (0.12.6)\n",
      "Requirement already satisfied: pydantic!=1.8,!=1.8.1,!=2.0.0,!=2.0.1,!=2.1.0,<3.0.0,>=1.7.4 in ./.conda/lib/python3.11/site-packages (from fastapi<0.111.0,>=0.110.0->open-interpreter) (2.6.4)\n",
      "Requirement already satisfied: starlette<0.37.0,>=0.36.3 in ./.conda/lib/python3.11/site-packages (from fastapi<0.111.0,>=0.110.0->open-interpreter) (0.36.3)\n",
      "Requirement already satisfied: typing-extensions>=4.8.0 in ./.conda/lib/python3.11/site-packages (from fastapi<0.111.0,>=0.110.0->open-interpreter) (4.9.0)\n",
      "Requirement already satisfied: gitpython in ./.conda/lib/python3.11/site-packages (from git-python<2.0.0,>=1.0.3->open-interpreter) (3.1.42)\n",
      "Requirement already satisfied: requests in ./.conda/lib/python3.11/site-packages (from html2image<3.0.0.0,>=2.0.4.3->open-interpreter) (2.31.0)\n",
      "Requirement already satisfied: websocket-client<2.0.0,>=1.0.0 in ./.conda/lib/python3.11/site-packages (from html2image<3.0.0.0,>=2.0.4.3->open-interpreter) (1.7.0)\n",
      "Requirement already satisfied: blessed>=1.19.0 in ./.conda/lib/python3.11/site-packages (from inquirer<4.0.0,>=3.1.3->open-interpreter) (1.20.0)\n",
      "Requirement already satisfied: editor>=1.6.0 in ./.conda/lib/python3.11/site-packages (from inquirer<4.0.0,>=3.1.3->open-interpreter) (1.6.6)\n",
      "Requirement already satisfied: readchar>=3.0.6 in ./.conda/lib/python3.11/site-packages (from inquirer<4.0.0,>=3.1.3->open-interpreter) (4.0.6)\n",
      "Requirement already satisfied: appnope in ./.conda/lib/python3.11/site-packages (from ipykernel<7.0.0,>=6.26.0->open-interpreter) (0.1.4)\n",
      "Requirement already satisfied: comm>=0.1.1 in ./.conda/lib/python3.11/site-packages (from ipykernel<7.0.0,>=6.26.0->open-interpreter) (0.2.2)\n",
      "Requirement already satisfied: debugpy>=1.6.5 in ./.conda/lib/python3.11/site-packages (from ipykernel<7.0.0,>=6.26.0->open-interpreter) (1.6.7)\n",
      "Requirement already satisfied: ipython>=7.23.1 in ./.conda/lib/python3.11/site-packages (from ipykernel<7.0.0,>=6.26.0->open-interpreter) (8.22.2)\n",
      "Requirement already satisfied: jupyter-core!=5.0.*,>=4.12 in ./.conda/lib/python3.11/site-packages (from ipykernel<7.0.0,>=6.26.0->open-interpreter) (5.5.0)\n",
      "Requirement already satisfied: matplotlib-inline>=0.1 in ./.conda/lib/python3.11/site-packages (from ipykernel<7.0.0,>=6.26.0->open-interpreter) (0.1.6)\n",
      "Requirement already satisfied: nest-asyncio in ./.conda/lib/python3.11/site-packages (from ipykernel<7.0.0,>=6.26.0->open-interpreter) (1.6.0)\n",
      "Requirement already satisfied: packaging in ./.conda/lib/python3.11/site-packages (from ipykernel<7.0.0,>=6.26.0->open-interpreter) (23.2)\n",
      "Requirement already satisfied: pyzmq>=24 in ./.conda/lib/python3.11/site-packages (from ipykernel<7.0.0,>=6.26.0->open-interpreter) (25.1.2)\n",
      "Requirement already satisfied: tornado>=6.1 in ./.conda/lib/python3.11/site-packages (from ipykernel<7.0.0,>=6.26.0->open-interpreter) (6.3.3)\n",
      "Requirement already satisfied: traitlets>=5.4.0 in ./.conda/lib/python3.11/site-packages (from ipykernel<7.0.0,>=6.26.0->open-interpreter) (5.14.2)\n",
      "Requirement already satisfied: python-dateutil>=2.8.2 in ./.conda/lib/python3.11/site-packages (from jupyter-client<9.0.0,>=8.6.0->open-interpreter) (2.8.2)\n",
      "Requirement already satisfied: aiohttp in ./.conda/lib/python3.11/site-packages (from litellm<2.0.0,>=1.18.4->open-interpreter) (3.9.3)\n",
      "Requirement already satisfied: click in ./.conda/lib/python3.11/site-packages (from litellm<2.0.0,>=1.18.4->open-interpreter) (8.1.7)\n",
      "Requirement already satisfied: importlib-metadata>=6.8.0 in ./.conda/lib/python3.11/site-packages (from litellm<2.0.0,>=1.18.4->open-interpreter) (6.11.0)\n",
      "Requirement already satisfied: jinja2<4.0.0,>=3.1.2 in ./.conda/lib/python3.11/site-packages (from litellm<2.0.0,>=1.18.4->open-interpreter) (3.1.3)\n",
      "Requirement already satisfied: openai>=1.0.0 in ./.conda/lib/python3.11/site-packages (from litellm<2.0.0,>=1.18.4->open-interpreter) (1.14.2)\n",
      "Requirement already satisfied: python-dotenv>=0.2.0 in ./.conda/lib/python3.11/site-packages (from litellm<2.0.0,>=1.18.4->open-interpreter) (1.0.1)\n",
      "Requirement already satisfied: tokenizers in ./.conda/lib/python3.11/site-packages (from litellm<2.0.0,>=1.18.4->open-interpreter) (0.15.2)\n",
      "Requirement already satisfied: contourpy>=1.0.1 in ./.conda/lib/python3.11/site-packages (from matplotlib<4.0.0,>=3.8.2->open-interpreter) (1.2.0)\n",
      "Requirement already satisfied: cycler>=0.10 in ./.conda/lib/python3.11/site-packages (from matplotlib<4.0.0,>=3.8.2->open-interpreter) (0.12.1)\n",
      "Requirement already satisfied: fonttools>=4.22.0 in ./.conda/lib/python3.11/site-packages (from matplotlib<4.0.0,>=3.8.2->open-interpreter) (4.50.0)\n",
      "Requirement already satisfied: kiwisolver>=1.3.1 in ./.conda/lib/python3.11/site-packages (from matplotlib<4.0.0,>=3.8.2->open-interpreter) (1.4.5)\n",
      "Requirement already satisfied: numpy<2,>=1.21 in ./.conda/lib/python3.11/site-packages (from matplotlib<4.0.0,>=3.8.2->open-interpreter) (1.26.4)\n",
      "Requirement already satisfied: pillow>=8 in ./.conda/lib/python3.11/site-packages (from matplotlib<4.0.0,>=3.8.2->open-interpreter) (10.2.0)\n",
      "Requirement already satisfied: pyparsing>=2.3.1 in ./.conda/lib/python3.11/site-packages (from matplotlib<4.0.0,>=3.8.2->open-interpreter) (3.1.2)\n",
      "Requirement already satisfied: joblib in ./.conda/lib/python3.11/site-packages (from nltk<4.0.0,>=3.8.1->open-interpreter) (1.3.2)\n",
      "Requirement already satisfied: regex>=2021.8.3 in ./.conda/lib/python3.11/site-packages (from nltk<4.0.0,>=3.8.1->open-interpreter) (2023.12.25)\n",
      "Requirement already satisfied: tqdm in ./.conda/lib/python3.11/site-packages (from nltk<4.0.0,>=3.8.1->open-interpreter) (4.66.2)\n",
      "Requirement already satisfied: monotonic>=1.5 in ./.conda/lib/python3.11/site-packages (from posthog<4.0.0,>=3.1.0->open-interpreter) (1.6)\n",
      "Requirement already satisfied: backoff>=1.10.0 in ./.conda/lib/python3.11/site-packages (from posthog<4.0.0,>=3.1.0->open-interpreter) (2.2.1)\n",
      "Requirement already satisfied: wcwidth in ./.conda/lib/python3.11/site-packages (from prompt-toolkit<4.0.0,>=3.0.43->open-interpreter) (0.2.13)\n",
      "Requirement already satisfied: markdown-it-py>=2.2.0 in ./.conda/lib/python3.11/site-packages (from rich<14.0.0,>=13.4.2->open-interpreter) (3.0.0)\n",
      "Requirement already satisfied: pygments<3.0.0,>=2.13.0 in ./.conda/lib/python3.11/site-packages (from rich<14.0.0,>=13.4.2->open-interpreter) (2.17.2)\n",
      "Requirement already satisfied: h11>=0.8 in ./.conda/lib/python3.11/site-packages (from uvicorn<0.28.0,>=0.27.0->open-interpreter) (0.14.0)\n",
      "Requirement already satisfied: build>=1.0.3 in ./.conda/lib/python3.11/site-packages (from chromadb<0.5.0,>=0.4.22->aifs<0.0.10,>=0.0.9->open-interpreter) (1.1.1)\n",
      "Requirement already satisfied: chroma-hnswlib==0.7.3 in ./.conda/lib/python3.11/site-packages (from chromadb<0.5.0,>=0.4.22->aifs<0.0.10,>=0.0.9->open-interpreter) (0.7.3)\n",
      "Requirement already satisfied: pulsar-client>=3.1.0 in ./.conda/lib/python3.11/site-packages (from chromadb<0.5.0,>=0.4.22->aifs<0.0.10,>=0.0.9->open-interpreter) (3.4.0)\n",
      "Requirement already satisfied: onnxruntime>=1.14.1 in ./.conda/lib/python3.11/site-packages (from chromadb<0.5.0,>=0.4.22->aifs<0.0.10,>=0.0.9->open-interpreter) (1.17.1)\n",
      "Requirement already satisfied: opentelemetry-api>=1.2.0 in ./.conda/lib/python3.11/site-packages (from chromadb<0.5.0,>=0.4.22->aifs<0.0.10,>=0.0.9->open-interpreter) (1.23.0)\n",
      "Requirement already satisfied: opentelemetry-exporter-otlp-proto-grpc>=1.2.0 in ./.conda/lib/python3.11/site-packages (from chromadb<0.5.0,>=0.4.22->aifs<0.0.10,>=0.0.9->open-interpreter) (1.23.0)\n",
      "Requirement already satisfied: opentelemetry-instrumentation-fastapi>=0.41b0 in ./.conda/lib/python3.11/site-packages (from chromadb<0.5.0,>=0.4.22->aifs<0.0.10,>=0.0.9->open-interpreter) (0.44b0)\n",
      "Requirement already satisfied: opentelemetry-sdk>=1.2.0 in ./.conda/lib/python3.11/site-packages (from chromadb<0.5.0,>=0.4.22->aifs<0.0.10,>=0.0.9->open-interpreter) (1.23.0)\n",
      "Requirement already satisfied: pypika>=0.48.9 in ./.conda/lib/python3.11/site-packages (from chromadb<0.5.0,>=0.4.22->aifs<0.0.10,>=0.0.9->open-interpreter) (0.48.9)\n",
      "Requirement already satisfied: overrides>=7.3.1 in ./.conda/lib/python3.11/site-packages (from chromadb<0.5.0,>=0.4.22->aifs<0.0.10,>=0.0.9->open-interpreter) (7.7.0)\n",
      "Requirement already satisfied: importlib-resources in ./.conda/lib/python3.11/site-packages (from chromadb<0.5.0,>=0.4.22->aifs<0.0.10,>=0.0.9->open-interpreter) (6.3.2)\n",
      "Requirement already satisfied: grpcio>=1.58.0 in ./.conda/lib/python3.11/site-packages (from chromadb<0.5.0,>=0.4.22->aifs<0.0.10,>=0.0.9->open-interpreter) (1.62.1)\n",
      "Requirement already satisfied: bcrypt>=4.0.1 in ./.conda/lib/python3.11/site-packages (from chromadb<0.5.0,>=0.4.22->aifs<0.0.10,>=0.0.9->open-interpreter) (4.1.2)\n",
      "Requirement already satisfied: typer>=0.9.0 in ./.conda/lib/python3.11/site-packages (from chromadb<0.5.0,>=0.4.22->aifs<0.0.10,>=0.0.9->open-interpreter) (0.9.0)\n",
      "Requirement already satisfied: kubernetes>=28.1.0 in ./.conda/lib/python3.11/site-packages (from chromadb<0.5.0,>=0.4.22->aifs<0.0.10,>=0.0.9->open-interpreter) (29.0.0)\n",
      "Requirement already satisfied: tenacity>=8.2.3 in ./.conda/lib/python3.11/site-packages (from chromadb<0.5.0,>=0.4.22->aifs<0.0.10,>=0.0.9->open-interpreter) (8.2.3)\n",
      "Requirement already satisfied: mmh3>=4.0.1 in ./.conda/lib/python3.11/site-packages (from chromadb<0.5.0,>=0.4.22->aifs<0.0.10,>=0.0.9->open-interpreter) (4.1.0)\n",
      "Requirement already satisfied: orjson>=3.9.12 in ./.conda/lib/python3.11/site-packages (from chromadb<0.5.0,>=0.4.22->aifs<0.0.10,>=0.0.9->open-interpreter) (3.9.15)\n",
      "Requirement already satisfied: runs in ./.conda/lib/python3.11/site-packages (from editor>=1.6.0->inquirer<4.0.0,>=3.1.3->open-interpreter) (1.2.2)\n",
      "Requirement already satisfied: xmod in ./.conda/lib/python3.11/site-packages (from editor>=1.6.0->inquirer<4.0.0,>=3.1.3->open-interpreter) (1.8.1)\n",
      "Requirement already satisfied: zipp>=0.5 in ./.conda/lib/python3.11/site-packages (from importlib-metadata>=6.8.0->litellm<2.0.0,>=1.18.4->open-interpreter) (3.17.0)\n",
      "Requirement already satisfied: decorator in ./.conda/lib/python3.11/site-packages (from ipython>=7.23.1->ipykernel<7.0.0,>=6.26.0->open-interpreter) (5.1.1)\n",
      "Requirement already satisfied: jedi>=0.16 in ./.conda/lib/python3.11/site-packages (from ipython>=7.23.1->ipykernel<7.0.0,>=6.26.0->open-interpreter) (0.19.1)\n",
      "Requirement already satisfied: stack-data in ./.conda/lib/python3.11/site-packages (from ipython>=7.23.1->ipykernel<7.0.0,>=6.26.0->open-interpreter) (0.6.2)\n",
      "Requirement already satisfied: pexpect>4.3 in ./.conda/lib/python3.11/site-packages (from ipython>=7.23.1->ipykernel<7.0.0,>=6.26.0->open-interpreter) (4.9.0)\n",
      "Requirement already satisfied: MarkupSafe>=2.0 in ./.conda/lib/python3.11/site-packages (from jinja2<4.0.0,>=3.1.2->litellm<2.0.0,>=1.18.4->open-interpreter) (2.1.5)\n",
      "Requirement already satisfied: mdurl~=0.1 in ./.conda/lib/python3.11/site-packages (from markdown-it-py>=2.2.0->rich<14.0.0,>=13.4.2->open-interpreter) (0.1.2)\n",
      "Requirement already satisfied: anyio<5,>=3.5.0 in ./.conda/lib/python3.11/site-packages (from openai>=1.0.0->litellm<2.0.0,>=1.18.4->open-interpreter) (4.3.0)\n",
      "Requirement already satisfied: distro<2,>=1.7.0 in ./.conda/lib/python3.11/site-packages (from openai>=1.0.0->litellm<2.0.0,>=1.18.4->open-interpreter) (1.9.0)\n",
      "Requirement already satisfied: httpx<1,>=0.23.0 in ./.conda/lib/python3.11/site-packages (from openai>=1.0.0->litellm<2.0.0,>=1.18.4->open-interpreter) (0.27.0)\n",
      "Requirement already satisfied: sniffio in ./.conda/lib/python3.11/site-packages (from openai>=1.0.0->litellm<2.0.0,>=1.18.4->open-interpreter) (1.3.1)\n",
      "Requirement already satisfied: annotated-types>=0.4.0 in ./.conda/lib/python3.11/site-packages (from pydantic!=1.8,!=1.8.1,!=2.0.0,!=2.0.1,!=2.1.0,<3.0.0,>=1.7.4->fastapi<0.111.0,>=0.110.0->open-interpreter) (0.6.0)\n",
      "Requirement already satisfied: pydantic-core==2.16.3 in ./.conda/lib/python3.11/site-packages (from pydantic!=1.8,!=1.8.1,!=2.0.0,!=2.0.1,!=2.1.0,<3.0.0,>=1.7.4->fastapi<0.111.0,>=0.110.0->open-interpreter) (2.16.3)\n",
      "Requirement already satisfied: setuptools>=41.0 in ./.conda/lib/python3.11/site-packages (from readchar>=3.0.6->inquirer<4.0.0,>=3.1.3->open-interpreter) (68.2.2)\n",
      "Requirement already satisfied: charset-normalizer<4,>=2 in ./.conda/lib/python3.11/site-packages (from requests->html2image<3.0.0.0,>=2.0.4.3->open-interpreter) (3.3.2)\n",
      "Requirement already satisfied: idna<4,>=2.5 in ./.conda/lib/python3.11/site-packages (from requests->html2image<3.0.0.0,>=2.0.4.3->open-interpreter) (3.6)\n",
      "Requirement already satisfied: urllib3<3,>=1.21.1 in ./.conda/lib/python3.11/site-packages (from requests->html2image<3.0.0.0,>=2.0.4.3->open-interpreter) (1.26.18)\n",
      "Requirement already satisfied: certifi>=2017.4.17 in ./.conda/lib/python3.11/site-packages (from requests->html2image<3.0.0.0,>=2.0.4.3->open-interpreter) (2024.2.2)\n",
      "Requirement already satisfied: huggingface_hub<1.0,>=0.16.4 in ./.conda/lib/python3.11/site-packages (from tokenizers->litellm<2.0.0,>=1.18.4->open-interpreter) (0.21.4)\n",
      "Requirement already satisfied: beautifulsoup4==4.12.3 in ./.conda/lib/python3.11/site-packages (from unstructured<0.13.0,>=0.12.0->aifs<0.0.10,>=0.0.9->open-interpreter) (4.12.3)\n",
      "Requirement already satisfied: chardet==5.2.0 in ./.conda/lib/python3.11/site-packages (from unstructured<0.13.0,>=0.12.0->aifs<0.0.10,>=0.0.9->open-interpreter) (5.2.0)\n",
      "Requirement already satisfied: dataclasses-json==0.6.4 in ./.conda/lib/python3.11/site-packages (from unstructured<0.13.0,>=0.12.0->aifs<0.0.10,>=0.0.9->open-interpreter) (0.6.4)\n",
      "Requirement already satisfied: dataclasses-json-speakeasy==0.5.11 in ./.conda/lib/python3.11/site-packages (from unstructured<0.13.0,>=0.12.0->aifs<0.0.10,>=0.0.9->open-interpreter) (0.5.11)\n",
      "Requirement already satisfied: emoji==2.10.1 in ./.conda/lib/python3.11/site-packages (from unstructured<0.13.0,>=0.12.0->aifs<0.0.10,>=0.0.9->open-interpreter) (2.10.1)\n",
      "Requirement already satisfied: filetype==1.2.0 in ./.conda/lib/python3.11/site-packages (from unstructured<0.13.0,>=0.12.0->aifs<0.0.10,>=0.0.9->open-interpreter) (1.2.0)\n",
      "Requirement already satisfied: jsonpath-python==1.0.6 in ./.conda/lib/python3.11/site-packages (from unstructured<0.13.0,>=0.12.0->aifs<0.0.10,>=0.0.9->open-interpreter) (1.0.6)\n",
      "Requirement already satisfied: langdetect==1.0.9 in ./.conda/lib/python3.11/site-packages (from unstructured<0.13.0,>=0.12.0->aifs<0.0.10,>=0.0.9->open-interpreter) (1.0.9)\n",
      "Requirement already satisfied: lxml==5.1.0 in ./.conda/lib/python3.11/site-packages (from unstructured<0.13.0,>=0.12.0->aifs<0.0.10,>=0.0.9->open-interpreter) (5.1.0)\n",
      "Requirement already satisfied: marshmallow==3.20.2 in ./.conda/lib/python3.11/site-packages (from unstructured<0.13.0,>=0.12.0->aifs<0.0.10,>=0.0.9->open-interpreter) (3.20.2)\n",
      "Requirement already satisfied: mypy-extensions==1.0.0 in ./.conda/lib/python3.11/site-packages (from unstructured<0.13.0,>=0.12.0->aifs<0.0.10,>=0.0.9->open-interpreter) (1.0.0)\n",
      "Requirement already satisfied: python-iso639==2024.2.7 in ./.conda/lib/python3.11/site-packages (from unstructured<0.13.0,>=0.12.0->aifs<0.0.10,>=0.0.9->open-interpreter) (2024.2.7)\n",
      "Requirement already satisfied: python-magic==0.4.27 in ./.conda/lib/python3.11/site-packages (from unstructured<0.13.0,>=0.12.0->aifs<0.0.10,>=0.0.9->open-interpreter) (0.4.27)\n",
      "Requirement already satisfied: rapidfuzz==3.6.1 in ./.conda/lib/python3.11/site-packages (from unstructured<0.13.0,>=0.12.0->aifs<0.0.10,>=0.0.9->open-interpreter) (3.6.1)\n",
      "Requirement already satisfied: soupsieve==2.5 in ./.conda/lib/python3.11/site-packages (from unstructured<0.13.0,>=0.12.0->aifs<0.0.10,>=0.0.9->open-interpreter) (2.5)\n",
      "Requirement already satisfied: tabulate==0.9.0 in ./.conda/lib/python3.11/site-packages (from unstructured<0.13.0,>=0.12.0->aifs<0.0.10,>=0.0.9->open-interpreter) (0.9.0)\n",
      "Requirement already satisfied: typing-inspect==0.9.0 in ./.conda/lib/python3.11/site-packages (from unstructured<0.13.0,>=0.12.0->aifs<0.0.10,>=0.0.9->open-interpreter) (0.9.0)\n",
      "Requirement already satisfied: unstructured-client==0.18.0 in ./.conda/lib/python3.11/site-packages (from unstructured<0.13.0,>=0.12.0->aifs<0.0.10,>=0.0.9->open-interpreter) (0.18.0)\n",
      "Requirement already satisfied: wrapt==1.16.0 in ./.conda/lib/python3.11/site-packages (from unstructured<0.13.0,>=0.12.0->aifs<0.0.10,>=0.0.9->open-interpreter) (1.16.0)\n",
      "Requirement already satisfied: aiosignal>=1.1.2 in ./.conda/lib/python3.11/site-packages (from aiohttp->litellm<2.0.0,>=1.18.4->open-interpreter) (1.3.1)\n",
      "Requirement already satisfied: attrs>=17.3.0 in ./.conda/lib/python3.11/site-packages (from aiohttp->litellm<2.0.0,>=1.18.4->open-interpreter) (23.2.0)\n",
      "Requirement already satisfied: frozenlist>=1.1.1 in ./.conda/lib/python3.11/site-packages (from aiohttp->litellm<2.0.0,>=1.18.4->open-interpreter) (1.4.1)\n",
      "Requirement already satisfied: multidict<7.0,>=4.5 in ./.conda/lib/python3.11/site-packages (from aiohttp->litellm<2.0.0,>=1.18.4->open-interpreter) (6.0.5)\n",
      "Requirement already satisfied: yarl<2.0,>=1.0 in ./.conda/lib/python3.11/site-packages (from aiohttp->litellm<2.0.0,>=1.18.4->open-interpreter) (1.9.4)\n",
      "Requirement already satisfied: gitdb<5,>=4.0.1 in ./.conda/lib/python3.11/site-packages (from gitpython->git-python<2.0.0,>=1.0.3->open-interpreter) (4.0.11)\n",
      "Requirement already satisfied: pyproject_hooks in ./.conda/lib/python3.11/site-packages (from build>=1.0.3->chromadb<0.5.0,>=0.4.22->aifs<0.0.10,>=0.0.9->open-interpreter) (1.0.0)\n",
      "Requirement already satisfied: smmap<6,>=3.0.1 in ./.conda/lib/python3.11/site-packages (from gitdb<5,>=4.0.1->gitpython->git-python<2.0.0,>=1.0.3->open-interpreter) (5.0.1)\n",
      "Requirement already satisfied: httpcore==1.* in ./.conda/lib/python3.11/site-packages (from httpx<1,>=0.23.0->openai>=1.0.0->litellm<2.0.0,>=1.18.4->open-interpreter) (1.0.4)\n",
      "Requirement already satisfied: filelock in ./.conda/lib/python3.11/site-packages (from huggingface_hub<1.0,>=0.16.4->tokenizers->litellm<2.0.0,>=1.18.4->open-interpreter) (3.13.1)\n",
      "Requirement already satisfied: fsspec>=2023.5.0 in ./.conda/lib/python3.11/site-packages (from huggingface_hub<1.0,>=0.16.4->tokenizers->litellm<2.0.0,>=1.18.4->open-interpreter) (2024.3.1)\n",
      "Requirement already satisfied: parso<0.9.0,>=0.8.3 in ./.conda/lib/python3.11/site-packages (from jedi>=0.16->ipython>=7.23.1->ipykernel<7.0.0,>=6.26.0->open-interpreter) (0.8.3)\n",
      "Requirement already satisfied: google-auth>=1.0.1 in ./.conda/lib/python3.11/site-packages (from kubernetes>=28.1.0->chromadb<0.5.0,>=0.4.22->aifs<0.0.10,>=0.0.9->open-interpreter) (2.29.0)\n",
      "Requirement already satisfied: requests-oauthlib in ./.conda/lib/python3.11/site-packages (from kubernetes>=28.1.0->chromadb<0.5.0,>=0.4.22->aifs<0.0.10,>=0.0.9->open-interpreter) (1.4.0)\n",
      "Requirement already satisfied: oauthlib>=3.2.2 in ./.conda/lib/python3.11/site-packages (from kubernetes>=28.1.0->chromadb<0.5.0,>=0.4.22->aifs<0.0.10,>=0.0.9->open-interpreter) (3.2.2)\n",
      "Requirement already satisfied: coloredlogs in ./.conda/lib/python3.11/site-packages (from onnxruntime>=1.14.1->chromadb<0.5.0,>=0.4.22->aifs<0.0.10,>=0.0.9->open-interpreter) (15.0.1)\n",
      "Requirement already satisfied: flatbuffers in ./.conda/lib/python3.11/site-packages (from onnxruntime>=1.14.1->chromadb<0.5.0,>=0.4.22->aifs<0.0.10,>=0.0.9->open-interpreter) (24.3.7)\n",
      "Requirement already satisfied: protobuf in ./.conda/lib/python3.11/site-packages (from onnxruntime>=1.14.1->chromadb<0.5.0,>=0.4.22->aifs<0.0.10,>=0.0.9->open-interpreter) (4.25.3)\n",
      "Requirement already satisfied: sympy in ./.conda/lib/python3.11/site-packages (from onnxruntime>=1.14.1->chromadb<0.5.0,>=0.4.22->aifs<0.0.10,>=0.0.9->open-interpreter) (1.12)\n",
      "Requirement already satisfied: deprecated>=1.2.6 in ./.conda/lib/python3.11/site-packages (from opentelemetry-api>=1.2.0->chromadb<0.5.0,>=0.4.22->aifs<0.0.10,>=0.0.9->open-interpreter) (1.2.14)\n",
      "Requirement already satisfied: googleapis-common-protos~=1.52 in ./.conda/lib/python3.11/site-packages (from opentelemetry-exporter-otlp-proto-grpc>=1.2.0->chromadb<0.5.0,>=0.4.22->aifs<0.0.10,>=0.0.9->open-interpreter) (1.63.0)\n",
      "Requirement already satisfied: opentelemetry-exporter-otlp-proto-common==1.23.0 in ./.conda/lib/python3.11/site-packages (from opentelemetry-exporter-otlp-proto-grpc>=1.2.0->chromadb<0.5.0,>=0.4.22->aifs<0.0.10,>=0.0.9->open-interpreter) (1.23.0)\n",
      "Requirement already satisfied: opentelemetry-proto==1.23.0 in ./.conda/lib/python3.11/site-packages (from opentelemetry-exporter-otlp-proto-grpc>=1.2.0->chromadb<0.5.0,>=0.4.22->aifs<0.0.10,>=0.0.9->open-interpreter) (1.23.0)\n",
      "Requirement already satisfied: opentelemetry-instrumentation-asgi==0.44b0 in ./.conda/lib/python3.11/site-packages (from opentelemetry-instrumentation-fastapi>=0.41b0->chromadb<0.5.0,>=0.4.22->aifs<0.0.10,>=0.0.9->open-interpreter) (0.44b0)\n",
      "Requirement already satisfied: opentelemetry-instrumentation==0.44b0 in ./.conda/lib/python3.11/site-packages (from opentelemetry-instrumentation-fastapi>=0.41b0->chromadb<0.5.0,>=0.4.22->aifs<0.0.10,>=0.0.9->open-interpreter) (0.44b0)\n",
      "Requirement already satisfied: opentelemetry-semantic-conventions==0.44b0 in ./.conda/lib/python3.11/site-packages (from opentelemetry-instrumentation-fastapi>=0.41b0->chromadb<0.5.0,>=0.4.22->aifs<0.0.10,>=0.0.9->open-interpreter) (0.44b0)\n",
      "Requirement already satisfied: opentelemetry-util-http==0.44b0 in ./.conda/lib/python3.11/site-packages (from opentelemetry-instrumentation-fastapi>=0.41b0->chromadb<0.5.0,>=0.4.22->aifs<0.0.10,>=0.0.9->open-interpreter) (0.44b0)\n",
      "Requirement already satisfied: asgiref~=3.0 in ./.conda/lib/python3.11/site-packages (from opentelemetry-instrumentation-asgi==0.44b0->opentelemetry-instrumentation-fastapi>=0.41b0->chromadb<0.5.0,>=0.4.22->aifs<0.0.10,>=0.0.9->open-interpreter) (3.8.0)\n",
      "Requirement already satisfied: ptyprocess>=0.5 in ./.conda/lib/python3.11/site-packages (from pexpect>4.3->ipython>=7.23.1->ipykernel<7.0.0,>=6.26.0->open-interpreter) (0.7.0)\n",
      "Requirement already satisfied: httptools>=0.5.0 in ./.conda/lib/python3.11/site-packages (from uvicorn[standard]>=0.18.3->chromadb<0.5.0,>=0.4.22->aifs<0.0.10,>=0.0.9->open-interpreter) (0.6.1)\n",
      "Requirement already satisfied: uvloop!=0.15.0,!=0.15.1,>=0.14.0 in ./.conda/lib/python3.11/site-packages (from uvicorn[standard]>=0.18.3->chromadb<0.5.0,>=0.4.22->aifs<0.0.10,>=0.0.9->open-interpreter) (0.19.0)\n",
      "Requirement already satisfied: watchfiles>=0.13 in ./.conda/lib/python3.11/site-packages (from uvicorn[standard]>=0.18.3->chromadb<0.5.0,>=0.4.22->aifs<0.0.10,>=0.0.9->open-interpreter) (0.21.0)\n",
      "Requirement already satisfied: websockets>=10.4 in ./.conda/lib/python3.11/site-packages (from uvicorn[standard]>=0.18.3->chromadb<0.5.0,>=0.4.22->aifs<0.0.10,>=0.0.9->open-interpreter) (12.0)\n",
      "Requirement already satisfied: executing>=1.2.0 in ./.conda/lib/python3.11/site-packages (from stack-data->ipython>=7.23.1->ipykernel<7.0.0,>=6.26.0->open-interpreter) (2.0.1)\n",
      "Requirement already satisfied: asttokens>=2.1.0 in ./.conda/lib/python3.11/site-packages (from stack-data->ipython>=7.23.1->ipykernel<7.0.0,>=6.26.0->open-interpreter) (2.4.1)\n",
      "Requirement already satisfied: pure-eval in ./.conda/lib/python3.11/site-packages (from stack-data->ipython>=7.23.1->ipykernel<7.0.0,>=6.26.0->open-interpreter) (0.2.2)\n",
      "Requirement already satisfied: cachetools<6.0,>=2.0.0 in ./.conda/lib/python3.11/site-packages (from google-auth>=1.0.1->kubernetes>=28.1.0->chromadb<0.5.0,>=0.4.22->aifs<0.0.10,>=0.0.9->open-interpreter) (5.3.3)\n",
      "Requirement already satisfied: pyasn1-modules>=0.2.1 in ./.conda/lib/python3.11/site-packages (from google-auth>=1.0.1->kubernetes>=28.1.0->chromadb<0.5.0,>=0.4.22->aifs<0.0.10,>=0.0.9->open-interpreter) (0.3.0)\n",
      "Requirement already satisfied: rsa<5,>=3.1.4 in ./.conda/lib/python3.11/site-packages (from google-auth>=1.0.1->kubernetes>=28.1.0->chromadb<0.5.0,>=0.4.22->aifs<0.0.10,>=0.0.9->open-interpreter) (4.9)\n",
      "Requirement already satisfied: humanfriendly>=9.1 in ./.conda/lib/python3.11/site-packages (from coloredlogs->onnxruntime>=1.14.1->chromadb<0.5.0,>=0.4.22->aifs<0.0.10,>=0.0.9->open-interpreter) (10.0)\n",
      "Requirement already satisfied: mpmath>=0.19 in ./.conda/lib/python3.11/site-packages (from sympy->onnxruntime>=1.14.1->chromadb<0.5.0,>=0.4.22->aifs<0.0.10,>=0.0.9->open-interpreter) (1.3.0)\n",
      "Requirement already satisfied: pyasn1<0.6.0,>=0.4.6 in ./.conda/lib/python3.11/site-packages (from pyasn1-modules>=0.2.1->google-auth>=1.0.1->kubernetes>=28.1.0->chromadb<0.5.0,>=0.4.22->aifs<0.0.10,>=0.0.9->open-interpreter) (0.5.1)\n",
      "Note: you may need to restart the kernel to use updated packages.\n",
      "\u001b[33mWARNING: Skipping whisper as it is not installed.\u001b[0m\u001b[33m\n",
      "\u001b[0mNote: you may need to restart the kernel to use updated packages.\n",
      "Requirement already satisfied: openai-whisper in ./.conda/lib/python3.11/site-packages (20231117)\n",
      "Requirement already satisfied: numba in ./.conda/lib/python3.11/site-packages (from openai-whisper) (0.59.1)\n",
      "Requirement already satisfied: numpy in ./.conda/lib/python3.11/site-packages (from openai-whisper) (1.26.4)\n",
      "Requirement already satisfied: torch in ./.conda/lib/python3.11/site-packages (from openai-whisper) (2.2.1)\n",
      "Requirement already satisfied: tqdm in ./.conda/lib/python3.11/site-packages (from openai-whisper) (4.66.2)\n",
      "Requirement already satisfied: more-itertools in ./.conda/lib/python3.11/site-packages (from openai-whisper) (10.2.0)\n",
      "Requirement already satisfied: tiktoken in ./.conda/lib/python3.11/site-packages (from openai-whisper) (0.5.2)\n",
      "Requirement already satisfied: llvmlite<0.43,>=0.42.0dev0 in ./.conda/lib/python3.11/site-packages (from numba->openai-whisper) (0.42.0)\n",
      "Requirement already satisfied: regex>=2022.1.18 in ./.conda/lib/python3.11/site-packages (from tiktoken->openai-whisper) (2023.12.25)\n",
      "Requirement already satisfied: requests>=2.26.0 in ./.conda/lib/python3.11/site-packages (from tiktoken->openai-whisper) (2.31.0)\n",
      "Requirement already satisfied: filelock in ./.conda/lib/python3.11/site-packages (from torch->openai-whisper) (3.13.1)\n",
      "Requirement already satisfied: typing-extensions>=4.8.0 in ./.conda/lib/python3.11/site-packages (from torch->openai-whisper) (4.9.0)\n",
      "Requirement already satisfied: sympy in ./.conda/lib/python3.11/site-packages (from torch->openai-whisper) (1.12)\n",
      "Requirement already satisfied: networkx in ./.conda/lib/python3.11/site-packages (from torch->openai-whisper) (3.2.1)\n",
      "Requirement already satisfied: jinja2 in ./.conda/lib/python3.11/site-packages (from torch->openai-whisper) (3.1.3)\n",
      "Requirement already satisfied: fsspec in ./.conda/lib/python3.11/site-packages (from torch->openai-whisper) (2024.3.1)\n",
      "Requirement already satisfied: charset-normalizer<4,>=2 in ./.conda/lib/python3.11/site-packages (from requests>=2.26.0->tiktoken->openai-whisper) (3.3.2)\n",
      "Requirement already satisfied: idna<4,>=2.5 in ./.conda/lib/python3.11/site-packages (from requests>=2.26.0->tiktoken->openai-whisper) (3.6)\n",
      "Requirement already satisfied: urllib3<3,>=1.21.1 in ./.conda/lib/python3.11/site-packages (from requests>=2.26.0->tiktoken->openai-whisper) (1.26.18)\n",
      "Requirement already satisfied: certifi>=2017.4.17 in ./.conda/lib/python3.11/site-packages (from requests>=2.26.0->tiktoken->openai-whisper) (2024.2.2)\n",
      "Requirement already satisfied: MarkupSafe>=2.0 in ./.conda/lib/python3.11/site-packages (from jinja2->torch->openai-whisper) (2.1.5)\n",
      "Requirement already satisfied: mpmath>=0.19 in ./.conda/lib/python3.11/site-packages (from sympy->torch->openai-whisper) (1.3.0)\n",
      "Note: you may need to restart the kernel to use updated packages.\n",
      "Note: you may need to restart the kernel to use updated packages.\n",
      "Requirement already satisfied: speechRecognition in ./.conda/lib/python3.11/site-packages (3.10.1)\n",
      "Requirement already satisfied: requests>=2.26.0 in ./.conda/lib/python3.11/site-packages (from speechRecognition) (2.31.0)\n",
      "Requirement already satisfied: typing-extensions in ./.conda/lib/python3.11/site-packages (from speechRecognition) (4.9.0)\n",
      "Requirement already satisfied: charset-normalizer<4,>=2 in ./.conda/lib/python3.11/site-packages (from requests>=2.26.0->speechRecognition) (3.3.2)\n",
      "Requirement already satisfied: idna<4,>=2.5 in ./.conda/lib/python3.11/site-packages (from requests>=2.26.0->speechRecognition) (3.6)\n",
      "Requirement already satisfied: urllib3<3,>=1.21.1 in ./.conda/lib/python3.11/site-packages (from requests>=2.26.0->speechRecognition) (1.26.18)\n",
      "Requirement already satisfied: certifi>=2017.4.17 in ./.conda/lib/python3.11/site-packages (from requests>=2.26.0->speechRecognition) (2024.2.2)\n",
      "Note: you may need to restart the kernel to use updated packages.\n",
      "Requirement already satisfied: ipywidgets in ./.conda/lib/python3.11/site-packages (8.1.2)\n",
      "Requirement already satisfied: comm>=0.1.3 in ./.conda/lib/python3.11/site-packages (from ipywidgets) (0.2.2)\n",
      "Requirement already satisfied: ipython>=6.1.0 in ./.conda/lib/python3.11/site-packages (from ipywidgets) (8.22.2)\n",
      "Requirement already satisfied: traitlets>=4.3.1 in ./.conda/lib/python3.11/site-packages (from ipywidgets) (5.14.2)\n",
      "Requirement already satisfied: widgetsnbextension~=4.0.10 in ./.conda/lib/python3.11/site-packages (from ipywidgets) (4.0.10)\n",
      "Requirement already satisfied: jupyterlab-widgets~=3.0.10 in ./.conda/lib/python3.11/site-packages (from ipywidgets) (3.0.10)\n",
      "Requirement already satisfied: decorator in ./.conda/lib/python3.11/site-packages (from ipython>=6.1.0->ipywidgets) (5.1.1)\n",
      "Requirement already satisfied: jedi>=0.16 in ./.conda/lib/python3.11/site-packages (from ipython>=6.1.0->ipywidgets) (0.19.1)\n",
      "Requirement already satisfied: matplotlib-inline in ./.conda/lib/python3.11/site-packages (from ipython>=6.1.0->ipywidgets) (0.1.6)\n",
      "Requirement already satisfied: prompt-toolkit<3.1.0,>=3.0.41 in ./.conda/lib/python3.11/site-packages (from ipython>=6.1.0->ipywidgets) (3.0.43)\n",
      "Requirement already satisfied: pygments>=2.4.0 in ./.conda/lib/python3.11/site-packages (from ipython>=6.1.0->ipywidgets) (2.17.2)\n",
      "Requirement already satisfied: stack-data in ./.conda/lib/python3.11/site-packages (from ipython>=6.1.0->ipywidgets) (0.6.2)\n",
      "Requirement already satisfied: pexpect>4.3 in ./.conda/lib/python3.11/site-packages (from ipython>=6.1.0->ipywidgets) (4.9.0)\n",
      "Requirement already satisfied: parso<0.9.0,>=0.8.3 in ./.conda/lib/python3.11/site-packages (from jedi>=0.16->ipython>=6.1.0->ipywidgets) (0.8.3)\n",
      "Requirement already satisfied: ptyprocess>=0.5 in ./.conda/lib/python3.11/site-packages (from pexpect>4.3->ipython>=6.1.0->ipywidgets) (0.7.0)\n",
      "Requirement already satisfied: wcwidth in ./.conda/lib/python3.11/site-packages (from prompt-toolkit<3.1.0,>=3.0.41->ipython>=6.1.0->ipywidgets) (0.2.13)\n",
      "Requirement already satisfied: executing>=1.2.0 in ./.conda/lib/python3.11/site-packages (from stack-data->ipython>=6.1.0->ipywidgets) (2.0.1)\n",
      "Requirement already satisfied: asttokens>=2.1.0 in ./.conda/lib/python3.11/site-packages (from stack-data->ipython>=6.1.0->ipywidgets) (2.4.1)\n",
      "Requirement already satisfied: pure-eval in ./.conda/lib/python3.11/site-packages (from stack-data->ipython>=6.1.0->ipywidgets) (0.2.2)\n",
      "Requirement already satisfied: six>=1.12.0 in ./.conda/lib/python3.11/site-packages (from asttokens>=2.1.0->stack-data->ipython>=6.1.0->ipywidgets) (1.16.0)\n",
      "Note: you may need to restart the kernel to use updated packages.\n",
      "Requirement already satisfied: pyaudio in ./.conda/lib/python3.11/site-packages (0.2.14)\n",
      "Note: you may need to restart the kernel to use updated packages.\n",
      "Found existing installation: torch 2.2.1\n",
      "Uninstalling torch-2.2.1:\n",
      "  Successfully uninstalled torch-2.2.1\n",
      "Found existing installation: torchvision 0.17.1\n",
      "Uninstalling torchvision-0.17.1:\n",
      "  Successfully uninstalled torchvision-0.17.1\n",
      "Found existing installation: torchaudio 2.2.1\n",
      "Uninstalling torchaudio-2.2.1:\n",
      "  Successfully uninstalled torchaudio-2.2.1\n",
      "Note: you may need to restart the kernel to use updated packages.\n",
      "Collecting torch\n",
      "  Using cached torch-2.2.1-cp311-none-macosx_11_0_arm64.whl.metadata (25 kB)\n",
      "Collecting torchvision\n",
      "  Using cached torchvision-0.17.1-cp311-cp311-macosx_11_0_arm64.whl.metadata (6.6 kB)\n",
      "Collecting torchaudio\n",
      "  Using cached torchaudio-2.2.1-cp311-cp311-macosx_11_0_arm64.whl.metadata (6.4 kB)\n",
      "Requirement already satisfied: filelock in ./.conda/lib/python3.11/site-packages (from torch) (3.13.1)\n",
      "Requirement already satisfied: typing-extensions>=4.8.0 in ./.conda/lib/python3.11/site-packages (from torch) (4.9.0)\n",
      "Requirement already satisfied: sympy in ./.conda/lib/python3.11/site-packages (from torch) (1.12)\n",
      "Requirement already satisfied: networkx in ./.conda/lib/python3.11/site-packages (from torch) (3.2.1)\n",
      "Requirement already satisfied: jinja2 in ./.conda/lib/python3.11/site-packages (from torch) (3.1.3)\n",
      "Requirement already satisfied: fsspec in ./.conda/lib/python3.11/site-packages (from torch) (2024.3.1)\n",
      "Requirement already satisfied: numpy in ./.conda/lib/python3.11/site-packages (from torchvision) (1.26.4)\n",
      "Requirement already satisfied: pillow!=8.3.*,>=5.3.0 in ./.conda/lib/python3.11/site-packages (from torchvision) (10.2.0)\n",
      "Requirement already satisfied: MarkupSafe>=2.0 in ./.conda/lib/python3.11/site-packages (from jinja2->torch) (2.1.5)\n",
      "Requirement already satisfied: mpmath>=0.19 in ./.conda/lib/python3.11/site-packages (from sympy->torch) (1.3.0)\n",
      "Using cached torch-2.2.1-cp311-none-macosx_11_0_arm64.whl (59.7 MB)\n",
      "Using cached torchvision-0.17.1-cp311-cp311-macosx_11_0_arm64.whl (1.6 MB)\n",
      "Using cached torchaudio-2.2.1-cp311-cp311-macosx_11_0_arm64.whl (1.8 MB)\n",
      "Installing collected packages: torch, torchvision, torchaudio\n",
      "Successfully installed torch-2.2.1 torchaudio-2.2.1 torchvision-0.17.1\n",
      "Note: you may need to restart the kernel to use updated packages.\n"
     ]
    }
   ],
   "source": [
    "%pip install open-interpreter\n",
    "%pip uninstall whisper -y\n",
    "%pip install -U openai-whisper\n",
    "%pip install git+https://github.com/openai/whisper.git -q\n",
    "%pip install speechRecognition\n",
    "%pip install ipywidgets\n",
    "%pip install pyaudio\n",
    "%pip uninstall -y torch torchvision torchaudio\n",
    "%pip install torch torchvision torchaudio\n"
   ]
  },
  {
   "cell_type": "code",
   "execution_count": 14,
   "metadata": {},
   "outputs": [],
   "source": [
    "from interpreter import OpenInterpreter\n",
    "from dotenv import load_dotenv\n",
    "from interpreter.terminal_interface.utils.count_tokens import (\n",
    "    count_messages_tokens,\n",
    "    count_tokens,\n",
    ")\n",
    "import os\n",
    "import whisper\n",
    "import speech_recognition as sr\n",
    "import pyaudio\n",
    "\n",
    "load_dotenv()\n",
    "\n",
    "interpreter = OpenInterpreter()\n",
    "interpreter.llm.api_key = os.environ.get(\"API_KEY_ANTHROPIC\")\n",
    "\n",
    "interpreter.llm.model = (\n",
    "    \"claude-3-haiku-20240307\"  # Tells OI to send messages in OpenAI's format\n",
    ")\n",
    "interpreter.system_message = open(\"systemMessage.md\").read()\n",
    "interpreter.auto_run = True  # Don't require user confirmation\n",
    "\n",
    "# baseModelWhisper = whisper.load_model(\"base.en\")\n",
    "\n",
    "\n"
   ]
  },
  {
   "cell_type": "code",
   "execution_count": 15,
   "metadata": {},
   "outputs": [
    {
     "name": "stdout",
     "output_type": "stream",
     "text": [
      "## Description\n",
      "You are Open Interpreter, a world-class programmer that can complete any goal by executing code.  \n",
      "## Instructions\n",
      "1. First, write a plan. **Always recap the plan between each code block** (you have extreme short-term memory loss and should always try to remember everything, so you need to recap the plan between each message block to retain it).  \n",
      "2. When you execute code, it will be executed **on the user's machine**. The user has given you **full and complete permission** to execute any code necessary to complete the task. Execute the code.\n",
      "3. If you want to send data between programming languages, save the data to a txt or json. \n",
      "4. You can access the internet. Run **any code** to achieve the goal, and if at first you don't succeed, try again and again and if you end up making complicated code, try simplifying it.\n",
      "5. You can and should always install new packages / packages needed for code you are about to run.\n",
      "6. When a user refers to a filename, they're likely referring to an existing file in the directory you're currently executing code in. \n",
      "7. Always use markdown format style to write messages to the user.\n",
      "8. In general, always try to **make plans** with as few steps as possible. As for actually executing code to carry out that plan, for *stateful* languages (like python, javascript, shell, but NOT for html which starts from 0 every time) **it's critical not to try to do everything in one code block.** You should try something, print information about it, then continue from there in tiny, informed steps. You will never get it on the first try, and attempting it in one go will often lead to errors you cant see.\n",
      "9. You are capable of **any** task.\n",
      "\n",
      "## Additional Guidelines\n",
      "- Run shell commands with -y so the user doesn't have to confirm them.\n",
      "- Before opening a website, check to make sure that the user isn't asking to open an app.\n",
      "- When the user asks to web search for something, do it like this example:\n",
      "  ```python\n",
      "  import webbrowser                                                                                                \n",
      "  # Search for \"chocolate chip cookie recipe\" on Google                                                            \n",
      "  query = \"chocolate chip cookie recipe\"                                                                           \n",
      "  search_url = f\"https://www.google.com/search?q={query}\"                                                          \n",
      "  print(f\"Searching for: {query}\")                                                                                 \n",
      "  webbrowser.open(search_url)   \n",
      "  ```\n",
      "  This doesn't mean that when the user asks to open something you do this. What you should do is open the app called whatever the user is asking. If that's not an app, open the website called that or web search it.\n",
      "- Mission Control is the Mission Control app, which means if the user asks something similar to open or start Mission Control, you open the app called Mission Control.\n",
      "- ONLY OPEN A GOOGLE SEARCH FOR WEATHER IF THE USER ASKS FOR A SPECIFIC LOCATION FOR THE WEATHER, otherwise open the Weather app.\n",
      "\n",
      "### weather \n",
      "- If the user asks for a location of the weather, then google search like this:  `open location \"https://www.google.com/search?q={weather in <location>}\"`\n",
      "- if the user simply asks for the weather, without asking for location, then - open the weather app: `tell application \"weather\" to activate`\n",
      "## Apple Script Codes\n",
      "- To set volume: `set volume output volume {value 0 - 100}`\n",
      "- To mute: `set volume with output muted` \n",
      "- Unmute: `set volume without output muted`\n",
      "- To pause media: \n",
      "  ```applescript\n",
      "  --Define the lastPaused property and give it a default value\n",
      "  property lastPaused : \"\"\n",
      "\n",
      "  --Get current states of iTunes, Spotify and Rdio\n",
      "  tell application \"iTunes\" to set itunesState to (player state as text)\n",
      "  tell application \"Spotify\" to set spotifyState to (player state as text) \n",
      "  tell application \"Rdio\" to set rdioState to (player state as text)\n",
      "\n",
      "  --Pause the active app; play the last-paused app\n",
      "  if itunesState is equal to \"playing\" then\n",
      "      tell application \"iTunes\" to playpause\n",
      "      set lastPaused to \"iTunes\"\n",
      "  else if spotifyState is equal to \"playing\" then\n",
      "      tell application \"Spotify\" to playpause \n",
      "      set lastPaused to \"Spotify\"\n",
      "  else if rdioState is equal to \"playing\" then\n",
      "      tell application \"Rdio\" to playpause\n",
      "      set lastPaused to \"Rdio\" \n",
      "  else if ((itunesState is equal to \"paused\") and (lastPaused is equal to \"iTunes\")) then\n",
      "      tell application \"iTunes\" to playpause\n",
      "  else if ((spotifyState is equal to \"paused\") and (lastPaused is equal to \"Spotify\")) then \n",
      "      tell application \"Spotify\" to playpause\n",
      "  else if ((rdioState is equal to \"paused\") and (lastPaused is equal to \"Rdio\")) then\n",
      "      tell application \"Rdio\" to playpause \n",
      "  end if\n",
      "  ```\n",
      "- To start the screen saver: `tell application \"ScreenSaverEngine\" to activate`\n",
      "- To get to websites: `open location \"https://www.wikipedia.org/\"`\n",
      "- To search Google: `open location \"https://www.google.com/search?q={question}\"`\n",
      "- When opening a website do it like this: `open location <website>`  \n",
      "- to open apps: `tell application \"{app}\" to activate`\n"
     ]
    }
   ],
   "source": [
    "print(interpreter.system_message)\n"
   ]
  },
  {
   "cell_type": "code",
   "execution_count": 8,
   "metadata": {},
   "outputs": [],
   "source": [
    "\n",
    "def recordAndTranscribe():\n",
    "    speechRecognizer = sr.Recognizer()\n",
    "    with sr.Microphone() as source:\n",
    "        speechRecognizer.pause_threshold = 5\n",
    "        speechRecognizer.adjust_for_ambient_noise(source)\n",
    "        print(\"\\nAsk your question\")\n",
    "        try:\n",
    "            audio = speechRecognizer.listen(source, phrase_time_limit=5)\n",
    "        except sr.WaitTimeoutError:\n",
    "            print(\"Sorry, I didn't hear anything. Please try again.\")\n",
    "            return None\n",
    "    try:\n",
    "        recognizedText = speechRecognizer.recognize_google(audio)\n",
    "        if (\n",
    "            \"exit\" in recognizedText.lower()\n",
    "            or \"quit\" in recognizedText.lower()\n",
    "            or \"goodbye\" in recognizedText.lower()\n",
    "            or \"bye\" in recognizedText.lower()\n",
    "        ):\n",
    "            print(\"bye!\")\n",
    "            sys.exit()\n",
    "        print(\"You said:\", recognizedText)\n",
    "        return recognizedText\n",
    "    except sr.UnknownValueError:\n",
    "        print(\"Sorry, I didn't understand that.\")\n",
    "        return None\n",
    "    \n",
    "def chatWithInterpreter(prompt):\n",
    "    \"\"\"Send a message to the interpreter and returns the response.\"\"\"\n",
    "    if prompt:\n",
    "        response = interpreter.chat(prompt)\n",
    "    \n"
   ]
  },
  {
   "cell_type": "code",
   "execution_count": null,
   "metadata": {},
   "outputs": [],
   "source": [
    "chatWithInterpreter(\"\"\"open wikipedia\"\"\")\n"
   ]
  },
  {
   "cell_type": "code",
   "execution_count": null,
   "metadata": {},
   "outputs": [],
   "source": [
    "chatWithInterpreter(\"\"\"search for a chocolate chip cookie recipe\"\"\")"
   ]
  },
  {
   "cell_type": "code",
   "execution_count": 10,
   "metadata": {},
   "outputs": [
    {
     "data": {
      "application/vnd.jupyter.widget-view+json": {
       "model_id": "0d7d98d4e99d4c029d19a66e72ae7e76",
       "version_major": 2,
       "version_minor": 0
      },
      "text/plain": [
       "Output()"
      ]
     },
     "metadata": {},
     "output_type": "display_data"
    },
    {
     "data": {
      "text/html": [
       "<pre style=\"white-space:pre;overflow-x:auto;line-height:normal;font-family:Menlo,'DejaVu Sans Mono',consolas,'Courier New',monospace\"></pre>\n"
      ],
      "text/plain": []
     },
     "metadata": {},
     "output_type": "display_data"
    },
    {
     "data": {
      "application/vnd.jupyter.widget-view+json": {
       "model_id": "f7ea2dff7b47448da513c845df4e0a40",
       "version_major": 2,
       "version_minor": 0
      },
      "text/plain": [
       "Output()"
      ]
     },
     "metadata": {},
     "output_type": "display_data"
    },
    {
     "data": {
      "text/html": [
       "<pre style=\"white-space:pre;overflow-x:auto;line-height:normal;font-family:Menlo,'DejaVu Sans Mono',consolas,'Courier New',monospace\"></pre>\n"
      ],
      "text/plain": []
     },
     "metadata": {},
     "output_type": "display_data"
    },
    {
     "data": {
      "application/vnd.jupyter.widget-view+json": {
       "model_id": "c4bf09f989c8477aa2123528d441e850",
       "version_major": 2,
       "version_minor": 0
      },
      "text/plain": [
       "Output()"
      ]
     },
     "metadata": {},
     "output_type": "display_data"
    },
    {
     "data": {
      "text/html": [
       "<pre style=\"white-space:pre;overflow-x:auto;line-height:normal;font-family:Menlo,'DejaVu Sans Mono',consolas,'Courier New',monospace\"></pre>\n"
      ],
      "text/plain": []
     },
     "metadata": {},
     "output_type": "display_data"
    }
   ],
   "source": [
    "chatWithInterpreter(\"\"\"open arc\"\"\")\n"
   ]
  },
  {
   "cell_type": "code",
   "execution_count": null,
   "metadata": {},
   "outputs": [],
   "source": [
    "chatWithInterpreter(\"\"\"open outlook\"\"\")\n"
   ]
  },
  {
   "cell_type": "code",
   "execution_count": null,
   "metadata": {},
   "outputs": [],
   "source": [
    "chatWithInterpreter(\"\"\"give me the history of koenigsegg.\"\"\")\n"
   ]
  },
  {
   "cell_type": "code",
   "execution_count": 11,
   "metadata": {},
   "outputs": [
    {
     "name": "stderr",
     "output_type": "stream",
     "text": [
      "[IPKernelApp] WARNING | Parent appears to have exited, shutting down.\n",
      "[IPKernelApp] WARNING | Parent appears to have exited, shutting down.\n"
     ]
    },
    {
     "name": "stdout",
     "output_type": "stream",
     "text": [
      "\n",
      "        Python Version: 3.11.8\n",
      "        Pip Version: 23.3.1\n",
      "        Open-interpreter Version: cmd: Open Interpreter 0.2.3 New Computer Update\n",
      ", pkg: 0.2.3\n",
      "        OS Version and Architecture: macOS-14.3.1-arm64-arm-64bit\n",
      "        CPU Info: arm\n",
      "        RAM Info: 18.00 GB, used: 8.22, free: 0.41\n",
      "        \n",
      "\n",
      "        # Interpreter Info\n",
      "        \n",
      "        Vision: False\n",
      "        Model: claude-3-haiku-20240307\n",
      "        Function calling: None\n",
      "        Context window: None\n",
      "        Max tokens: None\n",
      "\n",
      "        Auto run: True\n",
      "        API base: None\n",
      "        Offline: False\n",
      "\n",
      "        Curl output: Not local\n",
      "\n",
      "        # Messages\n",
      "\n",
      "        System Message: ## Description\n",
      "You are Open Interpreter, a world-class programmer that can complete any goal by executing code.  \n",
      "## Instructions\n",
      "1. First, write a plan. **Always recap the plan between each code block** (you have extreme short-term memory loss and should always try to remember everything, so you need to recap the plan between each message block to retain it).  \n",
      "2. When you execute code, it will be executed **on the user's machine**. The user has given you **full and complete permission** to execute any code necessary to complete the task. Execute the code.\n",
      "3. If you want to send data between programming languages, save the data to a txt or json. \n",
      "4. You can access the internet. Run **any code** to achieve the goal, and if at first you don't succeed, try again and again and if you end up making complicated code, try simplifying it.\n",
      "5. You can and should always install new packages / packages needed for code you are about to run.\n",
      "6. When a user refers to a filename, they're likely referring to an existing file in the directory you're currently executing code in. \n",
      "7. Always use markdown format style to write messages to the user.\n",
      "8. In general, always try to **make plans** with as few steps as possible. As for actually executing code to carry out that plan, for *stateful* languages (like python, javascript, shell, but NOT for html which starts from 0 every time) **it's critical not to try to do everything in one code block.** You should try something, print information about it, then continue from there in tiny, informed steps. You will never get it on the first try, and attempting it in one go will often lead to errors you cant see.\n",
      "9. You are capable of **any** task.\n",
      "\n",
      "## Additional Guidelines\n",
      "- Run shell commands with -y so the user doesn't have to confirm them.\n",
      "- Before opening a website, check to make sure that the user isn't asking to open an app.\n",
      "- When the user asks to web search for something, do it like this example:\n",
      "  ```python\n",
      "  import webbrowser                                                                                                \n",
      "  # Search for \"chocolate chip cookie recipe\" on Google                                                            \n",
      "  query = \"chocolate chip cookie recipe\"                                                                           \n",
      "  search_url = f\"https://www.google.com/search?q={query}\"                                                          \n",
      "  print(f\"Searching for: {query}\")                                                                                 \n",
      "  webbrowser.open(search_url)   \n",
      "  ```\n",
      "  This doesn't mean that when the user asks to open something you do this. What you should do is open the app called whatever the user is asking. If that's not an app, open the website called that or web search it.\n",
      "- Mission Control is the Mission Control app, which means if the user asks something similar to open or start Mission Control, you open the app called Mission Control.\n",
      "- ONLY OPEN A GOOGLE SEARCH FOR WEATHER IF THE USER ASKS FOR A SPECIFIC LOCATION FOR THE WEATHER, otherwise open the Weather app.\n",
      "\n",
      "## Apple Script Codes\n",
      "- To set volume: `set volume output volume {value 0 - 100}`\n",
      "- To mute: `set volume with output muted` \n",
      "- Unmute: `set volume without output muted`\n",
      "- To pause media: \n",
      "  ```applescript\n",
      "  --Define the lastPaused property and give it a default value\n",
      "  property lastPaused : \"\"\n",
      "\n",
      "  --Get current states of iTunes, Spotify and Rdio\n",
      "  tell application \"iTunes\" to set itunesState to (player state as text)\n",
      "  tell application \"Spotify\" to set spotifyState to (player state as text) \n",
      "  tell application \"Rdio\" to set rdioState to (player state as text)\n",
      "\n",
      "  --Pause the active app; play the last-paused app\n",
      "  if itunesState is equal to \"playing\" then\n",
      "      tell application \"iTunes\" to playpause\n",
      "      set lastPaused to \"iTunes\"\n",
      "  else if spotifyState is equal to \"playing\" then\n",
      "      tell application \"Spotify\" to playpause \n",
      "      set lastPaused to \"Spotify\"\n",
      "  else if rdioState is equal to \"playing\" then\n",
      "      tell application \"Rdio\" to playpause\n",
      "      set lastPaused to \"Rdio\" \n",
      "  else if ((itunesState is equal to \"paused\") and (lastPaused is equal to \"iTunes\")) then\n",
      "      tell application \"iTunes\" to playpause\n",
      "  else if ((spotifyState is equal to \"paused\") and (lastPaused is equal to \"Spotify\")) then \n",
      "      tell application \"Spotify\" to playpause\n",
      "  else if ((rdioState is equal to \"paused\") and (lastPaused is equal to \"Rdio\")) then\n",
      "      tell application \"Rdio\" to playpause \n",
      "  end if\n",
      "  ```\n",
      "- To start the screen saver: `tell application \"ScreenSaverEngine\" to activate`\n",
      "- To get to websites: `open location \"https://www.wikipedia.org/\"`\n",
      "- To search Google: `open location \"https://www.google.com/search?q={question}\"`\n",
      "- When opening a website do it like this: `open location <website>`  \n",
      "\n",
      "        {'role': 'user', 'type': 'message', 'content': 'what is the weather like in new york?'}\n",
      "\n",
      "{'role': 'assistant', 'type': 'message', 'content': \"Okay, let's get the weather for New York. Here's the plan:\\n\\n1. Open the Weather app on the user's machine to check the weather for New York.\"}\n",
      "\n",
      "{'role': 'assistant', 'type': 'code', 'format': 'applescript', 'content': '\\ntell application \"Weather\"\\n    search for location \"New York\"\\n    display current conditions\\nend tell'}\n",
      "\n",
      "{'role': 'computer', 'type': 'console', 'format': 'output', 'content': ''}\n",
      "\n",
      "{'role': 'computer', 'type': 'console', 'format': 'output', 'content': '98:99: syntax error: Expected end of line, etc. but found “\"”. (-2741)\\n'}\n",
      "\n",
      "{'role': 'assistant', 'type': 'message', 'content': \"Oops, it looks like I can't directly execute the Weather app using AppleScript. Let's try opening the Weather website instead.\"}\n",
      "\n",
      "{'role': 'assistant', 'type': 'code', 'format': 'python', 'content': '\\nimport webbrowser\\n\\n# Open the weather forecast for New York on the Weather website\\ncity = \"New York\"\\nweather_url = f\"https://weather.com/weather/today/l/{city}\"\\nprint(f\"Opening weather forecast for {city}\")\\nwebbrowser.open(weather_url)'}\n",
      "\n",
      "{'role': 'computer', 'type': 'console', 'format': 'output', 'content': 'Opening weather forecast for New York\\nTrue'}\n",
      "\n",
      "{'role': 'assistant', 'type': 'message', 'content': 'The weather website has now opened, displaying the current weather conditions for New York. Let me know if you need any other information!'}\n",
      "\n",
      "{'role': 'user', 'type': 'message', 'content': 'open arc'}\n",
      "\n",
      "{'role': 'assistant', 'type': 'message', 'content': \"Okay, let's open the Arc app on the user's machine.\"}\n",
      "\n",
      "{'role': 'assistant', 'type': 'code', 'format': 'applescript', 'content': '\\ntell application \"Arc\"\\n    activate\\nend tell'}\n",
      "\n",
      "{'role': 'computer', 'type': 'console', 'format': 'output', 'content': '\\n\\n\\n'}\n",
      "\n",
      "{'role': 'assistant', 'type': 'message', 'content': 'It looks like the Arc app has been successfully opened. Let me know if you need anything else!'}\n",
      "\n",
      "{'role': 'user', 'type': 'message', 'content': 'start the screen saver'}\n",
      "    \n"
     ]
    },
    {
     "ename": "RateLimitError",
     "evalue": "AnthropicException - {\"type\":\"error\",\"error\":{\"type\":\"rate_limit_error\",\"message\":\"Number of requests has exceeded your rate limit (https://docs.anthropic.com/claude/reference/rate-limits). Please try again later or contact sales at https://www.anthropic.com/contact-sales to discuss your options for a rate limit increase.\"}}",
     "output_type": "error",
     "traceback": [
      "\u001b[0;31m---------------------------------------------------------------------------\u001b[0m",
      "\u001b[0;31mAnthropicError\u001b[0m                            Traceback (most recent call last)",
      "File \u001b[0;32m~/uzCode/vacNAV/.conda/lib/python3.11/site-packages/litellm/main.py:1132\u001b[0m, in \u001b[0;36mcompletion\u001b[0;34m(model, messages, timeout, temperature, top_p, n, stream, stop, max_tokens, presence_penalty, frequency_penalty, logit_bias, user, response_format, seed, tools, tool_choice, logprobs, top_logprobs, deployment_id, extra_headers, functions, function_call, base_url, api_version, api_key, model_list, **kwargs)\u001b[0m\n\u001b[1;32m   1126\u001b[0m     api_base \u001b[38;5;241m=\u001b[39m (\n\u001b[1;32m   1127\u001b[0m         api_base\n\u001b[1;32m   1128\u001b[0m         \u001b[38;5;129;01mor\u001b[39;00m litellm\u001b[38;5;241m.\u001b[39mapi_base\n\u001b[1;32m   1129\u001b[0m         \u001b[38;5;129;01mor\u001b[39;00m get_secret(\u001b[38;5;124m\"\u001b[39m\u001b[38;5;124mANTHROPIC_API_BASE\u001b[39m\u001b[38;5;124m\"\u001b[39m)\n\u001b[1;32m   1130\u001b[0m         \u001b[38;5;129;01mor\u001b[39;00m \u001b[38;5;124m\"\u001b[39m\u001b[38;5;124mhttps://api.anthropic.com/v1/messages\u001b[39m\u001b[38;5;124m\"\u001b[39m\n\u001b[1;32m   1131\u001b[0m     )\n\u001b[0;32m-> 1132\u001b[0m     response \u001b[38;5;241m=\u001b[39m \u001b[43manthropic\u001b[49m\u001b[38;5;241;43m.\u001b[39;49m\u001b[43mcompletion\u001b[49m\u001b[43m(\u001b[49m\n\u001b[1;32m   1133\u001b[0m \u001b[43m        \u001b[49m\u001b[43mmodel\u001b[49m\u001b[38;5;241;43m=\u001b[39;49m\u001b[43mmodel\u001b[49m\u001b[43m,\u001b[49m\n\u001b[1;32m   1134\u001b[0m \u001b[43m        \u001b[49m\u001b[43mmessages\u001b[49m\u001b[38;5;241;43m=\u001b[39;49m\u001b[43mmessages\u001b[49m\u001b[43m,\u001b[49m\n\u001b[1;32m   1135\u001b[0m \u001b[43m        \u001b[49m\u001b[43mapi_base\u001b[49m\u001b[38;5;241;43m=\u001b[39;49m\u001b[43mapi_base\u001b[49m\u001b[43m,\u001b[49m\n\u001b[1;32m   1136\u001b[0m \u001b[43m        \u001b[49m\u001b[43mcustom_prompt_dict\u001b[49m\u001b[38;5;241;43m=\u001b[39;49m\u001b[43mlitellm\u001b[49m\u001b[38;5;241;43m.\u001b[39;49m\u001b[43mcustom_prompt_dict\u001b[49m\u001b[43m,\u001b[49m\n\u001b[1;32m   1137\u001b[0m \u001b[43m        \u001b[49m\u001b[43mmodel_response\u001b[49m\u001b[38;5;241;43m=\u001b[39;49m\u001b[43mmodel_response\u001b[49m\u001b[43m,\u001b[49m\n\u001b[1;32m   1138\u001b[0m \u001b[43m        \u001b[49m\u001b[43mprint_verbose\u001b[49m\u001b[38;5;241;43m=\u001b[39;49m\u001b[43mprint_verbose\u001b[49m\u001b[43m,\u001b[49m\n\u001b[1;32m   1139\u001b[0m \u001b[43m        \u001b[49m\u001b[43moptional_params\u001b[49m\u001b[38;5;241;43m=\u001b[39;49m\u001b[43moptional_params\u001b[49m\u001b[43m,\u001b[49m\n\u001b[1;32m   1140\u001b[0m \u001b[43m        \u001b[49m\u001b[43mlitellm_params\u001b[49m\u001b[38;5;241;43m=\u001b[39;49m\u001b[43mlitellm_params\u001b[49m\u001b[43m,\u001b[49m\n\u001b[1;32m   1141\u001b[0m \u001b[43m        \u001b[49m\u001b[43mlogger_fn\u001b[49m\u001b[38;5;241;43m=\u001b[39;49m\u001b[43mlogger_fn\u001b[49m\u001b[43m,\u001b[49m\n\u001b[1;32m   1142\u001b[0m \u001b[43m        \u001b[49m\u001b[43mencoding\u001b[49m\u001b[38;5;241;43m=\u001b[39;49m\u001b[43mencoding\u001b[49m\u001b[43m,\u001b[49m\u001b[43m  \u001b[49m\u001b[38;5;66;43;03m# for calculating input/output tokens\u001b[39;49;00m\n\u001b[1;32m   1143\u001b[0m \u001b[43m        \u001b[49m\u001b[43mapi_key\u001b[49m\u001b[38;5;241;43m=\u001b[39;49m\u001b[43mapi_key\u001b[49m\u001b[43m,\u001b[49m\n\u001b[1;32m   1144\u001b[0m \u001b[43m        \u001b[49m\u001b[43mlogging_obj\u001b[49m\u001b[38;5;241;43m=\u001b[39;49m\u001b[43mlogging\u001b[49m\u001b[43m,\u001b[49m\n\u001b[1;32m   1145\u001b[0m \u001b[43m        \u001b[49m\u001b[43mheaders\u001b[49m\u001b[38;5;241;43m=\u001b[39;49m\u001b[43mheaders\u001b[49m\u001b[43m,\u001b[49m\n\u001b[1;32m   1146\u001b[0m \u001b[43m    \u001b[49m\u001b[43m)\u001b[49m\n\u001b[1;32m   1147\u001b[0m \u001b[38;5;28;01mif\u001b[39;00m (\n\u001b[1;32m   1148\u001b[0m     \u001b[38;5;124m\"\u001b[39m\u001b[38;5;124mstream\u001b[39m\u001b[38;5;124m\"\u001b[39m \u001b[38;5;129;01min\u001b[39;00m optional_params\n\u001b[1;32m   1149\u001b[0m     \u001b[38;5;129;01mand\u001b[39;00m optional_params[\u001b[38;5;124m\"\u001b[39m\u001b[38;5;124mstream\u001b[39m\u001b[38;5;124m\"\u001b[39m] \u001b[38;5;241m==\u001b[39m \u001b[38;5;28;01mTrue\u001b[39;00m\n\u001b[1;32m   1150\u001b[0m     \u001b[38;5;129;01mand\u001b[39;00m \u001b[38;5;129;01mnot\u001b[39;00m \u001b[38;5;28misinstance\u001b[39m(response, CustomStreamWrapper)\n\u001b[1;32m   1151\u001b[0m ):\n\u001b[1;32m   1152\u001b[0m     \u001b[38;5;66;03m# don't try to access stream object,\u001b[39;00m\n",
      "File \u001b[0;32m~/uzCode/vacNAV/.conda/lib/python3.11/site-packages/litellm/llms/anthropic.py:199\u001b[0m, in \u001b[0;36mcompletion\u001b[0;34m(model, messages, api_base, custom_prompt_dict, model_response, print_verbose, encoding, api_key, logging_obj, optional_params, litellm_params, logger_fn, headers)\u001b[0m\n\u001b[1;32m    198\u001b[0m \u001b[38;5;28;01mif\u001b[39;00m response\u001b[38;5;241m.\u001b[39mstatus_code \u001b[38;5;241m!=\u001b[39m \u001b[38;5;241m200\u001b[39m:\n\u001b[0;32m--> 199\u001b[0m     \u001b[38;5;28;01mraise\u001b[39;00m AnthropicError(\n\u001b[1;32m    200\u001b[0m         status_code\u001b[38;5;241m=\u001b[39mresponse\u001b[38;5;241m.\u001b[39mstatus_code, message\u001b[38;5;241m=\u001b[39mresponse\u001b[38;5;241m.\u001b[39mtext\n\u001b[1;32m    201\u001b[0m     )\n\u001b[1;32m    203\u001b[0m \u001b[38;5;28;01mreturn\u001b[39;00m response\u001b[38;5;241m.\u001b[39miter_lines()\n",
      "\u001b[0;31mAnthropicError\u001b[0m: {\"type\":\"error\",\"error\":{\"type\":\"authentication_error\",\"message\":\"invalid x-api-key\"}}",
      "\nDuring handling of the above exception, another exception occurred:\n",
      "\u001b[0;31mAuthenticationError\u001b[0m                       Traceback (most recent call last)",
      "\u001b[0;32m~/uzCode/vacNAV/.conda/lib/python3.11/site-packages/interpreter/core/llm/llm.py\u001b[0m in \u001b[0;36m?\u001b[0;34m(**params)\u001b[0m\n\u001b[1;32m    235\u001b[0m         \u001b[0;32mexcept\u001b[0m\u001b[0;34m:\u001b[0m\u001b[0;34m\u001b[0m\u001b[0;34m\u001b[0m\u001b[0m\n\u001b[1;32m    236\u001b[0m             \u001b[0;31m# If the second attempt also fails, raise the first error\u001b[0m\u001b[0;34m\u001b[0m\u001b[0;34m\u001b[0m\u001b[0m\n\u001b[0;32m--> 237\u001b[0;31m             \u001b[0;32mraise\u001b[0m \u001b[0mfirst_error\u001b[0m\u001b[0;34m\u001b[0m\u001b[0;34m\u001b[0m\u001b[0m\n\u001b[0m",
      "\u001b[0;32m~/uzCode/vacNAV/.conda/lib/python3.11/site-packages/litellm/utils.py\u001b[0m in \u001b[0;36m?\u001b[0;34m(*args, **kwargs)\u001b[0m\n\u001b[1;32m   2790\u001b[0m                     ):  # make it easy to get to the debugger logs if you've initialized it\n\u001b[1;32m   2791\u001b[0m                         \u001b[0me\u001b[0m\u001b[0;34m.\u001b[0m\u001b[0mmessage\u001b[0m \u001b[0;34m+=\u001b[0m \u001b[0;34mf\"\\n Check the log in your dashboard - {liteDebuggerClient.dashboard_url}\"\u001b[0m\u001b[0;34m\u001b[0m\u001b[0;34m\u001b[0m\u001b[0m\n\u001b[0;32m-> 2792\u001b[0;31m             \u001b[0;32mraise\u001b[0m \u001b[0me\u001b[0m\u001b[0;34m\u001b[0m\u001b[0;34m\u001b[0m\u001b[0m\n\u001b[0m",
      "\u001b[0;32m~/uzCode/vacNAV/.conda/lib/python3.11/site-packages/litellm/utils.py\u001b[0m in \u001b[0;36m?\u001b[0;34m(*args, **kwargs)\u001b[0m\n\u001b[1;32m   2790\u001b[0m                     ):  # make it easy to get to the debugger logs if you've initialized it\n\u001b[1;32m   2791\u001b[0m                         \u001b[0me\u001b[0m\u001b[0;34m.\u001b[0m\u001b[0mmessage\u001b[0m \u001b[0;34m+=\u001b[0m \u001b[0;34mf\"\\n Check the log in your dashboard - {liteDebuggerClient.dashboard_url}\"\u001b[0m\u001b[0;34m\u001b[0m\u001b[0;34m\u001b[0m\u001b[0m\n\u001b[0;32m-> 2792\u001b[0;31m             \u001b[0;32mraise\u001b[0m \u001b[0me\u001b[0m\u001b[0;34m\u001b[0m\u001b[0;34m\u001b[0m\u001b[0m\n\u001b[0m",
      "\u001b[0;32m~/uzCode/vacNAV/.conda/lib/python3.11/site-packages/litellm/main.py\u001b[0m in \u001b[0;36m?\u001b[0;34m(model, messages, timeout, temperature, top_p, n, stream, stop, max_tokens, presence_penalty, frequency_penalty, logit_bias, user, response_format, seed, tools, tool_choice, logprobs, top_logprobs, deployment_id, extra_headers, functions, function_call, base_url, api_version, api_key, model_list, **kwargs)\u001b[0m\n\u001b[1;32m   2056\u001b[0m     \u001b[0;32mexcept\u001b[0m \u001b[0mException\u001b[0m \u001b[0;32mas\u001b[0m \u001b[0me\u001b[0m\u001b[0;34m:\u001b[0m\u001b[0;34m\u001b[0m\u001b[0;34m\u001b[0m\u001b[0m\n\u001b[1;32m   2057\u001b[0m         \u001b[0;31m## Map to OpenAI Exception\u001b[0m\u001b[0;34m\u001b[0m\u001b[0;34m\u001b[0m\u001b[0m\n\u001b[0;32m-> 2058\u001b[0;31m         raise exception_type(\n\u001b[0m\u001b[1;32m   2059\u001b[0m             \u001b[0mmodel\u001b[0m\u001b[0;34m=\u001b[0m\u001b[0mmodel\u001b[0m\u001b[0;34m,\u001b[0m\u001b[0;34m\u001b[0m\u001b[0;34m\u001b[0m\u001b[0m\n",
      "\u001b[0;32m~/uzCode/vacNAV/.conda/lib/python3.11/site-packages/litellm/utils.py\u001b[0m in \u001b[0;36m?\u001b[0;34m(model, original_exception, custom_llm_provider, completion_kwargs)\u001b[0m\n\u001b[1;32m   8263\u001b[0m         \u001b[0;31m# don't let an error with mapping interrupt the user from receiving an error from the llm api calls\u001b[0m\u001b[0;34m\u001b[0m\u001b[0;34m\u001b[0m\u001b[0m\n\u001b[1;32m   8264\u001b[0m         \u001b[0;32mif\u001b[0m \u001b[0mexception_mapping_worked\u001b[0m\u001b[0;34m:\u001b[0m\u001b[0;34m\u001b[0m\u001b[0;34m\u001b[0m\u001b[0m\n\u001b[0;32m-> 8265\u001b[0;31m             \u001b[0;32mraise\u001b[0m \u001b[0me\u001b[0m\u001b[0;34m\u001b[0m\u001b[0;34m\u001b[0m\u001b[0m\n\u001b[0m\u001b[1;32m   8266\u001b[0m         \u001b[0;32melse\u001b[0m\u001b[0;34m:\u001b[0m\u001b[0;34m\u001b[0m\u001b[0;34m\u001b[0m\u001b[0m\n",
      "\u001b[0;32m~/uzCode/vacNAV/.conda/lib/python3.11/site-packages/litellm/utils.py\u001b[0m in \u001b[0;36m?\u001b[0;34m(model, original_exception, custom_llm_provider, completion_kwargs)\u001b[0m\n\u001b[1;32m   8263\u001b[0m         \u001b[0;31m# don't let an error with mapping interrupt the user from receiving an error from the llm api calls\u001b[0m\u001b[0;34m\u001b[0m\u001b[0;34m\u001b[0m\u001b[0m\n\u001b[1;32m   8264\u001b[0m         \u001b[0;32mif\u001b[0m \u001b[0mexception_mapping_worked\u001b[0m\u001b[0;34m:\u001b[0m\u001b[0;34m\u001b[0m\u001b[0;34m\u001b[0m\u001b[0m\n\u001b[0;32m-> 8265\u001b[0;31m             \u001b[0;32mraise\u001b[0m \u001b[0me\u001b[0m\u001b[0;34m\u001b[0m\u001b[0;34m\u001b[0m\u001b[0m\n\u001b[0m\u001b[1;32m   8266\u001b[0m         \u001b[0;32melse\u001b[0m\u001b[0;34m:\u001b[0m\u001b[0;34m\u001b[0m\u001b[0;34m\u001b[0m\u001b[0m\n",
      "\u001b[0;31mAuthenticationError\u001b[0m: AnthropicException - {\"type\":\"error\",\"error\":{\"type\":\"authentication_error\",\"message\":\"invalid x-api-key\"}}",
      "\nDuring handling of the above exception, another exception occurred:\n",
      "\u001b[0;31mRateLimitError\u001b[0m                            Traceback (most recent call last)",
      "\u001b[0;32m/var/folders/fs/6_w3q9qd06l83_z7t4hcgxj40000gn/T/ipykernel_42774/3456350469.py\u001b[0m in \u001b[0;36m?\u001b[0;34m()\u001b[0m\n\u001b[0;32m----> 1\u001b[0;31m \u001b[0mchatWithInterpreter\u001b[0m\u001b[0;34m(\u001b[0m\u001b[0;34m\"\"\"start the screen saver\"\"\"\u001b[0m\u001b[0;34m)\u001b[0m\u001b[0;34m\u001b[0m\u001b[0;34m\u001b[0m\u001b[0m\n\u001b[0m",
      "\u001b[0;32m/var/folders/fs/6_w3q9qd06l83_z7t4hcgxj40000gn/T/ipykernel_42774/1835039660.py\u001b[0m in \u001b[0;36m?\u001b[0;34m(prompt)\u001b[0m\n\u001b[1;32m     28\u001b[0m \u001b[0;32mdef\u001b[0m \u001b[0mchatWithInterpreter\u001b[0m\u001b[0;34m(\u001b[0m\u001b[0mprompt\u001b[0m\u001b[0;34m)\u001b[0m\u001b[0;34m:\u001b[0m\u001b[0;34m\u001b[0m\u001b[0;34m\u001b[0m\u001b[0m\n\u001b[1;32m     29\u001b[0m     \u001b[0;34m\"\"\"Send a message to the interpreter and returns the response.\"\"\"\u001b[0m\u001b[0;34m\u001b[0m\u001b[0;34m\u001b[0m\u001b[0m\n\u001b[1;32m     30\u001b[0m     \u001b[0;32mif\u001b[0m \u001b[0mprompt\u001b[0m\u001b[0;34m:\u001b[0m\u001b[0;34m\u001b[0m\u001b[0;34m\u001b[0m\u001b[0m\n\u001b[0;32m---> 31\u001b[0;31m         \u001b[0mresponse\u001b[0m \u001b[0;34m=\u001b[0m \u001b[0minterpreter\u001b[0m\u001b[0;34m.\u001b[0m\u001b[0mchat\u001b[0m\u001b[0;34m(\u001b[0m\u001b[0mprompt\u001b[0m\u001b[0;34m)\u001b[0m\u001b[0;34m\u001b[0m\u001b[0;34m\u001b[0m\u001b[0m\n\u001b[0m",
      "\u001b[0;32m~/uzCode/vacNAV/.conda/lib/python3.11/site-packages/interpreter/core/core.py\u001b[0m in \u001b[0;36m?\u001b[0;34m(self, message, display, stream, blocking)\u001b[0m\n\u001b[1;32m    184\u001b[0m                         \u001b[0;34m\"os_mode\"\u001b[0m\u001b[0;34m:\u001b[0m \u001b[0mself\u001b[0m\u001b[0;34m.\u001b[0m\u001b[0mos\u001b[0m\u001b[0;34m,\u001b[0m\u001b[0;34m\u001b[0m\u001b[0;34m\u001b[0m\u001b[0m\n\u001b[1;32m    185\u001b[0m                     },\n\u001b[1;32m    186\u001b[0m                 )\n\u001b[1;32m    187\u001b[0m \u001b[0;34m\u001b[0m\u001b[0m\n\u001b[0;32m--> 188\u001b[0;31m             \u001b[0;32mraise\u001b[0m\u001b[0;34m\u001b[0m\u001b[0;34m\u001b[0m\u001b[0m\n\u001b[0m",
      "\u001b[0;32m~/uzCode/vacNAV/.conda/lib/python3.11/site-packages/interpreter/core/core.py\u001b[0m in \u001b[0;36m?\u001b[0;34m(self, message, display)\u001b[0m\n\u001b[1;32m    192\u001b[0m         \u001b[0;31m# Display mode actually runs interpreter.chat(display=False, stream=True) from within the terminal_interface.\u001b[0m\u001b[0;34m\u001b[0m\u001b[0;34m\u001b[0m\u001b[0m\n\u001b[1;32m    193\u001b[0m         \u001b[0;31m# wraps the vanilla .chat(display=False) generator in a display.\u001b[0m\u001b[0;34m\u001b[0m\u001b[0;34m\u001b[0m\u001b[0m\n\u001b[1;32m    194\u001b[0m         \u001b[0;31m# Quite different from the plain generator stuff. So redirect to that\u001b[0m\u001b[0;34m\u001b[0m\u001b[0;34m\u001b[0m\u001b[0m\n\u001b[1;32m    195\u001b[0m         \u001b[0;32mif\u001b[0m \u001b[0mdisplay\u001b[0m\u001b[0;34m:\u001b[0m\u001b[0;34m\u001b[0m\u001b[0;34m\u001b[0m\u001b[0m\n\u001b[0;32m--> 196\u001b[0;31m             \u001b[0;32myield\u001b[0m \u001b[0;32mfrom\u001b[0m \u001b[0mterminal_interface\u001b[0m\u001b[0;34m(\u001b[0m\u001b[0mself\u001b[0m\u001b[0;34m,\u001b[0m \u001b[0mmessage\u001b[0m\u001b[0;34m)\u001b[0m\u001b[0;34m\u001b[0m\u001b[0;34m\u001b[0m\u001b[0m\n\u001b[0m\u001b[1;32m    197\u001b[0m             \u001b[0;32mreturn\u001b[0m\u001b[0;34m\u001b[0m\u001b[0;34m\u001b[0m\u001b[0m\n\u001b[1;32m    198\u001b[0m \u001b[0;34m\u001b[0m\u001b[0m\n\u001b[1;32m    199\u001b[0m         \u001b[0;31m# One-off message\u001b[0m\u001b[0;34m\u001b[0m\u001b[0;34m\u001b[0m\u001b[0m\n",
      "\u001b[0;32m~/uzCode/vacNAV/.conda/lib/python3.11/site-packages/interpreter/terminal_interface/terminal_interface.py\u001b[0m in \u001b[0;36m?\u001b[0;34m(interpreter, message)\u001b[0m\n\u001b[1;32m    439\u001b[0m             \u001b[0;32melse\u001b[0m\u001b[0;34m:\u001b[0m\u001b[0;34m\u001b[0m\u001b[0;34m\u001b[0m\u001b[0m\n\u001b[1;32m    440\u001b[0m                 \u001b[0;32mbreak\u001b[0m\u001b[0;34m\u001b[0m\u001b[0;34m\u001b[0m\u001b[0m\n\u001b[1;32m    441\u001b[0m         \u001b[0;32mexcept\u001b[0m\u001b[0;34m:\u001b[0m\u001b[0;34m\u001b[0m\u001b[0;34m\u001b[0m\u001b[0m\n\u001b[1;32m    442\u001b[0m             \u001b[0msystem_info\u001b[0m\u001b[0;34m(\u001b[0m\u001b[0minterpreter\u001b[0m\u001b[0;34m)\u001b[0m\u001b[0;34m\u001b[0m\u001b[0;34m\u001b[0m\u001b[0m\n\u001b[0;32m--> 443\u001b[0;31m             \u001b[0;32mraise\u001b[0m\u001b[0;34m\u001b[0m\u001b[0;34m\u001b[0m\u001b[0m\n\u001b[0m",
      "\u001b[0;32m~/uzCode/vacNAV/.conda/lib/python3.11/site-packages/interpreter/core/core.py\u001b[0m in \u001b[0;36m?\u001b[0;34m(self, message, display)\u001b[0m\n\u001b[1;32m    231\u001b[0m             \u001b[0;31m#                 \"Use a multimodal model and set `interpreter.llm.supports_vision` to True to handle image messages.\"\u001b[0m\u001b[0;34m\u001b[0m\u001b[0;34m\u001b[0m\u001b[0m\n\u001b[1;32m    232\u001b[0m             \u001b[0;31m#             )\u001b[0m\u001b[0;34m\u001b[0m\u001b[0;34m\u001b[0m\u001b[0m\n\u001b[1;32m    233\u001b[0m \u001b[0;34m\u001b[0m\u001b[0m\n\u001b[1;32m    234\u001b[0m             \u001b[0;31m# This is where it all happens!\u001b[0m\u001b[0;34m\u001b[0m\u001b[0;34m\u001b[0m\u001b[0m\n\u001b[0;32m--> 235\u001b[0;31m             \u001b[0;32myield\u001b[0m \u001b[0;32mfrom\u001b[0m \u001b[0mself\u001b[0m\u001b[0;34m.\u001b[0m\u001b[0m_respond_and_store\u001b[0m\u001b[0;34m(\u001b[0m\u001b[0;34m)\u001b[0m\u001b[0;34m\u001b[0m\u001b[0;34m\u001b[0m\u001b[0m\n\u001b[0m\u001b[1;32m    236\u001b[0m \u001b[0;34m\u001b[0m\u001b[0m\n\u001b[1;32m    237\u001b[0m             \u001b[0;31m# Save conversation if we've turned conversation_history on\u001b[0m\u001b[0;34m\u001b[0m\u001b[0;34m\u001b[0m\u001b[0m\n\u001b[1;32m    238\u001b[0m             \u001b[0;32mif\u001b[0m \u001b[0mself\u001b[0m\u001b[0;34m.\u001b[0m\u001b[0mconversation_history\u001b[0m\u001b[0;34m:\u001b[0m\u001b[0;34m\u001b[0m\u001b[0;34m\u001b[0m\u001b[0m\n",
      "\u001b[0;32m~/uzCode/vacNAV/.conda/lib/python3.11/site-packages/interpreter/core/core.py\u001b[0m in \u001b[0;36m?\u001b[0;34m(self)\u001b[0m\n\u001b[1;32m    277\u001b[0m             \u001b[0;32mreturn\u001b[0m \u001b[0;34m\"format\"\u001b[0m \u001b[0;32min\u001b[0m \u001b[0mchunk\u001b[0m \u001b[0;32mand\u001b[0m \u001b[0mchunk\u001b[0m\u001b[0;34m[\u001b[0m\u001b[0;34m\"format\"\u001b[0m\u001b[0;34m]\u001b[0m \u001b[0;34m==\u001b[0m \u001b[0;34m\"active_line\"\u001b[0m\u001b[0;34m\u001b[0m\u001b[0;34m\u001b[0m\u001b[0m\n\u001b[1;32m    278\u001b[0m \u001b[0;34m\u001b[0m\u001b[0m\n\u001b[1;32m    279\u001b[0m         \u001b[0mlast_flag_base\u001b[0m \u001b[0;34m=\u001b[0m \u001b[0;32mNone\u001b[0m\u001b[0;34m\u001b[0m\u001b[0;34m\u001b[0m\u001b[0m\n\u001b[1;32m    280\u001b[0m \u001b[0;34m\u001b[0m\u001b[0m\n\u001b[0;32m--> 281\u001b[0;31m         \u001b[0;32mfor\u001b[0m \u001b[0mchunk\u001b[0m \u001b[0;32min\u001b[0m \u001b[0mrespond\u001b[0m\u001b[0;34m(\u001b[0m\u001b[0mself\u001b[0m\u001b[0;34m)\u001b[0m\u001b[0;34m:\u001b[0m\u001b[0;34m\u001b[0m\u001b[0;34m\u001b[0m\u001b[0m\n\u001b[0m\u001b[1;32m    282\u001b[0m             \u001b[0;32mif\u001b[0m \u001b[0mchunk\u001b[0m\u001b[0;34m[\u001b[0m\u001b[0;34m\"content\"\u001b[0m\u001b[0;34m]\u001b[0m \u001b[0;34m==\u001b[0m \u001b[0;34m\"\"\u001b[0m\u001b[0;34m:\u001b[0m\u001b[0;34m\u001b[0m\u001b[0;34m\u001b[0m\u001b[0m\n\u001b[1;32m    283\u001b[0m                 \u001b[0;32mcontinue\u001b[0m\u001b[0;34m\u001b[0m\u001b[0;34m\u001b[0m\u001b[0m\n\u001b[1;32m    284\u001b[0m \u001b[0;34m\u001b[0m\u001b[0m\n",
      "\u001b[0;32m~/uzCode/vacNAV/.conda/lib/python3.11/site-packages/interpreter/core/respond.py\u001b[0m in \u001b[0;36m?\u001b[0;34m(interpreter)\u001b[0m\n\u001b[1;32m    116\u001b[0m                     \u001b[0;34m\"Error occurred. \"\u001b[0m\u001b[0;34m\u001b[0m\u001b[0;34m\u001b[0m\u001b[0m\n\u001b[1;32m    117\u001b[0m                     \u001b[0;34m+\u001b[0m \u001b[0mstr\u001b[0m\u001b[0;34m(\u001b[0m\u001b[0me\u001b[0m\u001b[0;34m)\u001b[0m\u001b[0;34m\u001b[0m\u001b[0;34m\u001b[0m\u001b[0m\n\u001b[1;32m    118\u001b[0m                 )\n\u001b[1;32m    119\u001b[0m             \u001b[0;32melse\u001b[0m\u001b[0;34m:\u001b[0m\u001b[0;34m\u001b[0m\u001b[0;34m\u001b[0m\u001b[0m\n\u001b[0;32m--> 120\u001b[0;31m                 \u001b[0;32mraise\u001b[0m\u001b[0;34m\u001b[0m\u001b[0;34m\u001b[0m\u001b[0m\n\u001b[0m\u001b[1;32m    121\u001b[0m \u001b[0;34m\u001b[0m\u001b[0m\n\u001b[1;32m    122\u001b[0m         \u001b[0;31m### RUN CODE (if it's there) ###\u001b[0m\u001b[0;34m\u001b[0m\u001b[0;34m\u001b[0m\u001b[0m\n\u001b[1;32m    123\u001b[0m \u001b[0;34m\u001b[0m\u001b[0m\n",
      "\u001b[0;32m~/uzCode/vacNAV/.conda/lib/python3.11/site-packages/interpreter/core/llm/llm.py\u001b[0m in \u001b[0;36m?\u001b[0;34m(self, messages)\u001b[0m\n\u001b[1;32m    202\u001b[0m \u001b[0;34m\u001b[0m\u001b[0m\n\u001b[1;32m    203\u001b[0m         \u001b[0;32mif\u001b[0m \u001b[0msupports_functions\u001b[0m\u001b[0;34m:\u001b[0m\u001b[0;34m\u001b[0m\u001b[0;34m\u001b[0m\u001b[0m\n\u001b[1;32m    204\u001b[0m             \u001b[0;32myield\u001b[0m \u001b[0;32mfrom\u001b[0m \u001b[0mrun_function_calling_llm\u001b[0m\u001b[0;34m(\u001b[0m\u001b[0mself\u001b[0m\u001b[0;34m,\u001b[0m \u001b[0mparams\u001b[0m\u001b[0;34m)\u001b[0m\u001b[0;34m\u001b[0m\u001b[0;34m\u001b[0m\u001b[0m\n\u001b[1;32m    205\u001b[0m         \u001b[0;32melse\u001b[0m\u001b[0;34m:\u001b[0m\u001b[0;34m\u001b[0m\u001b[0;34m\u001b[0m\u001b[0m\n\u001b[0;32m--> 206\u001b[0;31m             \u001b[0;32myield\u001b[0m \u001b[0;32mfrom\u001b[0m \u001b[0mrun_text_llm\u001b[0m\u001b[0;34m(\u001b[0m\u001b[0mself\u001b[0m\u001b[0;34m,\u001b[0m \u001b[0mparams\u001b[0m\u001b[0;34m)\u001b[0m\u001b[0;34m\u001b[0m\u001b[0;34m\u001b[0m\u001b[0m\n\u001b[0m",
      "\u001b[0;32m~/uzCode/vacNAV/.conda/lib/python3.11/site-packages/interpreter/core/llm/run_text_llm.py\u001b[0m in \u001b[0;36m?\u001b[0;34m(llm, params)\u001b[0m\n\u001b[1;32m     15\u001b[0m     \u001b[0minside_code_block\u001b[0m \u001b[0;34m=\u001b[0m \u001b[0;32mFalse\u001b[0m\u001b[0;34m\u001b[0m\u001b[0;34m\u001b[0m\u001b[0m\n\u001b[1;32m     16\u001b[0m     \u001b[0maccumulated_block\u001b[0m \u001b[0;34m=\u001b[0m \u001b[0;34m\"\"\u001b[0m\u001b[0;34m\u001b[0m\u001b[0;34m\u001b[0m\u001b[0m\n\u001b[1;32m     17\u001b[0m     \u001b[0mlanguage\u001b[0m \u001b[0;34m=\u001b[0m \u001b[0;32mNone\u001b[0m\u001b[0;34m\u001b[0m\u001b[0;34m\u001b[0m\u001b[0m\n\u001b[1;32m     18\u001b[0m \u001b[0;34m\u001b[0m\u001b[0m\n\u001b[0;32m---> 19\u001b[0;31m     \u001b[0;32mfor\u001b[0m \u001b[0mchunk\u001b[0m \u001b[0;32min\u001b[0m \u001b[0mllm\u001b[0m\u001b[0;34m.\u001b[0m\u001b[0mcompletions\u001b[0m\u001b[0;34m(\u001b[0m\u001b[0;34m**\u001b[0m\u001b[0mparams\u001b[0m\u001b[0;34m)\u001b[0m\u001b[0;34m:\u001b[0m\u001b[0;34m\u001b[0m\u001b[0;34m\u001b[0m\u001b[0m\n\u001b[0m\u001b[1;32m     20\u001b[0m         \u001b[0;32mif\u001b[0m \u001b[0mllm\u001b[0m\u001b[0;34m.\u001b[0m\u001b[0minterpreter\u001b[0m\u001b[0;34m.\u001b[0m\u001b[0mverbose\u001b[0m\u001b[0;34m:\u001b[0m\u001b[0;34m\u001b[0m\u001b[0;34m\u001b[0m\u001b[0m\n\u001b[1;32m     21\u001b[0m             \u001b[0mprint\u001b[0m\u001b[0;34m(\u001b[0m\u001b[0;34m\"Chunk in coding_llm\"\u001b[0m\u001b[0;34m,\u001b[0m \u001b[0mchunk\u001b[0m\u001b[0;34m)\u001b[0m\u001b[0;34m\u001b[0m\u001b[0;34m\u001b[0m\u001b[0m\n\u001b[1;32m     22\u001b[0m \u001b[0;34m\u001b[0m\u001b[0m\n",
      "\u001b[0;32m~/uzCode/vacNAV/.conda/lib/python3.11/site-packages/interpreter/core/llm/llm.py\u001b[0m in \u001b[0;36m?\u001b[0;34m(**params)\u001b[0m\n\u001b[1;32m    233\u001b[0m         \u001b[0;32mtry\u001b[0m\u001b[0;34m:\u001b[0m\u001b[0;34m\u001b[0m\u001b[0;34m\u001b[0m\u001b[0m\n\u001b[1;32m    234\u001b[0m             \u001b[0;32myield\u001b[0m \u001b[0;32mfrom\u001b[0m \u001b[0mlitellm\u001b[0m\u001b[0;34m.\u001b[0m\u001b[0mcompletion\u001b[0m\u001b[0;34m(\u001b[0m\u001b[0;34m**\u001b[0m\u001b[0mparams\u001b[0m\u001b[0;34m)\u001b[0m\u001b[0;34m\u001b[0m\u001b[0;34m\u001b[0m\u001b[0m\n\u001b[1;32m    235\u001b[0m         \u001b[0;32mexcept\u001b[0m\u001b[0;34m:\u001b[0m\u001b[0;34m\u001b[0m\u001b[0;34m\u001b[0m\u001b[0m\n\u001b[1;32m    236\u001b[0m             \u001b[0;31m# If the second attempt also fails, raise the first error\u001b[0m\u001b[0;34m\u001b[0m\u001b[0;34m\u001b[0m\u001b[0m\n\u001b[0;32m--> 237\u001b[0;31m             \u001b[0;32mraise\u001b[0m \u001b[0mfirst_error\u001b[0m\u001b[0;34m\u001b[0m\u001b[0;34m\u001b[0m\u001b[0m\n\u001b[0m",
      "\u001b[0;32m~/uzCode/vacNAV/.conda/lib/python3.11/site-packages/interpreter/core/llm/llm.py\u001b[0m in \u001b[0;36m?\u001b[0;34m(**params)\u001b[0m\n\u001b[1;32m    233\u001b[0m         \u001b[0;32mtry\u001b[0m\u001b[0;34m:\u001b[0m\u001b[0;34m\u001b[0m\u001b[0;34m\u001b[0m\u001b[0m\n\u001b[1;32m    234\u001b[0m             \u001b[0;32myield\u001b[0m \u001b[0;32mfrom\u001b[0m \u001b[0mlitellm\u001b[0m\u001b[0;34m.\u001b[0m\u001b[0mcompletion\u001b[0m\u001b[0;34m(\u001b[0m\u001b[0;34m**\u001b[0m\u001b[0mparams\u001b[0m\u001b[0;34m)\u001b[0m\u001b[0;34m\u001b[0m\u001b[0;34m\u001b[0m\u001b[0m\n\u001b[1;32m    235\u001b[0m         \u001b[0;32mexcept\u001b[0m\u001b[0;34m:\u001b[0m\u001b[0;34m\u001b[0m\u001b[0;34m\u001b[0m\u001b[0m\n\u001b[1;32m    236\u001b[0m             \u001b[0;31m# If the second attempt also fails, raise the first error\u001b[0m\u001b[0;34m\u001b[0m\u001b[0;34m\u001b[0m\u001b[0m\n\u001b[0;32m--> 237\u001b[0;31m             \u001b[0;32mraise\u001b[0m \u001b[0mfirst_error\u001b[0m\u001b[0;34m\u001b[0m\u001b[0;34m\u001b[0m\u001b[0m\n\u001b[0m",
      "\u001b[0;32m~/uzCode/vacNAV/.conda/lib/python3.11/site-packages/litellm/utils.py\u001b[0m in \u001b[0;36m?\u001b[0;34m(*args, **kwargs)\u001b[0m\n\u001b[1;32m   2788\u001b[0m                     if (\n\u001b[1;32m   2789\u001b[0m                         \u001b[0mliteDebuggerClient\u001b[0m \u001b[0;32mand\u001b[0m \u001b[0mliteDebuggerClient\u001b[0m\u001b[0;34m.\u001b[0m\u001b[0mdashboard_url\u001b[0m \u001b[0;34m!=\u001b[0m \u001b[0;32mNone\u001b[0m\u001b[0;34m\u001b[0m\u001b[0;34m\u001b[0m\u001b[0m\n\u001b[1;32m   2790\u001b[0m                     ):  # make it easy to get to the debugger logs if you've initialized it\n\u001b[1;32m   2791\u001b[0m                         \u001b[0me\u001b[0m\u001b[0;34m.\u001b[0m\u001b[0mmessage\u001b[0m \u001b[0;34m+=\u001b[0m \u001b[0;34mf\"\\n Check the log in your dashboard - {liteDebuggerClient.dashboard_url}\"\u001b[0m\u001b[0;34m\u001b[0m\u001b[0;34m\u001b[0m\u001b[0m\n\u001b[0;32m-> 2792\u001b[0;31m             \u001b[0;32mraise\u001b[0m \u001b[0me\u001b[0m\u001b[0;34m\u001b[0m\u001b[0;34m\u001b[0m\u001b[0m\n\u001b[0m",
      "\u001b[0;32m~/uzCode/vacNAV/.conda/lib/python3.11/site-packages/litellm/utils.py\u001b[0m in \u001b[0;36m?\u001b[0;34m(*args, **kwargs)\u001b[0m\n\u001b[1;32m   2788\u001b[0m                     if (\n\u001b[1;32m   2789\u001b[0m                         \u001b[0mliteDebuggerClient\u001b[0m \u001b[0;32mand\u001b[0m \u001b[0mliteDebuggerClient\u001b[0m\u001b[0;34m.\u001b[0m\u001b[0mdashboard_url\u001b[0m \u001b[0;34m!=\u001b[0m \u001b[0;32mNone\u001b[0m\u001b[0;34m\u001b[0m\u001b[0;34m\u001b[0m\u001b[0m\n\u001b[1;32m   2790\u001b[0m                     ):  # make it easy to get to the debugger logs if you've initialized it\n\u001b[1;32m   2791\u001b[0m                         \u001b[0me\u001b[0m\u001b[0;34m.\u001b[0m\u001b[0mmessage\u001b[0m \u001b[0;34m+=\u001b[0m \u001b[0;34mf\"\\n Check the log in your dashboard - {liteDebuggerClient.dashboard_url}\"\u001b[0m\u001b[0;34m\u001b[0m\u001b[0;34m\u001b[0m\u001b[0m\n\u001b[0;32m-> 2792\u001b[0;31m             \u001b[0;32mraise\u001b[0m \u001b[0me\u001b[0m\u001b[0;34m\u001b[0m\u001b[0;34m\u001b[0m\u001b[0m\n\u001b[0m",
      "\u001b[0;32m~/uzCode/vacNAV/.conda/lib/python3.11/site-packages/litellm/main.py\u001b[0m in \u001b[0;36m?\u001b[0;34m(model, messages, timeout, temperature, top_p, n, stream, stop, max_tokens, presence_penalty, frequency_penalty, logit_bias, user, response_format, seed, tools, tool_choice, logprobs, top_logprobs, deployment_id, extra_headers, functions, function_call, base_url, api_version, api_key, model_list, **kwargs)\u001b[0m\n\u001b[1;32m   2054\u001b[0m             )\n\u001b[1;32m   2055\u001b[0m         \u001b[0;32mreturn\u001b[0m \u001b[0mresponse\u001b[0m\u001b[0;34m\u001b[0m\u001b[0;34m\u001b[0m\u001b[0m\n\u001b[1;32m   2056\u001b[0m     \u001b[0;32mexcept\u001b[0m \u001b[0mException\u001b[0m \u001b[0;32mas\u001b[0m \u001b[0me\u001b[0m\u001b[0;34m:\u001b[0m\u001b[0;34m\u001b[0m\u001b[0;34m\u001b[0m\u001b[0m\n\u001b[1;32m   2057\u001b[0m         \u001b[0;31m## Map to OpenAI Exception\u001b[0m\u001b[0;34m\u001b[0m\u001b[0;34m\u001b[0m\u001b[0m\n\u001b[0;32m-> 2058\u001b[0;31m         raise exception_type(\n\u001b[0m\u001b[1;32m   2059\u001b[0m             \u001b[0mmodel\u001b[0m\u001b[0;34m=\u001b[0m\u001b[0mmodel\u001b[0m\u001b[0;34m,\u001b[0m\u001b[0;34m\u001b[0m\u001b[0;34m\u001b[0m\u001b[0m\n\u001b[1;32m   2060\u001b[0m             \u001b[0mcustom_llm_provider\u001b[0m\u001b[0;34m=\u001b[0m\u001b[0mcustom_llm_provider\u001b[0m\u001b[0;34m,\u001b[0m\u001b[0;34m\u001b[0m\u001b[0;34m\u001b[0m\u001b[0m\n\u001b[1;32m   2061\u001b[0m             \u001b[0moriginal_exception\u001b[0m\u001b[0;34m=\u001b[0m\u001b[0me\u001b[0m\u001b[0;34m,\u001b[0m\u001b[0;34m\u001b[0m\u001b[0;34m\u001b[0m\u001b[0m\n",
      "\u001b[0;32m~/uzCode/vacNAV/.conda/lib/python3.11/site-packages/litellm/utils.py\u001b[0m in \u001b[0;36m?\u001b[0;34m(model, original_exception, custom_llm_provider, completion_kwargs)\u001b[0m\n\u001b[1;32m   8261\u001b[0m         ):\n\u001b[1;32m   8262\u001b[0m             \u001b[0mthreading\u001b[0m\u001b[0;34m.\u001b[0m\u001b[0mThread\u001b[0m\u001b[0;34m(\u001b[0m\u001b[0mtarget\u001b[0m\u001b[0;34m=\u001b[0m\u001b[0mget_all_keys\u001b[0m\u001b[0;34m,\u001b[0m \u001b[0margs\u001b[0m\u001b[0;34m=\u001b[0m\u001b[0;34m(\u001b[0m\u001b[0me\u001b[0m\u001b[0;34m.\u001b[0m\u001b[0mllm_provider\u001b[0m\u001b[0;34m,\u001b[0m\u001b[0;34m)\u001b[0m\u001b[0;34m)\u001b[0m\u001b[0;34m.\u001b[0m\u001b[0mstart\u001b[0m\u001b[0;34m(\u001b[0m\u001b[0;34m)\u001b[0m\u001b[0;34m\u001b[0m\u001b[0;34m\u001b[0m\u001b[0m\n\u001b[1;32m   8263\u001b[0m         \u001b[0;31m# don't let an error with mapping interrupt the user from receiving an error from the llm api calls\u001b[0m\u001b[0;34m\u001b[0m\u001b[0;34m\u001b[0m\u001b[0m\n\u001b[1;32m   8264\u001b[0m         \u001b[0;32mif\u001b[0m \u001b[0mexception_mapping_worked\u001b[0m\u001b[0;34m:\u001b[0m\u001b[0;34m\u001b[0m\u001b[0;34m\u001b[0m\u001b[0m\n\u001b[0;32m-> 8265\u001b[0;31m             \u001b[0;32mraise\u001b[0m \u001b[0me\u001b[0m\u001b[0;34m\u001b[0m\u001b[0;34m\u001b[0m\u001b[0m\n\u001b[0m\u001b[1;32m   8266\u001b[0m         \u001b[0;32melse\u001b[0m\u001b[0;34m:\u001b[0m\u001b[0;34m\u001b[0m\u001b[0;34m\u001b[0m\u001b[0m\n\u001b[1;32m   8267\u001b[0m             \u001b[0;32mraise\u001b[0m \u001b[0moriginal_exception\u001b[0m\u001b[0;34m\u001b[0m\u001b[0;34m\u001b[0m\u001b[0m\n",
      "\u001b[0;32m~/uzCode/vacNAV/.conda/lib/python3.11/site-packages/litellm/utils.py\u001b[0m in \u001b[0;36m?\u001b[0;34m(model, original_exception, custom_llm_provider, completion_kwargs)\u001b[0m\n\u001b[1;32m   8261\u001b[0m         ):\n\u001b[1;32m   8262\u001b[0m             \u001b[0mthreading\u001b[0m\u001b[0;34m.\u001b[0m\u001b[0mThread\u001b[0m\u001b[0;34m(\u001b[0m\u001b[0mtarget\u001b[0m\u001b[0;34m=\u001b[0m\u001b[0mget_all_keys\u001b[0m\u001b[0;34m,\u001b[0m \u001b[0margs\u001b[0m\u001b[0;34m=\u001b[0m\u001b[0;34m(\u001b[0m\u001b[0me\u001b[0m\u001b[0;34m.\u001b[0m\u001b[0mllm_provider\u001b[0m\u001b[0;34m,\u001b[0m\u001b[0;34m)\u001b[0m\u001b[0;34m)\u001b[0m\u001b[0;34m.\u001b[0m\u001b[0mstart\u001b[0m\u001b[0;34m(\u001b[0m\u001b[0;34m)\u001b[0m\u001b[0;34m\u001b[0m\u001b[0;34m\u001b[0m\u001b[0m\n\u001b[1;32m   8263\u001b[0m         \u001b[0;31m# don't let an error with mapping interrupt the user from receiving an error from the llm api calls\u001b[0m\u001b[0;34m\u001b[0m\u001b[0;34m\u001b[0m\u001b[0m\n\u001b[1;32m   8264\u001b[0m         \u001b[0;32mif\u001b[0m \u001b[0mexception_mapping_worked\u001b[0m\u001b[0;34m:\u001b[0m\u001b[0;34m\u001b[0m\u001b[0;34m\u001b[0m\u001b[0m\n\u001b[0;32m-> 8265\u001b[0;31m             \u001b[0;32mraise\u001b[0m \u001b[0me\u001b[0m\u001b[0;34m\u001b[0m\u001b[0;34m\u001b[0m\u001b[0m\n\u001b[0m\u001b[1;32m   8266\u001b[0m         \u001b[0;32melse\u001b[0m\u001b[0;34m:\u001b[0m\u001b[0;34m\u001b[0m\u001b[0;34m\u001b[0m\u001b[0m\n\u001b[1;32m   8267\u001b[0m             \u001b[0;32mraise\u001b[0m \u001b[0moriginal_exception\u001b[0m\u001b[0;34m\u001b[0m\u001b[0;34m\u001b[0m\u001b[0m\n",
      "\u001b[0;31mRateLimitError\u001b[0m: AnthropicException - {\"type\":\"error\",\"error\":{\"type\":\"rate_limit_error\",\"message\":\"Number of requests has exceeded your rate limit (https://docs.anthropic.com/claude/reference/rate-limits). Please try again later or contact sales at https://www.anthropic.com/contact-sales to discuss your options for a rate limit increase.\"}}"
     ]
    }
   ],
   "source": [
    "chatWithInterpreter(\"\"\"start the screen saver\"\"\")"
   ]
  },
  {
   "cell_type": "code",
   "execution_count": 9,
   "metadata": {},
   "outputs": [
    {
     "name": "stdout",
     "output_type": "stream",
     "text": [
      "\n"
     ]
    },
    {
     "data": {
      "text/html": [
       "<pre style=\"white-space:pre;overflow-x:auto;line-height:normal;font-family:Menlo,'DejaVu Sans Mono',consolas,'Courier New',monospace\"><span style=\"font-weight: bold\">We were unable to determine the context window of this model.</span> Defaulting to 3000.                                  \n",
       "</pre>\n"
      ],
      "text/plain": [
       "\u001b[1mWe were unable to determine the context window of this model.\u001b[0m Defaulting to 3000.                                  \n"
      ]
     },
     "metadata": {},
     "output_type": "display_data"
    },
    {
     "name": "stdout",
     "output_type": "stream",
     "text": [
      "\n"
     ]
    },
    {
     "data": {
      "text/html": [
       "<pre style=\"white-space:pre;overflow-x:auto;line-height:normal;font-family:Menlo,'DejaVu Sans Mono',consolas,'Courier New',monospace\">If your model can handle more, run <span style=\"color: #008080; text-decoration-color: #008080; background-color: #000000; font-weight: bold\">interpreter.llm.context_window = {token limit}</span>.                                 \n",
       "</pre>\n"
      ],
      "text/plain": [
       "If your model can handle more, run \u001b[1;36;40minterpreter.llm.context_window = {token limit}\u001b[0m.                                 \n"
      ]
     },
     "metadata": {},
     "output_type": "display_data"
    },
    {
     "name": "stdout",
     "output_type": "stream",
     "text": [
      "\n"
     ]
    },
    {
     "data": {
      "text/html": [
       "<pre style=\"white-space:pre;overflow-x:auto;line-height:normal;font-family:Menlo,'DejaVu Sans Mono',consolas,'Courier New',monospace\">Also please set <span style=\"color: #008080; text-decoration-color: #008080; background-color: #000000; font-weight: bold\">interpreter.llm.max_tokens = {max tokens per response}</span>.                                            \n",
       "</pre>\n"
      ],
      "text/plain": [
       "Also please set \u001b[1;36;40minterpreter.llm.max_tokens = {max tokens per response}\u001b[0m.                                            \n"
      ]
     },
     "metadata": {},
     "output_type": "display_data"
    },
    {
     "name": "stdout",
     "output_type": "stream",
     "text": [
      "\n"
     ]
    },
    {
     "data": {
      "text/html": [
       "<pre style=\"white-space:pre;overflow-x:auto;line-height:normal;font-family:Menlo,'DejaVu Sans Mono',consolas,'Courier New',monospace\">Continuing...                                                                                                      \n",
       "</pre>\n"
      ],
      "text/plain": [
       "Continuing...                                                                                                      \n"
      ]
     },
     "metadata": {},
     "output_type": "display_data"
    },
    {
     "name": "stdout",
     "output_type": "stream",
     "text": [
      "\n"
     ]
    },
    {
     "data": {
      "application/vnd.jupyter.widget-view+json": {
       "model_id": "49460a1ed182476f941b4d5d4372e24f",
       "version_major": 2,
       "version_minor": 0
      },
      "text/plain": [
       "Output()"
      ]
     },
     "metadata": {},
     "output_type": "display_data"
    },
    {
     "data": {
      "text/html": [
       "<pre style=\"white-space:pre;overflow-x:auto;line-height:normal;font-family:Menlo,'DejaVu Sans Mono',consolas,'Courier New',monospace\"></pre>\n"
      ],
      "text/plain": []
     },
     "metadata": {},
     "output_type": "display_data"
    },
    {
     "data": {
      "application/vnd.jupyter.widget-view+json": {
       "model_id": "bcb65d3f0abc4b9a8c20607857f6fb8b",
       "version_major": 2,
       "version_minor": 0
      },
      "text/plain": [
       "Output()"
      ]
     },
     "metadata": {},
     "output_type": "display_data"
    },
    {
     "data": {
      "text/html": [
       "<pre style=\"white-space:pre;overflow-x:auto;line-height:normal;font-family:Menlo,'DejaVu Sans Mono',consolas,'Courier New',monospace\"></pre>\n"
      ],
      "text/plain": []
     },
     "metadata": {},
     "output_type": "display_data"
    },
    {
     "data": {
      "application/vnd.jupyter.widget-view+json": {
       "model_id": "24c7b985cebc4b2abf1025c84269f173",
       "version_major": 2,
       "version_minor": 0
      },
      "text/plain": [
       "Output()"
      ]
     },
     "metadata": {},
     "output_type": "display_data"
    },
    {
     "data": {
      "text/html": [
       "<pre style=\"white-space:pre;overflow-x:auto;line-height:normal;font-family:Menlo,'DejaVu Sans Mono',consolas,'Courier New',monospace\"></pre>\n"
      ],
      "text/plain": []
     },
     "metadata": {},
     "output_type": "display_data"
    },
    {
     "data": {
      "application/vnd.jupyter.widget-view+json": {
       "model_id": "e7c3ac2730184d58823f99c5f1611c35",
       "version_major": 2,
       "version_minor": 0
      },
      "text/plain": [
       "Output()"
      ]
     },
     "metadata": {},
     "output_type": "display_data"
    },
    {
     "data": {
      "text/html": [
       "<pre style=\"white-space:pre;overflow-x:auto;line-height:normal;font-family:Menlo,'DejaVu Sans Mono',consolas,'Courier New',monospace\"></pre>\n"
      ],
      "text/plain": []
     },
     "metadata": {},
     "output_type": "display_data"
    },
    {
     "data": {
      "application/vnd.jupyter.widget-view+json": {
       "model_id": "b05a1efbc43945548a14e497d1bfc6f5",
       "version_major": 2,
       "version_minor": 0
      },
      "text/plain": [
       "Output()"
      ]
     },
     "metadata": {},
     "output_type": "display_data"
    },
    {
     "data": {
      "text/html": [
       "<pre style=\"white-space:pre;overflow-x:auto;line-height:normal;font-family:Menlo,'DejaVu Sans Mono',consolas,'Courier New',monospace\"></pre>\n"
      ],
      "text/plain": []
     },
     "metadata": {},
     "output_type": "display_data"
    }
   ],
   "source": [
    "chatWithInterpreter(\"\"\"what is the weather like in new york?\"\"\")"
   ]
  },
  {
   "cell_type": "code",
   "execution_count": null,
   "metadata": {},
   "outputs": [],
   "source": [
    "chatWithInterpreter(\"\"\"pause the media\"\"\")"
   ]
  },
  {
   "cell_type": "code",
   "execution_count": null,
   "metadata": {},
   "outputs": [],
   "source": [
    "chatWithInterpreter(\"\"\"start mission control\"\"\")"
   ]
  },
  {
   "cell_type": "code",
   "execution_count": null,
   "metadata": {},
   "outputs": [],
   "source": [
    "chatWithInterpreter(\"\"\"mute the volume\"\"\")"
   ]
  }
 ],
 "metadata": {
  "kernelspec": {
   "display_name": "oi",
   "language": "python",
   "name": "python3"
  },
  "language_info": {
   "codemirror_mode": {
    "name": "ipython",
    "version": 3
   },
   "file_extension": ".py",
   "mimetype": "text/x-python",
   "name": "python",
   "nbconvert_exporter": "python",
   "pygments_lexer": "ipython3",
   "version": "3.11.8"
  }
 },
 "nbformat": 4,
 "nbformat_minor": 2
}
