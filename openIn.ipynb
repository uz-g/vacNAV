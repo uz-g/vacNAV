{
 "cells": [
  {
   "cell_type": "code",
   "execution_count": null,
   "metadata": {},
   "outputs": [],
   "source": [
    "%pip install open-interpreter\n",
    "%pip uninstall whisper -y\n",
    "%pip install -U openai-whisper\n",
    "%pip install git+https://github.com/openai/whisper.git -q\n",
    "%pip install speechRecognition\n",
    "%pip install ipywidgets\n",
    "%pip install pyaudio\n",
    "%pip uninstall -y torch torchvision torchaudio\n",
    "%pip install torch torchvision torchaudio\n"
   ]
  },
  {
   "cell_type": "code",
   "execution_count": 14,
   "metadata": {},
   "outputs": [],
   "source": [
    "from interpreter import OpenInterpreter\n",
    "from dotenv import load_dotenv\n",
    "from interpreter.terminal_interface.utils.count_tokens import (\n",
    "    count_messages_tokens,\n",
    "    count_tokens,\n",
    ")\n",
    "import os\n",
    "import whisper\n",
    "import speech_recognition as sr\n",
    "import pyaudio\n",
    "\n",
    "\n",
    "load_dotenv()\n",
    "\n",
    "interpreter = OpenInterpreter()\n",
    "interpreter.llm.api_key = os.environ.get(\"API_KEY_ANTHROPIC\")\n",
    "\n",
    "interpreter.llm.model = (\n",
    "    \"claude-3-haiku-20240307\"  # Tells OI to send messages in OpenAI's format\n",
    ")\n",
    "interpreter.system_message = open(\"systemMessage.txt\").read()\n",
    "interpreter.auto_run = True  # Don't require user confirmation\n",
    "\n",
    "# baseModelWhisper = whisper.load_model(\"base.en\")\n",
    "\n",
    "\n"
   ]
  },
  {
   "cell_type": "code",
   "execution_count": null,
   "metadata": {},
   "outputs": [],
   "source": [
    "print(interpreter.system_message)\n"
   ]
  },
  {
   "cell_type": "code",
   "execution_count": 16,
   "metadata": {},
   "outputs": [],
   "source": [
    "\n",
    "\n",
    "\n",
    "\n",
    "\n",
    "def recordAndTranscribe():\n",
    "    speechRecognizer = sr.Recognizer()\n",
    "    with sr.Microphone() as source:\n",
    "        speechRecognizer.pause_threshold = 5\n",
    "        speechRecognizer.adjust_for_ambient_noise(source)\n",
    "        print(\"\\nAsk your question\")\n",
    "        try:\n",
    "            audio = speechRecognizer.listen(source, phrase_time_limit=5)\n",
    "        except sr.WaitTimeoutError:\n",
    "            print(\"Sorry, I didn't hear anything. Please try again.\")\n",
    "            return None\n",
    "    try:\n",
    "        recognizedText = speechRecognizer.recognize_google(audio)\n",
    "        if (\n",
    "            \"exit\" in recognizedText.lower()\n",
    "            or \"quit\" in recognizedText.lower()\n",
    "            or \"goodbye\" in recognizedText.lower()\n",
    "            or \"bye\" in recognizedText.lower()\n",
    "        ):\n",
    "            print(\"bye!\")\n",
    "            sys.exit()\n",
    "        print(\"You said:\", recognizedText)\n",
    "        return recognizedText\n",
    "    except sr.UnknownValueError:\n",
    "        print(\"Sorry, I didn't understand that.\")\n",
    "        return None\n",
    "    \n",
    "def chatWithInterpreter(prompt):\n",
    "    \"\"\"Send a message to the interpreter and returns the response.\"\"\"\n",
    "    if prompt:\n",
    "        response = interpreter.chat(prompt)\n",
    "    \n"
   ]
  },
  {
   "cell_type": "code",
   "execution_count": null,
   "metadata": {},
   "outputs": [],
   "source": [
    "chatWithInterpreter(\"\"\"open wikipedia\"\"\")\n"
   ]
  },
  {
   "cell_type": "code",
   "execution_count": null,
   "metadata": {},
   "outputs": [],
   "source": [
    "chatWithInterpreter(\"\"\"search for a chocolate chip cookie recipe\"\"\")"
   ]
  },
  {
   "cell_type": "code",
   "execution_count": null,
   "metadata": {},
   "outputs": [],
   "source": [
    "chatWithInterpreter(\"\"\"open arc\"\"\")\n"
   ]
  },
  {
   "cell_type": "code",
   "execution_count": null,
   "metadata": {},
   "outputs": [],
   "source": [
    "chatWithInterpreter(\"\"\"open outlook\"\"\")\n"
   ]
  },
  {
   "cell_type": "code",
   "execution_count": null,
   "metadata": {},
   "outputs": [],
   "source": [
    "chatWithInterpreter(\"\"\"give me the history of koenigsegg.\"\"\")\n"
   ]
  },
  {
   "cell_type": "code",
   "execution_count": null,
   "metadata": {},
   "outputs": [],
   "source": [
    "chatWithInterpreter(\"\"\"start the screen saver\"\"\")"
   ]
  },
  {
   "cell_type": "code",
   "execution_count": null,
   "metadata": {},
   "outputs": [],
   "source": [
    "chatWithInterpreter(\"\"\"what is the weather like in ashburn, virginia?\"\"\")"
   ]
  },
  {
   "cell_type": "code",
   "execution_count": 17,
   "metadata": {},
   "outputs": [
    {
     "name": "stdout",
     "output_type": "stream",
     "text": [
      "\n"
     ]
    },
    {
     "data": {
      "text/html": [
       "<pre style=\"white-space:pre;overflow-x:auto;line-height:normal;font-family:Menlo,'DejaVu Sans Mono',consolas,'Courier New',monospace\"><span style=\"font-weight: bold\">We were unable to determine the context window of this model.</span> Defaulting to 3000.                                  \n",
       "</pre>\n"
      ],
      "text/plain": [
       "\u001b[1mWe were unable to determine the context window of this model.\u001b[0m Defaulting to 3000.                                  \n"
      ]
     },
     "metadata": {},
     "output_type": "display_data"
    },
    {
     "name": "stdout",
     "output_type": "stream",
     "text": [
      "\n"
     ]
    },
    {
     "data": {
      "text/html": [
       "<pre style=\"white-space:pre;overflow-x:auto;line-height:normal;font-family:Menlo,'DejaVu Sans Mono',consolas,'Courier New',monospace\">If your model can handle more, run <span style=\"color: #008080; text-decoration-color: #008080; background-color: #000000; font-weight: bold\">interpreter.llm.context_window = {token limit}</span>.                                 \n",
       "</pre>\n"
      ],
      "text/plain": [
       "If your model can handle more, run \u001b[1;36;40minterpreter.llm.context_window = {token limit}\u001b[0m.                                 \n"
      ]
     },
     "metadata": {},
     "output_type": "display_data"
    },
    {
     "name": "stdout",
     "output_type": "stream",
     "text": [
      "\n"
     ]
    },
    {
     "data": {
      "text/html": [
       "<pre style=\"white-space:pre;overflow-x:auto;line-height:normal;font-family:Menlo,'DejaVu Sans Mono',consolas,'Courier New',monospace\">Also please set <span style=\"color: #008080; text-decoration-color: #008080; background-color: #000000; font-weight: bold\">interpreter.llm.max_tokens = {max tokens per response}</span>.                                            \n",
       "</pre>\n"
      ],
      "text/plain": [
       "Also please set \u001b[1;36;40minterpreter.llm.max_tokens = {max tokens per response}\u001b[0m.                                            \n"
      ]
     },
     "metadata": {},
     "output_type": "display_data"
    },
    {
     "name": "stdout",
     "output_type": "stream",
     "text": [
      "\n"
     ]
    },
    {
     "data": {
      "text/html": [
       "<pre style=\"white-space:pre;overflow-x:auto;line-height:normal;font-family:Menlo,'DejaVu Sans Mono',consolas,'Courier New',monospace\">Continuing...                                                                                                      \n",
       "</pre>\n"
      ],
      "text/plain": [
       "Continuing...                                                                                                      \n"
      ]
     },
     "metadata": {},
     "output_type": "display_data"
    },
    {
     "name": "stdout",
     "output_type": "stream",
     "text": [
      "\n"
     ]
    },
    {
     "data": {
      "application/vnd.jupyter.widget-view+json": {
       "model_id": "da8f329da5d0476f94a41ef7993a5a12",
       "version_major": 2,
       "version_minor": 0
      },
      "text/plain": [
       "Output()"
      ]
     },
     "metadata": {},
     "output_type": "display_data"
    },
    {
     "data": {
      "text/html": [
       "<pre style=\"white-space:pre;overflow-x:auto;line-height:normal;font-family:Menlo,'DejaVu Sans Mono',consolas,'Courier New',monospace\"></pre>\n"
      ],
      "text/plain": []
     },
     "metadata": {},
     "output_type": "display_data"
    },
    {
     "data": {
      "application/vnd.jupyter.widget-view+json": {
       "model_id": "1e89b92a392946658b39b2f28b7a847c",
       "version_major": 2,
       "version_minor": 0
      },
      "text/plain": [
       "Output()"
      ]
     },
     "metadata": {},
     "output_type": "display_data"
    },
    {
     "data": {
      "text/html": [
       "<pre style=\"white-space:pre;overflow-x:auto;line-height:normal;font-family:Menlo,'DejaVu Sans Mono',consolas,'Courier New',monospace\"></pre>\n"
      ],
      "text/plain": []
     },
     "metadata": {},
     "output_type": "display_data"
    },
    {
     "data": {
      "application/vnd.jupyter.widget-view+json": {
       "model_id": "9df84eb9b6164e68a046af1e9780b947",
       "version_major": 2,
       "version_minor": 0
      },
      "text/plain": [
       "Output()"
      ]
     },
     "metadata": {},
     "output_type": "display_data"
    },
    {
     "data": {
      "text/html": [
       "<pre style=\"white-space:pre;overflow-x:auto;line-height:normal;font-family:Menlo,'DejaVu Sans Mono',consolas,'Courier New',monospace\"></pre>\n"
      ],
      "text/plain": []
     },
     "metadata": {},
     "output_type": "display_data"
    },
    {
     "data": {
      "application/vnd.jupyter.widget-view+json": {
       "model_id": "66f109d1a69e498194649f0049aacc0e",
       "version_major": 2,
       "version_minor": 0
      },
      "text/plain": [
       "Output()"
      ]
     },
     "metadata": {},
     "output_type": "display_data"
    },
    {
     "data": {
      "text/html": [
       "<pre style=\"white-space:pre;overflow-x:auto;line-height:normal;font-family:Menlo,'DejaVu Sans Mono',consolas,'Courier New',monospace\"></pre>\n"
      ],
      "text/plain": []
     },
     "metadata": {},
     "output_type": "display_data"
    },
    {
     "data": {
      "application/vnd.jupyter.widget-view+json": {
       "model_id": "09358e60e93b4479b899f3c983e7c6bc",
       "version_major": 2,
       "version_minor": 0
      },
      "text/plain": [
       "Output()"
      ]
     },
     "metadata": {},
     "output_type": "display_data"
    },
    {
     "data": {
      "text/html": [
       "<pre style=\"white-space:pre;overflow-x:auto;line-height:normal;font-family:Menlo,'DejaVu Sans Mono',consolas,'Courier New',monospace\"></pre>\n"
      ],
      "text/plain": []
     },
     "metadata": {},
     "output_type": "display_data"
    },
    {
     "data": {
      "application/vnd.jupyter.widget-view+json": {
       "model_id": "86b763a8568744b88bf028017954c147",
       "version_major": 2,
       "version_minor": 0
      },
      "text/plain": [
       "Output()"
      ]
     },
     "metadata": {},
     "output_type": "display_data"
    },
    {
     "data": {
      "text/html": [
       "<pre style=\"white-space:pre;overflow-x:auto;line-height:normal;font-family:Menlo,'DejaVu Sans Mono',consolas,'Courier New',monospace\"></pre>\n"
      ],
      "text/plain": []
     },
     "metadata": {},
     "output_type": "display_data"
    },
    {
     "data": {
      "application/vnd.jupyter.widget-view+json": {
       "model_id": "09878b8de9864be0a0b166c1d4347680",
       "version_major": 2,
       "version_minor": 0
      },
      "text/plain": [
       "Output()"
      ]
     },
     "metadata": {},
     "output_type": "display_data"
    },
    {
     "data": {
      "text/html": [
       "<pre style=\"white-space:pre;overflow-x:auto;line-height:normal;font-family:Menlo,'DejaVu Sans Mono',consolas,'Courier New',monospace\"></pre>\n"
      ],
      "text/plain": []
     },
     "metadata": {},
     "output_type": "display_data"
    },
    {
     "data": {
      "application/vnd.jupyter.widget-view+json": {
       "model_id": "86b266355594414fad43605680dd239d",
       "version_major": 2,
       "version_minor": 0
      },
      "text/plain": [
       "Output()"
      ]
     },
     "metadata": {},
     "output_type": "display_data"
    },
    {
     "name": "stderr",
     "output_type": "stream",
     "text": [
      "29:38: execution error: The variable playpause is not defined. (-2753)\n"
     ]
    },
    {
     "name": "stderr",
     "output_type": "stream",
     "text": [
      "27:36: execution error: The variable playpause is not defined. (-2753)\n"
     ]
    },
    {
     "data": {
      "text/html": [
       "<pre style=\"white-space:pre;overflow-x:auto;line-height:normal;font-family:Menlo,'DejaVu Sans Mono',consolas,'Courier New',monospace\"></pre>\n"
      ],
      "text/plain": []
     },
     "metadata": {},
     "output_type": "display_data"
    },
    {
     "data": {
      "application/vnd.jupyter.widget-view+json": {
       "model_id": "ef5aa439a1364bbdbf62fa93f7bb0cbc",
       "version_major": 2,
       "version_minor": 0
      },
      "text/plain": [
       "Output()"
      ]
     },
     "metadata": {},
     "output_type": "display_data"
    },
    {
     "data": {
      "text/html": [
       "<pre style=\"white-space:pre;overflow-x:auto;line-height:normal;font-family:Menlo,'DejaVu Sans Mono',consolas,'Courier New',monospace\"></pre>\n"
      ],
      "text/plain": []
     },
     "metadata": {},
     "output_type": "display_data"
    },
    {
     "data": {
      "application/vnd.jupyter.widget-view+json": {
       "model_id": "6f8f6c83a8504cc1b3b2719744946305",
       "version_major": 2,
       "version_minor": 0
      },
      "text/plain": [
       "Output()"
      ]
     },
     "metadata": {},
     "output_type": "display_data"
    },
    {
     "name": "stderr",
     "output_type": "stream",
     "text": [
      "[IPKernelApp] WARNING | Parent appears to have exited, shutting down.\n",
      "[IPKernelApp] WARNING | Parent appears to have exited, shutting down.\n"
     ]
    }
   ],
   "source": [
    "chatWithInterpreter(\"\"\"pause the media\"\"\")"
   ]
  }
 ],
 "metadata": {
  "kernelspec": {
   "display_name": "oi",
   "language": "python",
   "name": "python3"
  },
  "language_info": {
   "codemirror_mode": {
    "name": "ipython",
    "version": 3
   },
   "file_extension": ".py",
   "mimetype": "text/x-python",
   "name": "python",
   "nbconvert_exporter": "python",
   "pygments_lexer": "ipython3",
   "version": "3.11.8"
  }
 },
 "nbformat": 4,
 "nbformat_minor": 2
}
