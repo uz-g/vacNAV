{
 "cells": [
  {
   "cell_type": "code",
   "execution_count": 13,
   "metadata": {},
   "outputs": [
    {
     "name": "stdout",
     "output_type": "stream",
     "text": [
      "Requirement already satisfied: open-interpreter in ./.conda/lib/python3.11/site-packages (0.2.3)\n",
      "Requirement already satisfied: aifs<0.0.10,>=0.0.9 in ./.conda/lib/python3.11/site-packages (from open-interpreter) (0.0.9)\n",
      "Requirement already satisfied: astor<0.9.0,>=0.8.1 in ./.conda/lib/python3.11/site-packages (from open-interpreter) (0.8.1)\n",
      "Requirement already satisfied: fastapi<0.111.0,>=0.110.0 in ./.conda/lib/python3.11/site-packages (from open-interpreter) (0.110.0)\n",
      "Requirement already satisfied: git-python<2.0.0,>=1.0.3 in ./.conda/lib/python3.11/site-packages (from open-interpreter) (1.0.3)\n",
      "Requirement already satisfied: html2image<3.0.0.0,>=2.0.4.3 in ./.conda/lib/python3.11/site-packages (from open-interpreter) (2.0.4.3)\n",
      "Requirement already satisfied: inquirer<4.0.0,>=3.1.3 in ./.conda/lib/python3.11/site-packages (from open-interpreter) (3.2.4)\n",
      "Requirement already satisfied: ipykernel<7.0.0,>=6.26.0 in ./.conda/lib/python3.11/site-packages (from open-interpreter) (6.29.3)\n",
      "Requirement already satisfied: jupyter-client<9.0.0,>=8.6.0 in ./.conda/lib/python3.11/site-packages (from open-interpreter) (8.6.1)\n",
      "Requirement already satisfied: litellm<2.0.0,>=1.18.4 in ./.conda/lib/python3.11/site-packages (from open-interpreter) (1.32.9)\n",
      "Requirement already satisfied: matplotlib<4.0.0,>=3.8.2 in ./.conda/lib/python3.11/site-packages (from open-interpreter) (3.8.3)\n",
      "Requirement already satisfied: nltk<4.0.0,>=3.8.1 in ./.conda/lib/python3.11/site-packages (from open-interpreter) (3.8.1)\n",
      "Requirement already satisfied: platformdirs<5.0.0,>=4.2.0 in ./.conda/lib/python3.11/site-packages (from open-interpreter) (4.2.0)\n",
      "Requirement already satisfied: posthog<4.0.0,>=3.1.0 in ./.conda/lib/python3.11/site-packages (from open-interpreter) (3.5.0)\n",
      "Requirement already satisfied: prompt-toolkit<4.0.0,>=3.0.43 in ./.conda/lib/python3.11/site-packages (from open-interpreter) (3.0.43)\n",
      "Requirement already satisfied: psutil<6.0.0,>=5.9.6 in ./.conda/lib/python3.11/site-packages (from open-interpreter) (5.9.8)\n",
      "Requirement already satisfied: pyyaml<7.0.0,>=6.0.1 in ./.conda/lib/python3.11/site-packages (from open-interpreter) (6.0.1)\n",
      "Requirement already satisfied: rich<14.0.0,>=13.4.2 in ./.conda/lib/python3.11/site-packages (from open-interpreter) (13.7.1)\n",
      "Requirement already satisfied: send2trash<2.0.0,>=1.8.2 in ./.conda/lib/python3.11/site-packages (from open-interpreter) (1.8.2)\n",
      "Requirement already satisfied: six<2.0.0,>=1.16.0 in ./.conda/lib/python3.11/site-packages (from open-interpreter) (1.16.0)\n",
      "Requirement already satisfied: tiktoken<0.6.0,>=0.5.2 in ./.conda/lib/python3.11/site-packages (from open-interpreter) (0.5.2)\n",
      "Requirement already satisfied: tokentrim<0.2.0,>=0.1.13 in ./.conda/lib/python3.11/site-packages (from open-interpreter) (0.1.13)\n",
      "Requirement already satisfied: toml<0.11.0,>=0.10.2 in ./.conda/lib/python3.11/site-packages (from open-interpreter) (0.10.2)\n",
      "Requirement already satisfied: uvicorn<0.28.0,>=0.27.0 in ./.conda/lib/python3.11/site-packages (from open-interpreter) (0.27.1)\n",
      "Requirement already satisfied: wget<4.0,>=3.2 in ./.conda/lib/python3.11/site-packages (from open-interpreter) (3.2)\n",
      "Requirement already satisfied: chromadb<0.5.0,>=0.4.22 in ./.conda/lib/python3.11/site-packages (from aifs<0.0.10,>=0.0.9->open-interpreter) (0.4.24)\n",
      "Requirement already satisfied: unstructured<0.13.0,>=0.12.0 in ./.conda/lib/python3.11/site-packages (from aifs<0.0.10,>=0.0.9->open-interpreter) (0.12.6)\n",
      "Requirement already satisfied: pydantic!=1.8,!=1.8.1,!=2.0.0,!=2.0.1,!=2.1.0,<3.0.0,>=1.7.4 in ./.conda/lib/python3.11/site-packages (from fastapi<0.111.0,>=0.110.0->open-interpreter) (2.6.4)\n",
      "Requirement already satisfied: starlette<0.37.0,>=0.36.3 in ./.conda/lib/python3.11/site-packages (from fastapi<0.111.0,>=0.110.0->open-interpreter) (0.36.3)\n",
      "Requirement already satisfied: typing-extensions>=4.8.0 in ./.conda/lib/python3.11/site-packages (from fastapi<0.111.0,>=0.110.0->open-interpreter) (4.9.0)\n",
      "Requirement already satisfied: gitpython in ./.conda/lib/python3.11/site-packages (from git-python<2.0.0,>=1.0.3->open-interpreter) (3.1.42)\n",
      "Requirement already satisfied: requests in ./.conda/lib/python3.11/site-packages (from html2image<3.0.0.0,>=2.0.4.3->open-interpreter) (2.31.0)\n",
      "Requirement already satisfied: websocket-client<2.0.0,>=1.0.0 in ./.conda/lib/python3.11/site-packages (from html2image<3.0.0.0,>=2.0.4.3->open-interpreter) (1.7.0)\n",
      "Requirement already satisfied: blessed>=1.19.0 in ./.conda/lib/python3.11/site-packages (from inquirer<4.0.0,>=3.1.3->open-interpreter) (1.20.0)\n",
      "Requirement already satisfied: editor>=1.6.0 in ./.conda/lib/python3.11/site-packages (from inquirer<4.0.0,>=3.1.3->open-interpreter) (1.6.6)\n",
      "Requirement already satisfied: readchar>=3.0.6 in ./.conda/lib/python3.11/site-packages (from inquirer<4.0.0,>=3.1.3->open-interpreter) (4.0.6)\n",
      "Requirement already satisfied: appnope in ./.conda/lib/python3.11/site-packages (from ipykernel<7.0.0,>=6.26.0->open-interpreter) (0.1.4)\n",
      "Requirement already satisfied: comm>=0.1.1 in ./.conda/lib/python3.11/site-packages (from ipykernel<7.0.0,>=6.26.0->open-interpreter) (0.2.2)\n",
      "Requirement already satisfied: debugpy>=1.6.5 in ./.conda/lib/python3.11/site-packages (from ipykernel<7.0.0,>=6.26.0->open-interpreter) (1.6.7)\n",
      "Requirement already satisfied: ipython>=7.23.1 in ./.conda/lib/python3.11/site-packages (from ipykernel<7.0.0,>=6.26.0->open-interpreter) (8.22.2)\n",
      "Requirement already satisfied: jupyter-core!=5.0.*,>=4.12 in ./.conda/lib/python3.11/site-packages (from ipykernel<7.0.0,>=6.26.0->open-interpreter) (5.5.0)\n",
      "Requirement already satisfied: matplotlib-inline>=0.1 in ./.conda/lib/python3.11/site-packages (from ipykernel<7.0.0,>=6.26.0->open-interpreter) (0.1.6)\n",
      "Requirement already satisfied: nest-asyncio in ./.conda/lib/python3.11/site-packages (from ipykernel<7.0.0,>=6.26.0->open-interpreter) (1.6.0)\n",
      "Requirement already satisfied: packaging in ./.conda/lib/python3.11/site-packages (from ipykernel<7.0.0,>=6.26.0->open-interpreter) (23.2)\n",
      "Requirement already satisfied: pyzmq>=24 in ./.conda/lib/python3.11/site-packages (from ipykernel<7.0.0,>=6.26.0->open-interpreter) (25.1.2)\n",
      "Requirement already satisfied: tornado>=6.1 in ./.conda/lib/python3.11/site-packages (from ipykernel<7.0.0,>=6.26.0->open-interpreter) (6.3.3)\n",
      "Requirement already satisfied: traitlets>=5.4.0 in ./.conda/lib/python3.11/site-packages (from ipykernel<7.0.0,>=6.26.0->open-interpreter) (5.14.2)\n",
      "Requirement already satisfied: python-dateutil>=2.8.2 in ./.conda/lib/python3.11/site-packages (from jupyter-client<9.0.0,>=8.6.0->open-interpreter) (2.8.2)\n",
      "Requirement already satisfied: aiohttp in ./.conda/lib/python3.11/site-packages (from litellm<2.0.0,>=1.18.4->open-interpreter) (3.9.3)\n",
      "Requirement already satisfied: click in ./.conda/lib/python3.11/site-packages (from litellm<2.0.0,>=1.18.4->open-interpreter) (8.1.7)\n",
      "Requirement already satisfied: importlib-metadata>=6.8.0 in ./.conda/lib/python3.11/site-packages (from litellm<2.0.0,>=1.18.4->open-interpreter) (6.11.0)\n",
      "Requirement already satisfied: jinja2<4.0.0,>=3.1.2 in ./.conda/lib/python3.11/site-packages (from litellm<2.0.0,>=1.18.4->open-interpreter) (3.1.3)\n",
      "Requirement already satisfied: openai>=1.0.0 in ./.conda/lib/python3.11/site-packages (from litellm<2.0.0,>=1.18.4->open-interpreter) (1.14.2)\n",
      "Requirement already satisfied: python-dotenv>=0.2.0 in ./.conda/lib/python3.11/site-packages (from litellm<2.0.0,>=1.18.4->open-interpreter) (1.0.1)\n",
      "Requirement already satisfied: tokenizers in ./.conda/lib/python3.11/site-packages (from litellm<2.0.0,>=1.18.4->open-interpreter) (0.15.2)\n",
      "Requirement already satisfied: contourpy>=1.0.1 in ./.conda/lib/python3.11/site-packages (from matplotlib<4.0.0,>=3.8.2->open-interpreter) (1.2.0)\n",
      "Requirement already satisfied: cycler>=0.10 in ./.conda/lib/python3.11/site-packages (from matplotlib<4.0.0,>=3.8.2->open-interpreter) (0.12.1)\n",
      "Requirement already satisfied: fonttools>=4.22.0 in ./.conda/lib/python3.11/site-packages (from matplotlib<4.0.0,>=3.8.2->open-interpreter) (4.50.0)\n",
      "Requirement already satisfied: kiwisolver>=1.3.1 in ./.conda/lib/python3.11/site-packages (from matplotlib<4.0.0,>=3.8.2->open-interpreter) (1.4.5)\n",
      "Requirement already satisfied: numpy<2,>=1.21 in ./.conda/lib/python3.11/site-packages (from matplotlib<4.0.0,>=3.8.2->open-interpreter) (1.26.4)\n",
      "Requirement already satisfied: pillow>=8 in ./.conda/lib/python3.11/site-packages (from matplotlib<4.0.0,>=3.8.2->open-interpreter) (10.2.0)\n",
      "Requirement already satisfied: pyparsing>=2.3.1 in ./.conda/lib/python3.11/site-packages (from matplotlib<4.0.0,>=3.8.2->open-interpreter) (3.1.2)\n",
      "Requirement already satisfied: joblib in ./.conda/lib/python3.11/site-packages (from nltk<4.0.0,>=3.8.1->open-interpreter) (1.3.2)\n",
      "Requirement already satisfied: regex>=2021.8.3 in ./.conda/lib/python3.11/site-packages (from nltk<4.0.0,>=3.8.1->open-interpreter) (2023.12.25)\n",
      "Requirement already satisfied: tqdm in ./.conda/lib/python3.11/site-packages (from nltk<4.0.0,>=3.8.1->open-interpreter) (4.66.2)\n",
      "Requirement already satisfied: monotonic>=1.5 in ./.conda/lib/python3.11/site-packages (from posthog<4.0.0,>=3.1.0->open-interpreter) (1.6)\n",
      "Requirement already satisfied: backoff>=1.10.0 in ./.conda/lib/python3.11/site-packages (from posthog<4.0.0,>=3.1.0->open-interpreter) (2.2.1)\n",
      "Requirement already satisfied: wcwidth in ./.conda/lib/python3.11/site-packages (from prompt-toolkit<4.0.0,>=3.0.43->open-interpreter) (0.2.13)\n",
      "Requirement already satisfied: markdown-it-py>=2.2.0 in ./.conda/lib/python3.11/site-packages (from rich<14.0.0,>=13.4.2->open-interpreter) (3.0.0)\n",
      "Requirement already satisfied: pygments<3.0.0,>=2.13.0 in ./.conda/lib/python3.11/site-packages (from rich<14.0.0,>=13.4.2->open-interpreter) (2.17.2)\n",
      "Requirement already satisfied: h11>=0.8 in ./.conda/lib/python3.11/site-packages (from uvicorn<0.28.0,>=0.27.0->open-interpreter) (0.14.0)\n",
      "Requirement already satisfied: build>=1.0.3 in ./.conda/lib/python3.11/site-packages (from chromadb<0.5.0,>=0.4.22->aifs<0.0.10,>=0.0.9->open-interpreter) (1.1.1)\n",
      "Requirement already satisfied: chroma-hnswlib==0.7.3 in ./.conda/lib/python3.11/site-packages (from chromadb<0.5.0,>=0.4.22->aifs<0.0.10,>=0.0.9->open-interpreter) (0.7.3)\n",
      "Requirement already satisfied: pulsar-client>=3.1.0 in ./.conda/lib/python3.11/site-packages (from chromadb<0.5.0,>=0.4.22->aifs<0.0.10,>=0.0.9->open-interpreter) (3.4.0)\n",
      "Requirement already satisfied: onnxruntime>=1.14.1 in ./.conda/lib/python3.11/site-packages (from chromadb<0.5.0,>=0.4.22->aifs<0.0.10,>=0.0.9->open-interpreter) (1.17.1)\n",
      "Requirement already satisfied: opentelemetry-api>=1.2.0 in ./.conda/lib/python3.11/site-packages (from chromadb<0.5.0,>=0.4.22->aifs<0.0.10,>=0.0.9->open-interpreter) (1.23.0)\n",
      "Requirement already satisfied: opentelemetry-exporter-otlp-proto-grpc>=1.2.0 in ./.conda/lib/python3.11/site-packages (from chromadb<0.5.0,>=0.4.22->aifs<0.0.10,>=0.0.9->open-interpreter) (1.23.0)\n",
      "Requirement already satisfied: opentelemetry-instrumentation-fastapi>=0.41b0 in ./.conda/lib/python3.11/site-packages (from chromadb<0.5.0,>=0.4.22->aifs<0.0.10,>=0.0.9->open-interpreter) (0.44b0)\n",
      "Requirement already satisfied: opentelemetry-sdk>=1.2.0 in ./.conda/lib/python3.11/site-packages (from chromadb<0.5.0,>=0.4.22->aifs<0.0.10,>=0.0.9->open-interpreter) (1.23.0)\n",
      "Requirement already satisfied: pypika>=0.48.9 in ./.conda/lib/python3.11/site-packages (from chromadb<0.5.0,>=0.4.22->aifs<0.0.10,>=0.0.9->open-interpreter) (0.48.9)\n",
      "Requirement already satisfied: overrides>=7.3.1 in ./.conda/lib/python3.11/site-packages (from chromadb<0.5.0,>=0.4.22->aifs<0.0.10,>=0.0.9->open-interpreter) (7.7.0)\n",
      "Requirement already satisfied: importlib-resources in ./.conda/lib/python3.11/site-packages (from chromadb<0.5.0,>=0.4.22->aifs<0.0.10,>=0.0.9->open-interpreter) (6.3.2)\n",
      "Requirement already satisfied: grpcio>=1.58.0 in ./.conda/lib/python3.11/site-packages (from chromadb<0.5.0,>=0.4.22->aifs<0.0.10,>=0.0.9->open-interpreter) (1.62.1)\n",
      "Requirement already satisfied: bcrypt>=4.0.1 in ./.conda/lib/python3.11/site-packages (from chromadb<0.5.0,>=0.4.22->aifs<0.0.10,>=0.0.9->open-interpreter) (4.1.2)\n",
      "Requirement already satisfied: typer>=0.9.0 in ./.conda/lib/python3.11/site-packages (from chromadb<0.5.0,>=0.4.22->aifs<0.0.10,>=0.0.9->open-interpreter) (0.9.0)\n",
      "Requirement already satisfied: kubernetes>=28.1.0 in ./.conda/lib/python3.11/site-packages (from chromadb<0.5.0,>=0.4.22->aifs<0.0.10,>=0.0.9->open-interpreter) (29.0.0)\n",
      "Requirement already satisfied: tenacity>=8.2.3 in ./.conda/lib/python3.11/site-packages (from chromadb<0.5.0,>=0.4.22->aifs<0.0.10,>=0.0.9->open-interpreter) (8.2.3)\n",
      "Requirement already satisfied: mmh3>=4.0.1 in ./.conda/lib/python3.11/site-packages (from chromadb<0.5.0,>=0.4.22->aifs<0.0.10,>=0.0.9->open-interpreter) (4.1.0)\n",
      "Requirement already satisfied: orjson>=3.9.12 in ./.conda/lib/python3.11/site-packages (from chromadb<0.5.0,>=0.4.22->aifs<0.0.10,>=0.0.9->open-interpreter) (3.9.15)\n",
      "Requirement already satisfied: runs in ./.conda/lib/python3.11/site-packages (from editor>=1.6.0->inquirer<4.0.0,>=3.1.3->open-interpreter) (1.2.2)\n",
      "Requirement already satisfied: xmod in ./.conda/lib/python3.11/site-packages (from editor>=1.6.0->inquirer<4.0.0,>=3.1.3->open-interpreter) (1.8.1)\n",
      "Requirement already satisfied: zipp>=0.5 in ./.conda/lib/python3.11/site-packages (from importlib-metadata>=6.8.0->litellm<2.0.0,>=1.18.4->open-interpreter) (3.17.0)\n",
      "Requirement already satisfied: decorator in ./.conda/lib/python3.11/site-packages (from ipython>=7.23.1->ipykernel<7.0.0,>=6.26.0->open-interpreter) (5.1.1)\n",
      "Requirement already satisfied: jedi>=0.16 in ./.conda/lib/python3.11/site-packages (from ipython>=7.23.1->ipykernel<7.0.0,>=6.26.0->open-interpreter) (0.19.1)\n",
      "Requirement already satisfied: stack-data in ./.conda/lib/python3.11/site-packages (from ipython>=7.23.1->ipykernel<7.0.0,>=6.26.0->open-interpreter) (0.6.2)\n",
      "Requirement already satisfied: pexpect>4.3 in ./.conda/lib/python3.11/site-packages (from ipython>=7.23.1->ipykernel<7.0.0,>=6.26.0->open-interpreter) (4.9.0)\n",
      "Requirement already satisfied: MarkupSafe>=2.0 in ./.conda/lib/python3.11/site-packages (from jinja2<4.0.0,>=3.1.2->litellm<2.0.0,>=1.18.4->open-interpreter) (2.1.5)\n",
      "Requirement already satisfied: mdurl~=0.1 in ./.conda/lib/python3.11/site-packages (from markdown-it-py>=2.2.0->rich<14.0.0,>=13.4.2->open-interpreter) (0.1.2)\n",
      "Requirement already satisfied: anyio<5,>=3.5.0 in ./.conda/lib/python3.11/site-packages (from openai>=1.0.0->litellm<2.0.0,>=1.18.4->open-interpreter) (4.3.0)\n",
      "Requirement already satisfied: distro<2,>=1.7.0 in ./.conda/lib/python3.11/site-packages (from openai>=1.0.0->litellm<2.0.0,>=1.18.4->open-interpreter) (1.9.0)\n",
      "Requirement already satisfied: httpx<1,>=0.23.0 in ./.conda/lib/python3.11/site-packages (from openai>=1.0.0->litellm<2.0.0,>=1.18.4->open-interpreter) (0.27.0)\n",
      "Requirement already satisfied: sniffio in ./.conda/lib/python3.11/site-packages (from openai>=1.0.0->litellm<2.0.0,>=1.18.4->open-interpreter) (1.3.1)\n",
      "Requirement already satisfied: annotated-types>=0.4.0 in ./.conda/lib/python3.11/site-packages (from pydantic!=1.8,!=1.8.1,!=2.0.0,!=2.0.1,!=2.1.0,<3.0.0,>=1.7.4->fastapi<0.111.0,>=0.110.0->open-interpreter) (0.6.0)\n",
      "Requirement already satisfied: pydantic-core==2.16.3 in ./.conda/lib/python3.11/site-packages (from pydantic!=1.8,!=1.8.1,!=2.0.0,!=2.0.1,!=2.1.0,<3.0.0,>=1.7.4->fastapi<0.111.0,>=0.110.0->open-interpreter) (2.16.3)\n",
      "Requirement already satisfied: setuptools>=41.0 in ./.conda/lib/python3.11/site-packages (from readchar>=3.0.6->inquirer<4.0.0,>=3.1.3->open-interpreter) (68.2.2)\n",
      "Requirement already satisfied: charset-normalizer<4,>=2 in ./.conda/lib/python3.11/site-packages (from requests->html2image<3.0.0.0,>=2.0.4.3->open-interpreter) (3.3.2)\n",
      "Requirement already satisfied: idna<4,>=2.5 in ./.conda/lib/python3.11/site-packages (from requests->html2image<3.0.0.0,>=2.0.4.3->open-interpreter) (3.6)\n",
      "Requirement already satisfied: urllib3<3,>=1.21.1 in ./.conda/lib/python3.11/site-packages (from requests->html2image<3.0.0.0,>=2.0.4.3->open-interpreter) (1.26.18)\n",
      "Requirement already satisfied: certifi>=2017.4.17 in ./.conda/lib/python3.11/site-packages (from requests->html2image<3.0.0.0,>=2.0.4.3->open-interpreter) (2024.2.2)\n",
      "Requirement already satisfied: huggingface_hub<1.0,>=0.16.4 in ./.conda/lib/python3.11/site-packages (from tokenizers->litellm<2.0.0,>=1.18.4->open-interpreter) (0.21.4)\n",
      "Requirement already satisfied: beautifulsoup4==4.12.3 in ./.conda/lib/python3.11/site-packages (from unstructured<0.13.0,>=0.12.0->aifs<0.0.10,>=0.0.9->open-interpreter) (4.12.3)\n",
      "Requirement already satisfied: chardet==5.2.0 in ./.conda/lib/python3.11/site-packages (from unstructured<0.13.0,>=0.12.0->aifs<0.0.10,>=0.0.9->open-interpreter) (5.2.0)\n",
      "Requirement already satisfied: dataclasses-json==0.6.4 in ./.conda/lib/python3.11/site-packages (from unstructured<0.13.0,>=0.12.0->aifs<0.0.10,>=0.0.9->open-interpreter) (0.6.4)\n",
      "Requirement already satisfied: dataclasses-json-speakeasy==0.5.11 in ./.conda/lib/python3.11/site-packages (from unstructured<0.13.0,>=0.12.0->aifs<0.0.10,>=0.0.9->open-interpreter) (0.5.11)\n",
      "Requirement already satisfied: emoji==2.10.1 in ./.conda/lib/python3.11/site-packages (from unstructured<0.13.0,>=0.12.0->aifs<0.0.10,>=0.0.9->open-interpreter) (2.10.1)\n",
      "Requirement already satisfied: filetype==1.2.0 in ./.conda/lib/python3.11/site-packages (from unstructured<0.13.0,>=0.12.0->aifs<0.0.10,>=0.0.9->open-interpreter) (1.2.0)\n",
      "Requirement already satisfied: jsonpath-python==1.0.6 in ./.conda/lib/python3.11/site-packages (from unstructured<0.13.0,>=0.12.0->aifs<0.0.10,>=0.0.9->open-interpreter) (1.0.6)\n",
      "Requirement already satisfied: langdetect==1.0.9 in ./.conda/lib/python3.11/site-packages (from unstructured<0.13.0,>=0.12.0->aifs<0.0.10,>=0.0.9->open-interpreter) (1.0.9)\n",
      "Requirement already satisfied: lxml==5.1.0 in ./.conda/lib/python3.11/site-packages (from unstructured<0.13.0,>=0.12.0->aifs<0.0.10,>=0.0.9->open-interpreter) (5.1.0)\n",
      "Requirement already satisfied: marshmallow==3.20.2 in ./.conda/lib/python3.11/site-packages (from unstructured<0.13.0,>=0.12.0->aifs<0.0.10,>=0.0.9->open-interpreter) (3.20.2)\n",
      "Requirement already satisfied: mypy-extensions==1.0.0 in ./.conda/lib/python3.11/site-packages (from unstructured<0.13.0,>=0.12.0->aifs<0.0.10,>=0.0.9->open-interpreter) (1.0.0)\n",
      "Requirement already satisfied: python-iso639==2024.2.7 in ./.conda/lib/python3.11/site-packages (from unstructured<0.13.0,>=0.12.0->aifs<0.0.10,>=0.0.9->open-interpreter) (2024.2.7)\n",
      "Requirement already satisfied: python-magic==0.4.27 in ./.conda/lib/python3.11/site-packages (from unstructured<0.13.0,>=0.12.0->aifs<0.0.10,>=0.0.9->open-interpreter) (0.4.27)\n",
      "Requirement already satisfied: rapidfuzz==3.6.1 in ./.conda/lib/python3.11/site-packages (from unstructured<0.13.0,>=0.12.0->aifs<0.0.10,>=0.0.9->open-interpreter) (3.6.1)\n",
      "Requirement already satisfied: soupsieve==2.5 in ./.conda/lib/python3.11/site-packages (from unstructured<0.13.0,>=0.12.0->aifs<0.0.10,>=0.0.9->open-interpreter) (2.5)\n",
      "Requirement already satisfied: tabulate==0.9.0 in ./.conda/lib/python3.11/site-packages (from unstructured<0.13.0,>=0.12.0->aifs<0.0.10,>=0.0.9->open-interpreter) (0.9.0)\n",
      "Requirement already satisfied: typing-inspect==0.9.0 in ./.conda/lib/python3.11/site-packages (from unstructured<0.13.0,>=0.12.0->aifs<0.0.10,>=0.0.9->open-interpreter) (0.9.0)\n",
      "Requirement already satisfied: unstructured-client==0.18.0 in ./.conda/lib/python3.11/site-packages (from unstructured<0.13.0,>=0.12.0->aifs<0.0.10,>=0.0.9->open-interpreter) (0.18.0)\n",
      "Requirement already satisfied: wrapt==1.16.0 in ./.conda/lib/python3.11/site-packages (from unstructured<0.13.0,>=0.12.0->aifs<0.0.10,>=0.0.9->open-interpreter) (1.16.0)\n",
      "Requirement already satisfied: aiosignal>=1.1.2 in ./.conda/lib/python3.11/site-packages (from aiohttp->litellm<2.0.0,>=1.18.4->open-interpreter) (1.3.1)\n",
      "Requirement already satisfied: attrs>=17.3.0 in ./.conda/lib/python3.11/site-packages (from aiohttp->litellm<2.0.0,>=1.18.4->open-interpreter) (23.2.0)\n",
      "Requirement already satisfied: frozenlist>=1.1.1 in ./.conda/lib/python3.11/site-packages (from aiohttp->litellm<2.0.0,>=1.18.4->open-interpreter) (1.4.1)\n",
      "Requirement already satisfied: multidict<7.0,>=4.5 in ./.conda/lib/python3.11/site-packages (from aiohttp->litellm<2.0.0,>=1.18.4->open-interpreter) (6.0.5)\n",
      "Requirement already satisfied: yarl<2.0,>=1.0 in ./.conda/lib/python3.11/site-packages (from aiohttp->litellm<2.0.0,>=1.18.4->open-interpreter) (1.9.4)\n",
      "Requirement already satisfied: gitdb<5,>=4.0.1 in ./.conda/lib/python3.11/site-packages (from gitpython->git-python<2.0.0,>=1.0.3->open-interpreter) (4.0.11)\n",
      "Requirement already satisfied: pyproject_hooks in ./.conda/lib/python3.11/site-packages (from build>=1.0.3->chromadb<0.5.0,>=0.4.22->aifs<0.0.10,>=0.0.9->open-interpreter) (1.0.0)\n",
      "Requirement already satisfied: smmap<6,>=3.0.1 in ./.conda/lib/python3.11/site-packages (from gitdb<5,>=4.0.1->gitpython->git-python<2.0.0,>=1.0.3->open-interpreter) (5.0.1)\n",
      "Requirement already satisfied: httpcore==1.* in ./.conda/lib/python3.11/site-packages (from httpx<1,>=0.23.0->openai>=1.0.0->litellm<2.0.0,>=1.18.4->open-interpreter) (1.0.4)\n",
      "Requirement already satisfied: filelock in ./.conda/lib/python3.11/site-packages (from huggingface_hub<1.0,>=0.16.4->tokenizers->litellm<2.0.0,>=1.18.4->open-interpreter) (3.13.1)\n",
      "Requirement already satisfied: fsspec>=2023.5.0 in ./.conda/lib/python3.11/site-packages (from huggingface_hub<1.0,>=0.16.4->tokenizers->litellm<2.0.0,>=1.18.4->open-interpreter) (2024.3.1)\n",
      "Requirement already satisfied: parso<0.9.0,>=0.8.3 in ./.conda/lib/python3.11/site-packages (from jedi>=0.16->ipython>=7.23.1->ipykernel<7.0.0,>=6.26.0->open-interpreter) (0.8.3)\n",
      "Requirement already satisfied: google-auth>=1.0.1 in ./.conda/lib/python3.11/site-packages (from kubernetes>=28.1.0->chromadb<0.5.0,>=0.4.22->aifs<0.0.10,>=0.0.9->open-interpreter) (2.29.0)\n",
      "Requirement already satisfied: requests-oauthlib in ./.conda/lib/python3.11/site-packages (from kubernetes>=28.1.0->chromadb<0.5.0,>=0.4.22->aifs<0.0.10,>=0.0.9->open-interpreter) (1.4.0)\n",
      "Requirement already satisfied: oauthlib>=3.2.2 in ./.conda/lib/python3.11/site-packages (from kubernetes>=28.1.0->chromadb<0.5.0,>=0.4.22->aifs<0.0.10,>=0.0.9->open-interpreter) (3.2.2)\n",
      "Requirement already satisfied: coloredlogs in ./.conda/lib/python3.11/site-packages (from onnxruntime>=1.14.1->chromadb<0.5.0,>=0.4.22->aifs<0.0.10,>=0.0.9->open-interpreter) (15.0.1)\n",
      "Requirement already satisfied: flatbuffers in ./.conda/lib/python3.11/site-packages (from onnxruntime>=1.14.1->chromadb<0.5.0,>=0.4.22->aifs<0.0.10,>=0.0.9->open-interpreter) (24.3.7)\n",
      "Requirement already satisfied: protobuf in ./.conda/lib/python3.11/site-packages (from onnxruntime>=1.14.1->chromadb<0.5.0,>=0.4.22->aifs<0.0.10,>=0.0.9->open-interpreter) (4.25.3)\n",
      "Requirement already satisfied: sympy in ./.conda/lib/python3.11/site-packages (from onnxruntime>=1.14.1->chromadb<0.5.0,>=0.4.22->aifs<0.0.10,>=0.0.9->open-interpreter) (1.12)\n",
      "Requirement already satisfied: deprecated>=1.2.6 in ./.conda/lib/python3.11/site-packages (from opentelemetry-api>=1.2.0->chromadb<0.5.0,>=0.4.22->aifs<0.0.10,>=0.0.9->open-interpreter) (1.2.14)\n",
      "Requirement already satisfied: googleapis-common-protos~=1.52 in ./.conda/lib/python3.11/site-packages (from opentelemetry-exporter-otlp-proto-grpc>=1.2.0->chromadb<0.5.0,>=0.4.22->aifs<0.0.10,>=0.0.9->open-interpreter) (1.63.0)\n",
      "Requirement already satisfied: opentelemetry-exporter-otlp-proto-common==1.23.0 in ./.conda/lib/python3.11/site-packages (from opentelemetry-exporter-otlp-proto-grpc>=1.2.0->chromadb<0.5.0,>=0.4.22->aifs<0.0.10,>=0.0.9->open-interpreter) (1.23.0)\n",
      "Requirement already satisfied: opentelemetry-proto==1.23.0 in ./.conda/lib/python3.11/site-packages (from opentelemetry-exporter-otlp-proto-grpc>=1.2.0->chromadb<0.5.0,>=0.4.22->aifs<0.0.10,>=0.0.9->open-interpreter) (1.23.0)\n",
      "Requirement already satisfied: opentelemetry-instrumentation-asgi==0.44b0 in ./.conda/lib/python3.11/site-packages (from opentelemetry-instrumentation-fastapi>=0.41b0->chromadb<0.5.0,>=0.4.22->aifs<0.0.10,>=0.0.9->open-interpreter) (0.44b0)\n",
      "Requirement already satisfied: opentelemetry-instrumentation==0.44b0 in ./.conda/lib/python3.11/site-packages (from opentelemetry-instrumentation-fastapi>=0.41b0->chromadb<0.5.0,>=0.4.22->aifs<0.0.10,>=0.0.9->open-interpreter) (0.44b0)\n",
      "Requirement already satisfied: opentelemetry-semantic-conventions==0.44b0 in ./.conda/lib/python3.11/site-packages (from opentelemetry-instrumentation-fastapi>=0.41b0->chromadb<0.5.0,>=0.4.22->aifs<0.0.10,>=0.0.9->open-interpreter) (0.44b0)\n",
      "Requirement already satisfied: opentelemetry-util-http==0.44b0 in ./.conda/lib/python3.11/site-packages (from opentelemetry-instrumentation-fastapi>=0.41b0->chromadb<0.5.0,>=0.4.22->aifs<0.0.10,>=0.0.9->open-interpreter) (0.44b0)\n",
      "Requirement already satisfied: asgiref~=3.0 in ./.conda/lib/python3.11/site-packages (from opentelemetry-instrumentation-asgi==0.44b0->opentelemetry-instrumentation-fastapi>=0.41b0->chromadb<0.5.0,>=0.4.22->aifs<0.0.10,>=0.0.9->open-interpreter) (3.8.0)\n",
      "Requirement already satisfied: ptyprocess>=0.5 in ./.conda/lib/python3.11/site-packages (from pexpect>4.3->ipython>=7.23.1->ipykernel<7.0.0,>=6.26.0->open-interpreter) (0.7.0)\n",
      "Requirement already satisfied: httptools>=0.5.0 in ./.conda/lib/python3.11/site-packages (from uvicorn[standard]>=0.18.3->chromadb<0.5.0,>=0.4.22->aifs<0.0.10,>=0.0.9->open-interpreter) (0.6.1)\n",
      "Requirement already satisfied: uvloop!=0.15.0,!=0.15.1,>=0.14.0 in ./.conda/lib/python3.11/site-packages (from uvicorn[standard]>=0.18.3->chromadb<0.5.0,>=0.4.22->aifs<0.0.10,>=0.0.9->open-interpreter) (0.19.0)\n",
      "Requirement already satisfied: watchfiles>=0.13 in ./.conda/lib/python3.11/site-packages (from uvicorn[standard]>=0.18.3->chromadb<0.5.0,>=0.4.22->aifs<0.0.10,>=0.0.9->open-interpreter) (0.21.0)\n",
      "Requirement already satisfied: websockets>=10.4 in ./.conda/lib/python3.11/site-packages (from uvicorn[standard]>=0.18.3->chromadb<0.5.0,>=0.4.22->aifs<0.0.10,>=0.0.9->open-interpreter) (12.0)\n",
      "Requirement already satisfied: executing>=1.2.0 in ./.conda/lib/python3.11/site-packages (from stack-data->ipython>=7.23.1->ipykernel<7.0.0,>=6.26.0->open-interpreter) (2.0.1)\n",
      "Requirement already satisfied: asttokens>=2.1.0 in ./.conda/lib/python3.11/site-packages (from stack-data->ipython>=7.23.1->ipykernel<7.0.0,>=6.26.0->open-interpreter) (2.4.1)\n",
      "Requirement already satisfied: pure-eval in ./.conda/lib/python3.11/site-packages (from stack-data->ipython>=7.23.1->ipykernel<7.0.0,>=6.26.0->open-interpreter) (0.2.2)\n",
      "Requirement already satisfied: cachetools<6.0,>=2.0.0 in ./.conda/lib/python3.11/site-packages (from google-auth>=1.0.1->kubernetes>=28.1.0->chromadb<0.5.0,>=0.4.22->aifs<0.0.10,>=0.0.9->open-interpreter) (5.3.3)\n",
      "Requirement already satisfied: pyasn1-modules>=0.2.1 in ./.conda/lib/python3.11/site-packages (from google-auth>=1.0.1->kubernetes>=28.1.0->chromadb<0.5.0,>=0.4.22->aifs<0.0.10,>=0.0.9->open-interpreter) (0.3.0)\n",
      "Requirement already satisfied: rsa<5,>=3.1.4 in ./.conda/lib/python3.11/site-packages (from google-auth>=1.0.1->kubernetes>=28.1.0->chromadb<0.5.0,>=0.4.22->aifs<0.0.10,>=0.0.9->open-interpreter) (4.9)\n",
      "Requirement already satisfied: humanfriendly>=9.1 in ./.conda/lib/python3.11/site-packages (from coloredlogs->onnxruntime>=1.14.1->chromadb<0.5.0,>=0.4.22->aifs<0.0.10,>=0.0.9->open-interpreter) (10.0)\n",
      "Requirement already satisfied: mpmath>=0.19 in ./.conda/lib/python3.11/site-packages (from sympy->onnxruntime>=1.14.1->chromadb<0.5.0,>=0.4.22->aifs<0.0.10,>=0.0.9->open-interpreter) (1.3.0)\n",
      "Requirement already satisfied: pyasn1<0.6.0,>=0.4.6 in ./.conda/lib/python3.11/site-packages (from pyasn1-modules>=0.2.1->google-auth>=1.0.1->kubernetes>=28.1.0->chromadb<0.5.0,>=0.4.22->aifs<0.0.10,>=0.0.9->open-interpreter) (0.5.1)\n",
      "Note: you may need to restart the kernel to use updated packages.\n",
      "\u001b[33mWARNING: Skipping whisper as it is not installed.\u001b[0m\u001b[33m\n",
      "\u001b[0mNote: you may need to restart the kernel to use updated packages.\n",
      "Requirement already satisfied: openai-whisper in ./.conda/lib/python3.11/site-packages (20231117)\n",
      "Requirement already satisfied: numba in ./.conda/lib/python3.11/site-packages (from openai-whisper) (0.59.1)\n",
      "Requirement already satisfied: numpy in ./.conda/lib/python3.11/site-packages (from openai-whisper) (1.26.4)\n",
      "Requirement already satisfied: torch in ./.conda/lib/python3.11/site-packages (from openai-whisper) (2.2.1)\n",
      "Requirement already satisfied: tqdm in ./.conda/lib/python3.11/site-packages (from openai-whisper) (4.66.2)\n",
      "Requirement already satisfied: more-itertools in ./.conda/lib/python3.11/site-packages (from openai-whisper) (10.2.0)\n",
      "Requirement already satisfied: tiktoken in ./.conda/lib/python3.11/site-packages (from openai-whisper) (0.5.2)\n",
      "Requirement already satisfied: llvmlite<0.43,>=0.42.0dev0 in ./.conda/lib/python3.11/site-packages (from numba->openai-whisper) (0.42.0)\n",
      "Requirement already satisfied: regex>=2022.1.18 in ./.conda/lib/python3.11/site-packages (from tiktoken->openai-whisper) (2023.12.25)\n",
      "Requirement already satisfied: requests>=2.26.0 in ./.conda/lib/python3.11/site-packages (from tiktoken->openai-whisper) (2.31.0)\n",
      "Requirement already satisfied: filelock in ./.conda/lib/python3.11/site-packages (from torch->openai-whisper) (3.13.1)\n",
      "Requirement already satisfied: typing-extensions>=4.8.0 in ./.conda/lib/python3.11/site-packages (from torch->openai-whisper) (4.9.0)\n",
      "Requirement already satisfied: sympy in ./.conda/lib/python3.11/site-packages (from torch->openai-whisper) (1.12)\n",
      "Requirement already satisfied: networkx in ./.conda/lib/python3.11/site-packages (from torch->openai-whisper) (3.2.1)\n",
      "Requirement already satisfied: jinja2 in ./.conda/lib/python3.11/site-packages (from torch->openai-whisper) (3.1.3)\n",
      "Requirement already satisfied: fsspec in ./.conda/lib/python3.11/site-packages (from torch->openai-whisper) (2024.3.1)\n",
      "Requirement already satisfied: charset-normalizer<4,>=2 in ./.conda/lib/python3.11/site-packages (from requests>=2.26.0->tiktoken->openai-whisper) (3.3.2)\n",
      "Requirement already satisfied: idna<4,>=2.5 in ./.conda/lib/python3.11/site-packages (from requests>=2.26.0->tiktoken->openai-whisper) (3.6)\n",
      "Requirement already satisfied: urllib3<3,>=1.21.1 in ./.conda/lib/python3.11/site-packages (from requests>=2.26.0->tiktoken->openai-whisper) (1.26.18)\n",
      "Requirement already satisfied: certifi>=2017.4.17 in ./.conda/lib/python3.11/site-packages (from requests>=2.26.0->tiktoken->openai-whisper) (2024.2.2)\n",
      "Requirement already satisfied: MarkupSafe>=2.0 in ./.conda/lib/python3.11/site-packages (from jinja2->torch->openai-whisper) (2.1.5)\n",
      "Requirement already satisfied: mpmath>=0.19 in ./.conda/lib/python3.11/site-packages (from sympy->torch->openai-whisper) (1.3.0)\n",
      "Note: you may need to restart the kernel to use updated packages.\n",
      "Note: you may need to restart the kernel to use updated packages.\n",
      "Requirement already satisfied: speechRecognition in ./.conda/lib/python3.11/site-packages (3.10.1)\n",
      "Requirement already satisfied: requests>=2.26.0 in ./.conda/lib/python3.11/site-packages (from speechRecognition) (2.31.0)\n",
      "Requirement already satisfied: typing-extensions in ./.conda/lib/python3.11/site-packages (from speechRecognition) (4.9.0)\n",
      "Requirement already satisfied: charset-normalizer<4,>=2 in ./.conda/lib/python3.11/site-packages (from requests>=2.26.0->speechRecognition) (3.3.2)\n",
      "Requirement already satisfied: idna<4,>=2.5 in ./.conda/lib/python3.11/site-packages (from requests>=2.26.0->speechRecognition) (3.6)\n",
      "Requirement already satisfied: urllib3<3,>=1.21.1 in ./.conda/lib/python3.11/site-packages (from requests>=2.26.0->speechRecognition) (1.26.18)\n",
      "Requirement already satisfied: certifi>=2017.4.17 in ./.conda/lib/python3.11/site-packages (from requests>=2.26.0->speechRecognition) (2024.2.2)\n",
      "Note: you may need to restart the kernel to use updated packages.\n",
      "Requirement already satisfied: ipywidgets in ./.conda/lib/python3.11/site-packages (8.1.2)\n",
      "Requirement already satisfied: comm>=0.1.3 in ./.conda/lib/python3.11/site-packages (from ipywidgets) (0.2.2)\n",
      "Requirement already satisfied: ipython>=6.1.0 in ./.conda/lib/python3.11/site-packages (from ipywidgets) (8.22.2)\n",
      "Requirement already satisfied: traitlets>=4.3.1 in ./.conda/lib/python3.11/site-packages (from ipywidgets) (5.14.2)\n",
      "Requirement already satisfied: widgetsnbextension~=4.0.10 in ./.conda/lib/python3.11/site-packages (from ipywidgets) (4.0.10)\n",
      "Requirement already satisfied: jupyterlab-widgets~=3.0.10 in ./.conda/lib/python3.11/site-packages (from ipywidgets) (3.0.10)\n",
      "Requirement already satisfied: decorator in ./.conda/lib/python3.11/site-packages (from ipython>=6.1.0->ipywidgets) (5.1.1)\n",
      "Requirement already satisfied: jedi>=0.16 in ./.conda/lib/python3.11/site-packages (from ipython>=6.1.0->ipywidgets) (0.19.1)\n",
      "Requirement already satisfied: matplotlib-inline in ./.conda/lib/python3.11/site-packages (from ipython>=6.1.0->ipywidgets) (0.1.6)\n",
      "Requirement already satisfied: prompt-toolkit<3.1.0,>=3.0.41 in ./.conda/lib/python3.11/site-packages (from ipython>=6.1.0->ipywidgets) (3.0.43)\n",
      "Requirement already satisfied: pygments>=2.4.0 in ./.conda/lib/python3.11/site-packages (from ipython>=6.1.0->ipywidgets) (2.17.2)\n",
      "Requirement already satisfied: stack-data in ./.conda/lib/python3.11/site-packages (from ipython>=6.1.0->ipywidgets) (0.6.2)\n",
      "Requirement already satisfied: pexpect>4.3 in ./.conda/lib/python3.11/site-packages (from ipython>=6.1.0->ipywidgets) (4.9.0)\n",
      "Requirement already satisfied: parso<0.9.0,>=0.8.3 in ./.conda/lib/python3.11/site-packages (from jedi>=0.16->ipython>=6.1.0->ipywidgets) (0.8.3)\n",
      "Requirement already satisfied: ptyprocess>=0.5 in ./.conda/lib/python3.11/site-packages (from pexpect>4.3->ipython>=6.1.0->ipywidgets) (0.7.0)\n",
      "Requirement already satisfied: wcwidth in ./.conda/lib/python3.11/site-packages (from prompt-toolkit<3.1.0,>=3.0.41->ipython>=6.1.0->ipywidgets) (0.2.13)\n",
      "Requirement already satisfied: executing>=1.2.0 in ./.conda/lib/python3.11/site-packages (from stack-data->ipython>=6.1.0->ipywidgets) (2.0.1)\n",
      "Requirement already satisfied: asttokens>=2.1.0 in ./.conda/lib/python3.11/site-packages (from stack-data->ipython>=6.1.0->ipywidgets) (2.4.1)\n",
      "Requirement already satisfied: pure-eval in ./.conda/lib/python3.11/site-packages (from stack-data->ipython>=6.1.0->ipywidgets) (0.2.2)\n",
      "Requirement already satisfied: six>=1.12.0 in ./.conda/lib/python3.11/site-packages (from asttokens>=2.1.0->stack-data->ipython>=6.1.0->ipywidgets) (1.16.0)\n",
      "Note: you may need to restart the kernel to use updated packages.\n",
      "Requirement already satisfied: pyaudio in ./.conda/lib/python3.11/site-packages (0.2.14)\n",
      "Note: you may need to restart the kernel to use updated packages.\n",
      "Found existing installation: torch 2.2.1\n",
      "Uninstalling torch-2.2.1:\n",
      "  Successfully uninstalled torch-2.2.1\n",
      "Found existing installation: torchvision 0.17.1\n",
      "Uninstalling torchvision-0.17.1:\n",
      "  Successfully uninstalled torchvision-0.17.1\n",
      "Found existing installation: torchaudio 2.2.1\n",
      "Uninstalling torchaudio-2.2.1:\n",
      "  Successfully uninstalled torchaudio-2.2.1\n",
      "Note: you may need to restart the kernel to use updated packages.\n",
      "Collecting torch\n",
      "  Using cached torch-2.2.1-cp311-none-macosx_11_0_arm64.whl.metadata (25 kB)\n",
      "Collecting torchvision\n",
      "  Using cached torchvision-0.17.1-cp311-cp311-macosx_11_0_arm64.whl.metadata (6.6 kB)\n",
      "Collecting torchaudio\n",
      "  Using cached torchaudio-2.2.1-cp311-cp311-macosx_11_0_arm64.whl.metadata (6.4 kB)\n",
      "Requirement already satisfied: filelock in ./.conda/lib/python3.11/site-packages (from torch) (3.13.1)\n",
      "Requirement already satisfied: typing-extensions>=4.8.0 in ./.conda/lib/python3.11/site-packages (from torch) (4.9.0)\n",
      "Requirement already satisfied: sympy in ./.conda/lib/python3.11/site-packages (from torch) (1.12)\n",
      "Requirement already satisfied: networkx in ./.conda/lib/python3.11/site-packages (from torch) (3.2.1)\n",
      "Requirement already satisfied: jinja2 in ./.conda/lib/python3.11/site-packages (from torch) (3.1.3)\n",
      "Requirement already satisfied: fsspec in ./.conda/lib/python3.11/site-packages (from torch) (2024.3.1)\n",
      "Requirement already satisfied: numpy in ./.conda/lib/python3.11/site-packages (from torchvision) (1.26.4)\n",
      "Requirement already satisfied: pillow!=8.3.*,>=5.3.0 in ./.conda/lib/python3.11/site-packages (from torchvision) (10.2.0)\n",
      "Requirement already satisfied: MarkupSafe>=2.0 in ./.conda/lib/python3.11/site-packages (from jinja2->torch) (2.1.5)\n",
      "Requirement already satisfied: mpmath>=0.19 in ./.conda/lib/python3.11/site-packages (from sympy->torch) (1.3.0)\n",
      "Using cached torch-2.2.1-cp311-none-macosx_11_0_arm64.whl (59.7 MB)\n",
      "Using cached torchvision-0.17.1-cp311-cp311-macosx_11_0_arm64.whl (1.6 MB)\n",
      "Using cached torchaudio-2.2.1-cp311-cp311-macosx_11_0_arm64.whl (1.8 MB)\n",
      "Installing collected packages: torch, torchvision, torchaudio\n",
      "Successfully installed torch-2.2.1 torchaudio-2.2.1 torchvision-0.17.1\n",
      "Note: you may need to restart the kernel to use updated packages.\n"
     ]
    }
   ],
   "source": [
    "%pip install open-interpreter\n",
    "%pip uninstall whisper -y\n",
    "%pip install -U openai-whisper\n",
    "%pip install git+https://github.com/openai/whisper.git -q\n",
    "%pip install speechRecognition\n",
    "%pip install ipywidgets\n",
    "%pip install pyaudio\n",
    "%pip uninstall -y torch torchvision torchaudio\n",
    "%pip install torch torchvision torchaudio\n"
   ]
  },
  {
   "cell_type": "code",
   "execution_count": 14,
   "metadata": {},
   "outputs": [],
   "source": [
    "from interpreter import OpenInterpreter\n",
    "from dotenv import load_dotenv\n",
    "from interpreter.terminal_interface.utils.count_tokens import (\n",
    "    count_messages_tokens,\n",
    "    count_tokens,\n",
    ")\n",
    "import os\n",
    "import whisper\n",
    "import speech_recognition as sr\n",
    "import pyaudio\n",
    "\n",
    "\n",
    "load_dotenv()\n",
    "\n",
    "interpreter = OpenInterpreter()\n",
    "interpreter.llm.api_key = os.environ.get(\"API_KEY_ANTHROPIC\")\n",
    "\n",
    "interpreter.llm.model = (\n",
    "    \"claude-3-haiku-20240307\"  # Tells OI to send messages in OpenAI's format\n",
    ")\n",
    "interpreter.system_message = open(\"systemMessage.txt\").read()\n",
    "interpreter.auto_run = True  # Don't require user confirmation\n",
    "\n",
    "# baseModelWhisper = whisper.load_model(\"base.en\")\n",
    "\n",
    "\n"
   ]
  },
  {
   "cell_type": "code",
   "execution_count": 15,
   "metadata": {},
   "outputs": [
    {
     "name": "stdout",
     "output_type": "stream",
     "text": [
      "You are Open Interpreter, a world-class programmer that can complete any goal by executing code.\n",
      "First, write a plan. **Always recap the plan between each code block** (you have extreme short-term memory loss, so you need to recap the plan between each message block to retain it).\n",
      "When you execute code, it will be executed **on the user's machine**. The user has given you **full and complete permission** to execute any code necessary to complete the task. Execute the code.\n",
      "If you want to send data between programming languages, save the data to a txt or json.\n",
      "You can access the internet. Run **any code** to achieve the goal, and if at first you don't succeed, try again and again.\n",
      "You can install new packages.\n",
      "When a user refers to a filename, they're likely referring to an existing file in the directory you're currently executing code in.\n",
      "Write messages to the user in Markdown.\n",
      "In general, try to **make plans** with as few steps as possible. As for actually executing code to carry out that plan, for *stateful* languages (like python, javascript, shell, but NOT for html which starts from 0 every time) **it's critical not to try to do everything in one code block.** You should try something, print information about it, then continue from there in tiny, informed steps. You will never get it on the first try, and attempting it in one go will often lead to errors you cant see.\n",
      "You are capable of **any** task.\n",
      "\n",
      "\n",
      "\n",
      "Run shell commands with -y so the user doesn't have to confirm them.\n",
      "\n",
      "when opening a website, do it in the default browser using apple script: open location _\n",
      "before opening a website check to make sure that the user isnt asking to open an app\n"
     ]
    }
   ],
   "source": [
    "print(interpreter.system_message)\n"
   ]
  },
  {
   "cell_type": "code",
   "execution_count": 16,
   "metadata": {},
   "outputs": [],
   "source": [
    "\n",
    "\n",
    "\n",
    "\n",
    "\n",
    "def recordAndTranscribe():\n",
    "    speechRecognizer = sr.Recognizer()\n",
    "    with sr.Microphone() as source:\n",
    "        speechRecognizer.pause_threshold = 5\n",
    "        speechRecognizer.adjust_for_ambient_noise(source)\n",
    "        print(\"\\nAsk your question\")\n",
    "        try:\n",
    "            audio = speechRecognizer.listen(source, phrase_time_limit=5)\n",
    "        except sr.WaitTimeoutError:\n",
    "            print(\"Sorry, I didn't hear anything. Please try again.\")\n",
    "            return None\n",
    "    try:\n",
    "        recognizedText = speechRecognizer.recognize_google(audio)\n",
    "        if (\n",
    "            \"exit\" in recognizedText.lower()\n",
    "            or \"quit\" in recognizedText.lower()\n",
    "            or \"goodbye\" in recognizedText.lower()\n",
    "            or \"bye\" in recognizedText.lower()\n",
    "        ):\n",
    "            print(\"bye!\")\n",
    "            sys.exit()\n",
    "        print(\"You said:\", recognizedText)\n",
    "        return recognizedText\n",
    "    except sr.UnknownValueError:\n",
    "        print(\"Sorry, I didn't understand that.\")\n",
    "        return None\n",
    "    \n",
    "def chatWithInterpreter(prompt):\n",
    "    \"\"\"Send a message to the interpreter and returns the response.\"\"\"\n",
    "    if prompt:\n",
    "        response = interpreter.chat(prompt)\n",
    "    \n"
   ]
  },
  {
   "cell_type": "code",
   "execution_count": 17,
   "metadata": {},
   "outputs": [
    {
     "name": "stdout",
     "output_type": "stream",
     "text": [
      "\n"
     ]
    },
    {
     "data": {
      "text/html": [
       "<pre style=\"white-space:pre;overflow-x:auto;line-height:normal;font-family:Menlo,'DejaVu Sans Mono',consolas,'Courier New',monospace\"><span style=\"font-weight: bold\">We were unable to determine the context window of this model.</span> Defaulting to 3000.                                  \n",
       "</pre>\n"
      ],
      "text/plain": [
       "\u001b[1mWe were unable to determine the context window of this model.\u001b[0m Defaulting to 3000.                                  \n"
      ]
     },
     "metadata": {},
     "output_type": "display_data"
    },
    {
     "name": "stdout",
     "output_type": "stream",
     "text": [
      "\n"
     ]
    },
    {
     "data": {
      "text/html": [
       "<pre style=\"white-space:pre;overflow-x:auto;line-height:normal;font-family:Menlo,'DejaVu Sans Mono',consolas,'Courier New',monospace\">If your model can handle more, run <span style=\"color: #008080; text-decoration-color: #008080; background-color: #000000; font-weight: bold\">interpreter.llm.context_window = {token limit}</span>.                                 \n",
       "</pre>\n"
      ],
      "text/plain": [
       "If your model can handle more, run \u001b[1;36;40minterpreter.llm.context_window = {token limit}\u001b[0m.                                 \n"
      ]
     },
     "metadata": {},
     "output_type": "display_data"
    },
    {
     "name": "stdout",
     "output_type": "stream",
     "text": [
      "\n"
     ]
    },
    {
     "data": {
      "text/html": [
       "<pre style=\"white-space:pre;overflow-x:auto;line-height:normal;font-family:Menlo,'DejaVu Sans Mono',consolas,'Courier New',monospace\">Also please set <span style=\"color: #008080; text-decoration-color: #008080; background-color: #000000; font-weight: bold\">interpreter.llm.max_tokens = {max tokens per response}</span>.                                            \n",
       "</pre>\n"
      ],
      "text/plain": [
       "Also please set \u001b[1;36;40minterpreter.llm.max_tokens = {max tokens per response}\u001b[0m.                                            \n"
      ]
     },
     "metadata": {},
     "output_type": "display_data"
    },
    {
     "name": "stdout",
     "output_type": "stream",
     "text": [
      "\n"
     ]
    },
    {
     "data": {
      "text/html": [
       "<pre style=\"white-space:pre;overflow-x:auto;line-height:normal;font-family:Menlo,'DejaVu Sans Mono',consolas,'Courier New',monospace\">Continuing...                                                                                                      \n",
       "</pre>\n"
      ],
      "text/plain": [
       "Continuing...                                                                                                      \n"
      ]
     },
     "metadata": {},
     "output_type": "display_data"
    },
    {
     "name": "stdout",
     "output_type": "stream",
     "text": [
      "\n"
     ]
    },
    {
     "data": {
      "application/vnd.jupyter.widget-view+json": {
       "model_id": "e69a5d4ff9d54733898b02c47bb2b71c",
       "version_major": 2,
       "version_minor": 0
      },
      "text/plain": [
       "Output()"
      ]
     },
     "metadata": {},
     "output_type": "display_data"
    },
    {
     "data": {
      "text/html": [
       "<pre style=\"white-space:pre;overflow-x:auto;line-height:normal;font-family:Menlo,'DejaVu Sans Mono',consolas,'Courier New',monospace\"></pre>\n"
      ],
      "text/plain": []
     },
     "metadata": {},
     "output_type": "display_data"
    },
    {
     "data": {
      "application/vnd.jupyter.widget-view+json": {
       "model_id": "5ddb115c8a3947609faa88856c56bddc",
       "version_major": 2,
       "version_minor": 0
      },
      "text/plain": [
       "Output()"
      ]
     },
     "metadata": {},
     "output_type": "display_data"
    },
    {
     "data": {
      "text/html": [
       "<pre style=\"white-space:pre;overflow-x:auto;line-height:normal;font-family:Menlo,'DejaVu Sans Mono',consolas,'Courier New',monospace\"></pre>\n"
      ],
      "text/plain": []
     },
     "metadata": {},
     "output_type": "display_data"
    },
    {
     "data": {
      "application/vnd.jupyter.widget-view+json": {
       "model_id": "7d160253a3974ba0b10055a9857b1add",
       "version_major": 2,
       "version_minor": 0
      },
      "text/plain": [
       "Output()"
      ]
     },
     "metadata": {},
     "output_type": "display_data"
    },
    {
     "data": {
      "text/html": [
       "<pre style=\"white-space:pre;overflow-x:auto;line-height:normal;font-family:Menlo,'DejaVu Sans Mono',consolas,'Courier New',monospace\"></pre>\n"
      ],
      "text/plain": []
     },
     "metadata": {},
     "output_type": "display_data"
    }
   ],
   "source": [
    "chatWithInterpreter(\"\"\"open arc\"\"\")"
   ]
  }
 ],
 "metadata": {
  "kernelspec": {
   "display_name": "oi",
   "language": "python",
   "name": "python3"
  },
  "language_info": {
   "codemirror_mode": {
    "name": "ipython",
    "version": 3
   },
   "file_extension": ".py",
   "mimetype": "text/x-python",
   "name": "python",
   "nbconvert_exporter": "python",
   "pygments_lexer": "ipython3",
   "version": "3.11.8"
  }
 },
 "nbformat": 4,
 "nbformat_minor": 2
}
