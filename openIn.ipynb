{
 "cells": [
  {
   "cell_type": "code",
   "execution_count": null,
   "metadata": {},
   "outputs": [],
   "source": [
    "%pip install open-interpreter\n",
    "%pip uninstall whisper -y\n",
    "%pip install -U openai-whisper\n",
    "%pip install git+https://github.com/openai/whisper.git -q\n",
    "%pip install speechRecognition\n",
    "%pip install ipywidgets\n",
    "%pip install pyaudio\n",
    "%pip uninstall -y torch torchvision torchaudio\n",
    "%pip install torch torchvision torchaudio\n"
   ]
  },
  {
   "cell_type": "code",
   "execution_count": null,
   "metadata": {},
   "outputs": [],
   "source": [
    "from interpreter import OpenInterpreter\n",
    "from dotenv import load_dotenv\n",
    "from interpreter.terminal_interface.utils.count_tokens import (\n",
    "    count_messages_tokens,\n",
    "    count_tokens,\n",
    ")\n",
    "import os\n",
    "import whisper\n",
    "import speech_recognition as sr\n",
    "import pyaudio\n",
    "\n",
    "\n",
    "load_dotenv()\n",
    "\n",
    "interpreter = OpenInterpreter()\n",
    "interpreter.llm.api_key = os.environ.get(\"API_KEY_ANTHROPIC\")\n",
    "\n",
    "interpreter.llm.model = (\n",
    "    \"claude-3-haiku-20240307\"  # Tells OI to send messages in OpenAI's format\n",
    ")\n",
    "interpreter.system_message = open(\"systemMessage.txt\").read()\n",
    "interpreter.auto_run = True  # Don't require user confirmation\n",
    "\n",
    "# baseModelWhisper = whisper.load_model(\"base.en\")\n",
    "\n",
    "\n"
   ]
  },
  {
   "cell_type": "code",
   "execution_count": null,
   "metadata": {},
   "outputs": [],
   "source": [
    "print(interpreter.system_message)\n"
   ]
  },
  {
   "cell_type": "code",
   "execution_count": null,
   "metadata": {},
   "outputs": [],
   "source": [
    "\n",
    "\n",
    "\n",
    "\n",
    "\n",
    "def recordAndTranscribe():\n",
    "    speechRecognizer = sr.Recognizer()\n",
    "    with sr.Microphone() as source:\n",
    "        speechRecognizer.pause_threshold = 5\n",
    "        speechRecognizer.adjust_for_ambient_noise(source)\n",
    "        print(\"\\nAsk your question\")\n",
    "        try:\n",
    "            audio = speechRecognizer.listen(source, phrase_time_limit=5)\n",
    "        except sr.WaitTimeoutError:\n",
    "            print(\"Sorry, I didn't hear anything. Please try again.\")\n",
    "            return None\n",
    "    try:\n",
    "        recognizedText = speechRecognizer.recognize_google(audio)\n",
    "        if (\n",
    "            \"exit\" in recognizedText.lower()\n",
    "            or \"quit\" in recognizedText.lower()\n",
    "            or \"goodbye\" in recognizedText.lower()\n",
    "            or \"bye\" in recognizedText.lower()\n",
    "        ):\n",
    "            print(\"bye!\")\n",
    "            sys.exit()\n",
    "        print(\"You said:\", recognizedText)\n",
    "        return recognizedText\n",
    "    except sr.UnknownValueError:\n",
    "        print(\"Sorry, I didn't understand that.\")\n",
    "        return None\n",
    "    \n",
    "def chatWithInterpreter(prompt):\n",
    "    \"\"\"Send a message to the interpreter and returns the response.\"\"\"\n",
    "    if prompt:\n",
    "        response = interpreter.chat(prompt)\n",
    "    \n"
   ]
  },
  {
   "cell_type": "code",
   "execution_count": null,
   "metadata": {},
   "outputs": [],
   "source": [
    "chatWithInterpreter(\"\"\"open wikipedia\"\"\")\n",
    "chatWithInterpreter(\"\"\"open brittanica to the python page\"\"\")\n",
    "chatWithInterpreter(\"\"\"open arc\"\"\")\n",
    "chatWithInterpreter(\"\"\"open outlook\"\"\")\n",
    "chatWithInterpreter(\"\"\"give me the history of koenigsegg cars.\"\"\")"
   ]
  }
 ],
 "metadata": {
  "kernelspec": {
   "display_name": "oi",
   "language": "python",
   "name": "python3"
  },
  "language_info": {
   "codemirror_mode": {
    "name": "ipython",
    "version": 3
   },
   "file_extension": ".py",
   "mimetype": "text/x-python",
   "name": "python",
   "nbconvert_exporter": "python",
   "pygments_lexer": "ipython3",
   "version": "3.11.8"
  }
 },
 "nbformat": 4,
 "nbformat_minor": 2
}
