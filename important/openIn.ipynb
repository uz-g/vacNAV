{
 "cells": [
  {
   "cell_type": "code",
   "execution_count": null,
   "metadata": {},
   "outputs": [],
   "source": [
    "%pip install speechRecognition\n",
    "%pip install ipywidgets\n",
    "%pip install pyaudio\n",
    "%pip uninstall -y torch torchvision torchaudio\n",
    "%pip install torch torchvision torchaudio\n",
    "%pip install python-dotenv\n",
    "%pip install computer\n",
    "%pip install requests\n",
    "%pip uninstall open-interpreter\n",
    "%pip install git+https://github.com/OpenInterpreter/open-interpreter.git\n",
    "%pip install --upgrade --force-reinstall git+https://github.com/OpenInterpreter/open-interpreter.git\n"
   ]
  },
  {
   "cell_type": "code",
   "execution_count": null,
   "metadata": {},
   "outputs": [],
   "source": [
    "from interpreter import OpenInterpreter\n",
    "from dotenv import load_dotenv\n",
    "from interpreter.terminal_interface.utils.count_tokens import (\n",
    "    count_messages_tokens,\n",
    "    count_tokens,\n",
    ")\n",
    "import os\n",
    "import speech_recognition as sr\n",
    "import pyaudio\n",
    "import requests\n",
    "\n",
    "load_dotenv()\n",
    "\n"
   ]
  },
  {
   "cell_type": "code",
   "execution_count": null,
   "metadata": {},
   "outputs": [],
   "source": [
    "interpreter = OpenInterpreter()\n",
    "interpreter.llm.api_key = os.environ.get(\"API_KEY_ANTHROPIC\")\n",
    "\n",
    "interpreter.llm.model = (\n",
    "    \"claude-3-haiku-20240307\"  # haiku is perfect for this\n",
    "    # \"claude-3-opus-20240229\" # too slow but very powerful\n",
    "    # \"claude-3-sonnet-20240229\" # sonnet is awful at code\n",
    "    \n",
    ")"
   ]
  },
  {
   "cell_type": "code",
   "execution_count": null,
   "metadata": {},
   "outputs": [],
   "source": [
    "interpreter = OpenInterpreter()\n",
    "interpreter.llm.api_key = os.environ.get(\"API_KEY_OPENAI_INVIS_INC\")\n",
    "\n",
    "interpreter.llm.model = (\n",
    "    \"gpt-4-0125-preview\"\n",
    "    \n",
    ")"
   ]
  },
  {
   "cell_type": "code",
   "execution_count": null,
   "metadata": {},
   "outputs": [],
   "source": [
    "\n",
    "interpreter.system_message = open(\"systemMessage.md\").read()\n",
    "interpreter.auto_run = True  # Don't require user confirmation\n",
    "\n",
    "# baseModelWhisper = whisper.load_model(\"base.en\")\n",
    "\n",
    "interpreter.llm.temperature = 0\n",
    "\n",
    "# interpreter.llm.context_window = 30000\n",
    "\n",
    "# interpreter.llm.max_tokens = 3000\n",
    "\n",
    "\n",
    "def recordAndTranscribe():\n",
    "    speechRecognizer = sr.Recognizer()\n",
    "    with sr.Microphone() as source:\n",
    "        speechRecognizer.pause_threshold = 5\n",
    "        speechRecognizer.adjust_for_ambient_noise(source)\n",
    "        print(\"\\nAsk your question\")\n",
    "        try:\n",
    "            audio = speechRecognizer.listen(source, phrase_time_limit=5)\n",
    "        except sr.WaitTimeoutError:\n",
    "            print(\"Sorry, I didn't hear anything. Please try again.\")\n",
    "            return None\n",
    "    try:\n",
    "        recognizedText = speechRecognizer.recognize_google(audio)\n",
    "        if (\n",
    "            \"exit\" in recognizedText.lower()\n",
    "            or \"quit\" in recognizedText.lower()\n",
    "            or \"goodbye\" in recognizedText.lower()\n",
    "            or \"bye\" in recognizedText.lower()\n",
    "        ):\n",
    "            print(\"bye!\")\n",
    "            sys.exit()\n",
    "        print(\"You said:\", recognizedText)\n",
    "        return recognizedText\n",
    "    except sr.UnknownValueError:\n",
    "        print(\"Sorry, I didn't understand that.\")\n",
    "        return None\n",
    "    \n",
    "def chatWithInterpreter(prompt):\n",
    "    \"\"\"Send a message to the interpreter and returns the response.\"\"\"\n",
    "    if prompt:\n",
    "        response = interpreter.chat(prompt)\n",
    "    \n"
   ]
  },
  {
   "cell_type": "code",
   "execution_count": null,
   "metadata": {},
   "outputs": [],
   "source": [
    "chatWithInterpreter(\"open wikipedia\")"
   ]
  },
  {
   "cell_type": "code",
   "execution_count": null,
   "metadata": {},
   "outputs": [],
   "source": [
    "chatWithInterpreter(\"search for a chocolate chip cookie recipe\")"
   ]
  },
  {
   "cell_type": "code",
   "execution_count": null,
   "metadata": {},
   "outputs": [],
   "source": [
    "chatWithInterpreter(\"open the arc browser\")"
   ]
  },
  {
   "cell_type": "code",
   "execution_count": null,
   "metadata": {},
   "outputs": [],
   "source": [
    "chatWithInterpreter(\"open outlook\")"
   ]
  },
  {
   "cell_type": "code",
   "execution_count": null,
   "metadata": {},
   "outputs": [],
   "source": [
    "chatWithInterpreter(\"give me the history of lotus cars.\")"
   ]
  },
  {
   "cell_type": "code",
   "execution_count": null,
   "metadata": {},
   "outputs": [],
   "source": [
    "chatWithInterpreter(\"start the screen saver\")"
   ]
  },
  {
   "cell_type": "code",
   "execution_count": null,
   "metadata": {},
   "outputs": [],
   "source": [
    "chatWithInterpreter(\"what is the weather like in new york?\")"
   ]
  },
  {
   "cell_type": "code",
   "execution_count": null,
   "metadata": {},
   "outputs": [],
   "source": [
    "chatWithInterpreter(\"pause the media\")"
   ]
  },
  {
   "cell_type": "code",
   "execution_count": null,
   "metadata": {},
   "outputs": [],
   "source": [
    "chatWithInterpreter(\"start mission control\")"
   ]
  },
  {
   "cell_type": "code",
   "execution_count": null,
   "metadata": {},
   "outputs": [],
   "source": [
    "chatWithInterpreter(\"mute the volume\")"
   ]
  },
  {
   "cell_type": "code",
   "execution_count": null,
   "metadata": {},
   "outputs": [],
   "source": [
    "chatWithInterpreter(\"send an email to jimmy about our meeting on friday\") # wont work without os mode in python"
   ]
  }
 ],
 "metadata": {
  "kernelspec": {
   "display_name": "oi",
   "language": "python",
   "name": "python3"
  },
  "language_info": {
   "codemirror_mode": {
    "name": "ipython",
    "version": 3
   },
   "file_extension": ".py",
   "mimetype": "text/x-python",
   "name": "python",
   "nbconvert_exporter": "python",
   "pygments_lexer": "ipython3",
   "version": "3.1.undefined"
  }
 },
 "nbformat": 4,
 "nbformat_minor": 2
}
